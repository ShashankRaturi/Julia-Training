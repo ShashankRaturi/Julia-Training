{
 "cells": [
  {
   "cell_type": "markdown",
   "metadata": {},
   "source": [
    "# Armstrong Number"
   ]
  },
  {
   "cell_type": "code",
   "execution_count": 11,
   "metadata": {},
   "outputs": [
    {
     "name": "stdout",
     "output_type": "stream",
     "text": [
      "stdin> 1634\n",
      "Armstrong"
     ]
    }
   ],
   "source": [
    "num = parse(Int64 , readline())\n",
    "num1 = num\n",
    "sum = 0\n",
    "lengthOfNum = 0\n",
    "while(num1 > 0)\n",
    "    num1 = fld(num1 , 10)\n",
    "    lengthOfNum += 1\n",
    "end\n",
    "\n",
    "num1 = num\n",
    "while(num1 > 0)\n",
    "    remainder = rem(num1 , 10)\n",
    "    sum = sum + (remainder^lengthOfNum)\n",
    "    num1 = fld(num1 , 10)\n",
    "end\n",
    "\n",
    "if(sum == num)\n",
    "    print(\"Armstrong\")\n",
    "else\n",
    "    print(\"Not Armstrong\")\n",
    "end\n"
   ]
  },
  {
   "cell_type": "markdown",
   "metadata": {},
   "source": [
    "# Pizza Delivery App"
   ]
  },
  {
   "cell_type": "code",
   "execution_count": 12,
   "metadata": {},
   "outputs": [
    {
     "name": "stdout",
     "output_type": "stream",
     "text": [
      "Enter 1 for Admin PanelENter 2 for Customer Panelstdin> 2\n",
      "Enter 1 for Login\n",
      "Enter 2 for Menu\n",
      "Enter 3 for Stock Management\n",
      "Enter 0 for logoutstdin> 1\n",
      "Enter Name: stdin> Alpha\n",
      "Enter Name: "
     ]
    },
    {
     "ename": "LoadError",
     "evalue": "\u001b[91mInterruptException:\u001b[39m",
     "output_type": "error",
     "traceback": [
      "\u001b[91mInterruptException:\u001b[39m",
      "",
      "Stacktrace:",
      " [1] try_yieldto(::typeof(Base.ensure_rescheduled)) at .\\task.jl:656",
      " [2] wait at .\\task.jl:713 [inlined]",
      " [3] wait(::Base.GenericCondition{Base.Threads.SpinLock}) at .\\condition.jl:106",
      " [4] wait(::FileWatching._FDWatcher; readable::Bool, writable::Bool) at C:\\buildbot\\worker\\package_win64\\build\\usr\\share\\julia\\stdlib\\v1.5\\FileWatching\\src\\FileWatching.jl:529",
      " [5] wait at C:\\Users\\shash\\.julia\\packages\\ZMQ\\R3wSD\\src\\socket.jl:52 [inlined]",
      " [6] _recv!(::ZMQ.Socket, ::Base.RefValue{ZMQ._Message}) at C:\\Users\\shash\\.julia\\packages\\ZMQ\\R3wSD\\src\\comm.jl:75",
      " [7] recv(::ZMQ.Socket, ::Type{String}) at C:\\Users\\shash\\.julia\\packages\\ZMQ\\R3wSD\\src\\comm.jl:106",
      " [8] recv_ipython(::ZMQ.Socket) at C:\\Users\\shash\\.julia\\packages\\IJulia\\e8kqU\\src\\msg.jl:69",
      " [9] readprompt(::String; password::Bool) at C:\\Users\\shash\\.julia\\packages\\IJulia\\e8kqU\\src\\stdio.jl:202",
      " [10] readprompt at C:\\Users\\shash\\.julia\\packages\\IJulia\\e8kqU\\src\\stdio.jl:195 [inlined]",
      " [11] readline(::IJulia.IJuliaStdio{Base.PipeEndpoint}) at C:\\Users\\shash\\.julia\\packages\\IJulia\\e8kqU\\src\\stdio.jl:237",
      " [12] readline() at .\\io.jl:483",
      " [13] top-level scope at .\\In[12]:30",
      " [14] include_string(::Function, ::Module, ::String, ::String) at .\\loading.jl:1091"
     ]
    }
   ],
   "source": [
    "print(\"Enter 1 for Admin Panel\")\n",
    "print(\"ENter 2 for Customer Panel\")\n",
    "\n",
    "choice = parse(Int64 , readline())\n",
    "\n",
    "totalPizza = 15\n",
    "\n",
    "if choice == 1\n",
    "    print(\"Enter 1 for Login\\nEnter 2 for Menu\\nEnter 3 for Stock Management\\nEnter 0 for logout\")\n",
    "    choice = parse(Int64 , readline())\n",
    "    while choice != 0        \n",
    "        if choice == 1\n",
    "            print(\"Enter Name: \")\n",
    "            adminName = readline()\n",
    "        elseif choice == 2\n",
    "            print(\"The menu...........\")\n",
    "        elseif choice == 3\n",
    "            print(\"Enter the pizza you want to add\")\n",
    "            newPizza = parse(Int64 , readline())\n",
    "            totalPizza += newPizza\n",
    "        print(\"Enter 1 for Login\\nEnter 2 for Menu\\nEnter 3 for Stock Management\\nEnter 0 for logout\")\n",
    "        choice = parse(Int64 , readline())\n",
    "        end\n",
    "    end\n",
    "    \n",
    "elseif choice == 2\n",
    "    print(\"Enter 1 for Login\\nEnter 2 for Menu\\nEnter 3 for Stock Management\\nEnter 0 for logout\")\n",
    "    choice = parse(Int64 , readline())\n",
    "    while choice != 0        \n",
    "        if choice == 1\n",
    "            print(\"Enter Name: \")\n",
    "            adminName = readline()\n",
    "        elseif choice == 2\n",
    "            print(\"The menu...........\")\n",
    "        elseif choice == 3\n",
    "            print(\"Enter the pizza you want to buy\")\n",
    "            newPizza = parse(Int64 , readline())\n",
    "            totalPizza -= newPizza\n",
    "        print(\"Enter 1 for Login\\nEnter 2 for Menu\\nEnter 3 for Stock Management\\nEnter 0 for logout\")\n",
    "        choice = parse(Int64 , readline())\n",
    "        end\n",
    "    end\n",
    "end            "
   ]
  },
  {
   "cell_type": "markdown",
   "metadata": {},
   "source": [
    "# Array\n"
   ]
  },
  {
   "cell_type": "markdown",
   "metadata": {},
   "source": [
    "1-d array"
   ]
  },
  {
   "cell_type": "code",
   "execution_count": 1,
   "metadata": {},
   "outputs": [
    {
     "name": "stdout",
     "output_type": "stream",
     "text": [
      "Array{Int64,1}"
     ]
    }
   ],
   "source": [
    "graphics = [1 , 6 , 7]\n",
    "print(typeof(graphics))"
   ]
  },
  {
   "cell_type": "code",
   "execution_count": 2,
   "metadata": {},
   "outputs": [
    {
     "name": "stdout",
     "output_type": "stream",
     "text": [
      "Array{String,1}"
     ]
    }
   ],
   "source": [
    "newArr = [\"farman\" , \"julia\"]\n",
    "print(typeof(newArr))"
   ]
  },
  {
   "cell_type": "markdown",
   "metadata": {},
   "source": [
    "Uninitialized array"
   ]
  },
  {
   "cell_type": "code",
   "execution_count": null,
   "metadata": {},
   "outputs": [],
   "source": []
  },
  {
   "cell_type": "code",
   "execution_count": 5,
   "metadata": {},
   "outputs": [
    {
     "ename": "LoadError",
     "evalue": "\u001b[91msyntax: unexpected semicolon in array expression around In[5]:1\u001b[39m",
     "output_type": "error",
     "traceback": [
      "\u001b[91msyntax: unexpected semicolon in array expression around In[5]:1\u001b[39m",
      "",
      "Stacktrace:",
      " [1] top-level scope at In[5]:1",
      " [2] include_string(::Function, ::Module, ::String, ::String) at .\\loading.jl:1091"
     ]
    }
   ],
   "source": [
    "graph = [1 , 3;9 , 3]\n",
    "print(graph)"
   ]
  },
  {
   "cell_type": "code",
   "execution_count": 4,
   "metadata": {},
   "outputs": [
    {
     "name": "stdout",
     "output_type": "stream",
     "text": [
      "Array{Int64,1}"
     ]
    }
   ],
   "source": [
    "print(typeof(graph))"
   ]
  },
  {
   "cell_type": "markdown",
   "metadata": {},
   "source": [
    "Collect() and range() function for creating array"
   ]
  },
  {
   "cell_type": "code",
   "execution_count": 15,
   "metadata": {},
   "outputs": [
    {
     "name": "stdout",
     "output_type": "stream",
     "text": [
      "[1, 4, 7, 10, 13, 16, 19, 22, 25, 28]\n",
      "1.0:2.111111111111111:20.0"
     ]
    }
   ],
   "source": [
    "arr1 = collect(1 : 3 : 30)\n",
    "print(arr1)\n",
    "\n",
    "arr2 = range(1 , length = 10 ,stop =  20)\n",
    "print(\"\\n\",arr2)"
   ]
  },
  {
   "cell_type": "code",
   "execution_count": 18,
   "metadata": {},
   "outputs": [
    {
     "name": "stdout",
     "output_type": "stream",
     "text": [
      "1.0\n",
      "3.111111111111111\n",
      "5.222222222222222\n",
      "7.333333333333333\n",
      "9.444444444444445\n",
      "11.555555555555555\n",
      "13.666666666666666\n",
      "15.777777777777779\n",
      "17.88888888888889\n",
      "20.0\n"
     ]
    }
   ],
   "source": [
    "for i in arr2\n",
    "    print(i, \"\\n\")\n",
    "end"
   ]
  },
  {
   "cell_type": "markdown",
   "metadata": {},
   "source": [
    "# Populating an array"
   ]
  },
  {
   "cell_type": "markdown",
   "metadata": {},
   "source": [
    "zeros(datatype , row , column)\n",
    "ones(datatype , row , column)\n",
    "rand(row , column)"
   ]
  },
  {
   "cell_type": "code",
   "execution_count": 19,
   "metadata": {},
   "outputs": [
    {
     "data": {
      "text/plain": [
       "5×3 Array{Int64,2}:\n",
       " 0  0  0\n",
       " 0  0  0\n",
       " 0  0  0\n",
       " 0  0  0\n",
       " 0  0  0"
      ]
     },
     "execution_count": 19,
     "metadata": {},
     "output_type": "execute_result"
    }
   ],
   "source": [
    "arr3 = zeros(Int64 , 5 , 3)"
   ]
  },
  {
   "cell_type": "code",
   "execution_count": 20,
   "metadata": {},
   "outputs": [
    {
     "data": {
      "text/plain": [
       "5×3 Array{Int64,2}:\n",
       " 1  1  1\n",
       " 1  1  1\n",
       " 1  1  1\n",
       " 1  1  1\n",
       " 1  1  1"
      ]
     },
     "execution_count": 20,
     "metadata": {},
     "output_type": "execute_result"
    }
   ],
   "source": [
    "arr3 = ones(Int64 , 5 , 3)"
   ]
  },
  {
   "cell_type": "code",
   "execution_count": 25,
   "metadata": {},
   "outputs": [
    {
     "name": "stdout",
     "output_type": "stream",
     "text": [
      "[10 10; 10 13]"
     ]
    }
   ],
   "source": [
    "arr1 = [1 3;4 6]\n",
    "arr2 = [9 7;6 7]\n",
    "arr3 = arr1 + arr2\n",
    "print(arr3)"
   ]
  },
  {
   "cell_type": "markdown",
   "metadata": {},
   "source": [
    "push and pop"
   ]
  },
  {
   "cell_type": "code",
   "execution_count": 26,
   "metadata": {},
   "outputs": [
    {
     "data": {
      "text/plain": [
       "5-element Array{Int64,1}:\n",
       " 2\n",
       " 7\n",
       " 9\n",
       " 0\n",
       " 6"
      ]
     },
     "execution_count": 26,
     "metadata": {},
     "output_type": "execute_result"
    }
   ],
   "source": [
    "arr1 = [2 , 7 , 9 , 0]\n",
    "push!(arr1 , 6)"
   ]
  },
  {
   "cell_type": "code",
   "execution_count": 27,
   "metadata": {},
   "outputs": [
    {
     "data": {
      "text/plain": [
       "6-element Array{Int64,1}:\n",
       " 11\n",
       "  2\n",
       "  7\n",
       "  9\n",
       "  0\n",
       "  6"
      ]
     },
     "execution_count": 27,
     "metadata": {},
     "output_type": "execute_result"
    }
   ],
   "source": [
    "pushfirst!(arr1 , 11)"
   ]
  },
  {
   "cell_type": "code",
   "execution_count": 28,
   "metadata": {},
   "outputs": [
    {
     "data": {
      "text/plain": [
       "6"
      ]
     },
     "execution_count": 28,
     "metadata": {},
     "output_type": "execute_result"
    }
   ],
   "source": [
    "pop!(arr1)"
   ]
  },
  {
   "cell_type": "code",
   "execution_count": 29,
   "metadata": {},
   "outputs": [
    {
     "name": "stdout",
     "output_type": "stream",
     "text": [
      "[11, 2, 7, 9, 0]"
     ]
    }
   ],
   "source": [
    "print(arr1)"
   ]
  },
  {
   "cell_type": "code",
   "execution_count": 30,
   "metadata": {},
   "outputs": [
    {
     "data": {
      "text/plain": [
       "11"
      ]
     },
     "execution_count": 30,
     "metadata": {},
     "output_type": "execute_result"
    }
   ],
   "source": [
    "popfirst!(arr1)"
   ]
  },
  {
   "cell_type": "code",
   "execution_count": 31,
   "metadata": {},
   "outputs": [
    {
     "name": "stdout",
     "output_type": "stream",
     "text": [
      "[2, 7, 9, 0]"
     ]
    }
   ],
   "source": [
    "print(arr1)"
   ]
  },
  {
   "cell_type": "markdown",
   "metadata": {},
   "source": [
    "splice(array_name , index) -> to remove element from particular index"
   ]
  },
  {
   "cell_type": "code",
   "execution_count": 37,
   "metadata": {},
   "outputs": [
    {
     "name": "stdout",
     "output_type": "stream",
     "text": [
      "[7, 9]\n",
      "[11, 7, 9, 6]\n",
      "[11, 7, 6]"
     ]
    }
   ],
   "source": [
    "arr1 = [2 , 7 , 9 , 0]\n",
    "pop!(arr1)\n",
    "popfirst!(arr1)\n",
    "print(arr1)\n",
    "push!(arr1 , 6)\n",
    "pushfirst!(arr1 , 11)\n",
    "print(\"\\n\" , arr1)\n",
    "splice!(arr1 , 3)\n",
    "print(\"\\n\" , arr1)"
   ]
  },
  {
   "cell_type": "markdown",
   "metadata": {},
   "source": [
    "finding square root"
   ]
  },
  {
   "cell_type": "code",
   "execution_count": 38,
   "metadata": {},
   "outputs": [
    {
     "name": "stdout",
     "output_type": "stream",
     "text": [
      "8.0"
     ]
    }
   ],
   "source": [
    "print(sqrt(64))"
   ]
  },
  {
   "cell_type": "code",
   "execution_count": 39,
   "metadata": {},
   "outputs": [
    {
     "data": {
      "text/plain": [
       "8.0"
      ]
     },
     "execution_count": 39,
     "metadata": {},
     "output_type": "execute_result"
    }
   ],
   "source": [
    "a = 64\n",
    "a^0.5"
   ]
  },
  {
   "cell_type": "markdown",
   "metadata": {},
   "source": [
    "cube root"
   ]
  },
  {
   "cell_type": "code",
   "execution_count": 42,
   "metadata": {},
   "outputs": [
    {
     "data": {
      "text/plain": [
       "5.0"
      ]
     },
     "execution_count": 42,
     "metadata": {},
     "output_type": "execute_result"
    }
   ],
   "source": [
    "cbrt(125)"
   ]
  },
  {
   "cell_type": "markdown",
   "metadata": {},
   "source": [
    "remainder"
   ]
  },
  {
   "cell_type": "code",
   "execution_count": 43,
   "metadata": {},
   "outputs": [
    {
     "data": {
      "text/plain": [
       "3"
      ]
     },
     "execution_count": 43,
     "metadata": {},
     "output_type": "execute_result"
    }
   ],
   "source": [
    "rem(153 , 10)"
   ]
  },
  {
   "cell_type": "markdown",
   "metadata": {},
   "source": [
    "greatest common divisor"
   ]
  },
  {
   "cell_type": "code",
   "execution_count": 44,
   "metadata": {},
   "outputs": [
    {
     "data": {
      "text/plain": [
       "5"
      ]
     },
     "execution_count": 44,
     "metadata": {},
     "output_type": "execute_result"
    }
   ],
   "source": [
    "gcd(10 , 15)"
   ]
  },
  {
   "cell_type": "code",
   "execution_count": null,
   "metadata": {},
   "outputs": [],
   "source": []
  }
 ],
 "metadata": {
  "kernelspec": {
   "display_name": "Julia 1.5.4",
   "language": "julia",
   "name": "julia-1.5"
  },
  "language_info": {
   "file_extension": ".jl",
   "mimetype": "application/julia",
   "name": "julia",
   "version": "1.5.4"
  }
 },
 "nbformat": 4,
 "nbformat_minor": 2
}
