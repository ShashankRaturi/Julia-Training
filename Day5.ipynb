{
 "cells": [
  {
   "cell_type": "code",
   "execution_count": 1,
   "metadata": {},
   "outputs": [],
   "source": [
    "using Pkg"
   ]
  },
  {
   "cell_type": "code",
   "execution_count": 2,
   "metadata": {},
   "outputs": [
    {
     "name": "stderr",
     "output_type": "stream",
     "text": [
      "\u001b[32m\u001b[1m   Updating\u001b[22m\u001b[39m registry at `C:\\Users\\shash\\.julia\\registries\\General`\n",
      "\u001b[32m\u001b[1m  Resolving\u001b[22m\u001b[39m package versions...\n",
      "\u001b[32m\u001b[1mNo Changes\u001b[22m\u001b[39m to `C:\\Users\\shash\\.julia\\environments\\v1.5\\Project.toml`\n",
      "\u001b[32m\u001b[1mNo Changes\u001b[22m\u001b[39m to `C:\\Users\\shash\\.julia\\environments\\v1.5\\Manifest.toml`\n",
      "\u001b[32m\u001b[1m  Resolving\u001b[22m\u001b[39m package versions...\n",
      "\u001b[32m\u001b[1mNo Changes\u001b[22m\u001b[39m to `C:\\Users\\shash\\.julia\\environments\\v1.5\\Project.toml`\n",
      "\u001b[32m\u001b[1mNo Changes\u001b[22m\u001b[39m to `C:\\Users\\shash\\.julia\\environments\\v1.5\\Manifest.toml`\n"
     ]
    }
   ],
   "source": [
    "Pkg.add(\"CSV\")\n",
    "Pkg.add(\"DataFrames\")"
   ]
  },
  {
   "cell_type": "code",
   "execution_count": 3,
   "metadata": {},
   "outputs": [
    {
     "name": "stderr",
     "output_type": "stream",
     "text": [
      "┌ Info: Precompiling CSV [336ed68f-0bac-5ca0-87d4-7b16caf5d00b]\n",
      "└ @ Base loading.jl:1278\n"
     ]
    },
    {
     "data": {
      "text/html": [
       "<table class=\"data-frame\"><thead><tr><th></th><th>sepal_length</th><th>sepal_width</th><th>petal_length</th><th>petal_width</th><th>species</th></tr><tr><th></th><th>Float64</th><th>Float64</th><th>Float64</th><th>Float64</th><th>String</th></tr></thead><tbody><p>150 rows × 5 columns</p><tr><th>1</th><td>5.1</td><td>3.5</td><td>1.4</td><td>0.2</td><td>setosa</td></tr><tr><th>2</th><td>4.9</td><td>3.0</td><td>1.4</td><td>0.2</td><td>setosa</td></tr><tr><th>3</th><td>4.7</td><td>3.2</td><td>1.3</td><td>0.2</td><td>setosa</td></tr><tr><th>4</th><td>4.6</td><td>3.1</td><td>1.5</td><td>0.2</td><td>setosa</td></tr><tr><th>5</th><td>5.0</td><td>3.6</td><td>1.4</td><td>0.2</td><td>setosa</td></tr><tr><th>6</th><td>5.4</td><td>3.9</td><td>1.7</td><td>0.4</td><td>setosa</td></tr><tr><th>7</th><td>4.6</td><td>3.4</td><td>1.4</td><td>0.3</td><td>setosa</td></tr><tr><th>8</th><td>5.0</td><td>3.4</td><td>1.5</td><td>0.2</td><td>setosa</td></tr><tr><th>9</th><td>4.4</td><td>2.9</td><td>1.4</td><td>0.2</td><td>setosa</td></tr><tr><th>10</th><td>4.9</td><td>3.1</td><td>1.5</td><td>0.1</td><td>setosa</td></tr><tr><th>11</th><td>5.4</td><td>3.7</td><td>1.5</td><td>0.2</td><td>setosa</td></tr><tr><th>12</th><td>4.8</td><td>3.4</td><td>1.6</td><td>0.2</td><td>setosa</td></tr><tr><th>13</th><td>4.8</td><td>3.0</td><td>1.4</td><td>0.1</td><td>setosa</td></tr><tr><th>14</th><td>4.3</td><td>3.0</td><td>1.1</td><td>0.1</td><td>setosa</td></tr><tr><th>15</th><td>5.8</td><td>4.0</td><td>1.2</td><td>0.2</td><td>setosa</td></tr><tr><th>16</th><td>5.7</td><td>4.4</td><td>1.5</td><td>0.4</td><td>setosa</td></tr><tr><th>17</th><td>5.4</td><td>3.9</td><td>1.3</td><td>0.4</td><td>setosa</td></tr><tr><th>18</th><td>5.1</td><td>3.5</td><td>1.4</td><td>0.3</td><td>setosa</td></tr><tr><th>19</th><td>5.7</td><td>3.8</td><td>1.7</td><td>0.3</td><td>setosa</td></tr><tr><th>20</th><td>5.1</td><td>3.8</td><td>1.5</td><td>0.3</td><td>setosa</td></tr><tr><th>21</th><td>5.4</td><td>3.4</td><td>1.7</td><td>0.2</td><td>setosa</td></tr><tr><th>22</th><td>5.1</td><td>3.7</td><td>1.5</td><td>0.4</td><td>setosa</td></tr><tr><th>23</th><td>4.6</td><td>3.6</td><td>1.0</td><td>0.2</td><td>setosa</td></tr><tr><th>24</th><td>5.1</td><td>3.3</td><td>1.7</td><td>0.5</td><td>setosa</td></tr><tr><th>25</th><td>4.8</td><td>3.4</td><td>1.9</td><td>0.2</td><td>setosa</td></tr><tr><th>26</th><td>5.0</td><td>3.0</td><td>1.6</td><td>0.2</td><td>setosa</td></tr><tr><th>27</th><td>5.0</td><td>3.4</td><td>1.6</td><td>0.4</td><td>setosa</td></tr><tr><th>28</th><td>5.2</td><td>3.5</td><td>1.5</td><td>0.2</td><td>setosa</td></tr><tr><th>29</th><td>5.2</td><td>3.4</td><td>1.4</td><td>0.2</td><td>setosa</td></tr><tr><th>30</th><td>4.7</td><td>3.2</td><td>1.6</td><td>0.2</td><td>setosa</td></tr><tr><th>&vellip;</th><td>&vellip;</td><td>&vellip;</td><td>&vellip;</td><td>&vellip;</td><td>&vellip;</td></tr></tbody></table>"
      ],
      "text/latex": [
       "\\begin{tabular}{r|ccccc}\n",
       "\t& sepal\\_length & sepal\\_width & petal\\_length & petal\\_width & species\\\\\n",
       "\t\\hline\n",
       "\t& Float64 & Float64 & Float64 & Float64 & String\\\\\n",
       "\t\\hline\n",
       "\t1 & 5.1 & 3.5 & 1.4 & 0.2 & setosa \\\\\n",
       "\t2 & 4.9 & 3.0 & 1.4 & 0.2 & setosa \\\\\n",
       "\t3 & 4.7 & 3.2 & 1.3 & 0.2 & setosa \\\\\n",
       "\t4 & 4.6 & 3.1 & 1.5 & 0.2 & setosa \\\\\n",
       "\t5 & 5.0 & 3.6 & 1.4 & 0.2 & setosa \\\\\n",
       "\t6 & 5.4 & 3.9 & 1.7 & 0.4 & setosa \\\\\n",
       "\t7 & 4.6 & 3.4 & 1.4 & 0.3 & setosa \\\\\n",
       "\t8 & 5.0 & 3.4 & 1.5 & 0.2 & setosa \\\\\n",
       "\t9 & 4.4 & 2.9 & 1.4 & 0.2 & setosa \\\\\n",
       "\t10 & 4.9 & 3.1 & 1.5 & 0.1 & setosa \\\\\n",
       "\t11 & 5.4 & 3.7 & 1.5 & 0.2 & setosa \\\\\n",
       "\t12 & 4.8 & 3.4 & 1.6 & 0.2 & setosa \\\\\n",
       "\t13 & 4.8 & 3.0 & 1.4 & 0.1 & setosa \\\\\n",
       "\t14 & 4.3 & 3.0 & 1.1 & 0.1 & setosa \\\\\n",
       "\t15 & 5.8 & 4.0 & 1.2 & 0.2 & setosa \\\\\n",
       "\t16 & 5.7 & 4.4 & 1.5 & 0.4 & setosa \\\\\n",
       "\t17 & 5.4 & 3.9 & 1.3 & 0.4 & setosa \\\\\n",
       "\t18 & 5.1 & 3.5 & 1.4 & 0.3 & setosa \\\\\n",
       "\t19 & 5.7 & 3.8 & 1.7 & 0.3 & setosa \\\\\n",
       "\t20 & 5.1 & 3.8 & 1.5 & 0.3 & setosa \\\\\n",
       "\t21 & 5.4 & 3.4 & 1.7 & 0.2 & setosa \\\\\n",
       "\t22 & 5.1 & 3.7 & 1.5 & 0.4 & setosa \\\\\n",
       "\t23 & 4.6 & 3.6 & 1.0 & 0.2 & setosa \\\\\n",
       "\t24 & 5.1 & 3.3 & 1.7 & 0.5 & setosa \\\\\n",
       "\t25 & 4.8 & 3.4 & 1.9 & 0.2 & setosa \\\\\n",
       "\t26 & 5.0 & 3.0 & 1.6 & 0.2 & setosa \\\\\n",
       "\t27 & 5.0 & 3.4 & 1.6 & 0.4 & setosa \\\\\n",
       "\t28 & 5.2 & 3.5 & 1.5 & 0.2 & setosa \\\\\n",
       "\t29 & 5.2 & 3.4 & 1.4 & 0.2 & setosa \\\\\n",
       "\t30 & 4.7 & 3.2 & 1.6 & 0.2 & setosa \\\\\n",
       "\t$\\dots$ & $\\dots$ & $\\dots$ & $\\dots$ & $\\dots$ & $\\dots$ \\\\\n",
       "\\end{tabular}\n"
      ],
      "text/plain": [
       "\u001b[1m150×5 DataFrame\u001b[0m\n",
       "\u001b[1m Row \u001b[0m│\u001b[1m sepal_length \u001b[0m\u001b[1m sepal_width \u001b[0m\u001b[1m petal_length \u001b[0m\u001b[1m petal_width \u001b[0m\u001b[1m species   \u001b[0m\n",
       "\u001b[1m     \u001b[0m│\u001b[90m Float64      \u001b[0m\u001b[90m Float64     \u001b[0m\u001b[90m Float64      \u001b[0m\u001b[90m Float64     \u001b[0m\u001b[90m String    \u001b[0m\n",
       "─────┼─────────────────────────────────────────────────────────────────\n",
       "   1 │          5.1          3.5           1.4          0.2  setosa\n",
       "   2 │          4.9          3.0           1.4          0.2  setosa\n",
       "   3 │          4.7          3.2           1.3          0.2  setosa\n",
       "   4 │          4.6          3.1           1.5          0.2  setosa\n",
       "   5 │          5.0          3.6           1.4          0.2  setosa\n",
       "   6 │          5.4          3.9           1.7          0.4  setosa\n",
       "   7 │          4.6          3.4           1.4          0.3  setosa\n",
       "   8 │          5.0          3.4           1.5          0.2  setosa\n",
       "   9 │          4.4          2.9           1.4          0.2  setosa\n",
       "  10 │          4.9          3.1           1.5          0.1  setosa\n",
       "  11 │          5.4          3.7           1.5          0.2  setosa\n",
       "  ⋮  │      ⋮             ⋮            ⋮             ⋮           ⋮\n",
       " 141 │          6.7          3.1           5.6          2.4  virginica\n",
       " 142 │          6.9          3.1           5.1          2.3  virginica\n",
       " 143 │          5.8          2.7           5.1          1.9  virginica\n",
       " 144 │          6.8          3.2           5.9          2.3  virginica\n",
       " 145 │          6.7          3.3           5.7          2.5  virginica\n",
       " 146 │          6.7          3.0           5.2          2.3  virginica\n",
       " 147 │          6.3          2.5           5.0          1.9  virginica\n",
       " 148 │          6.5          3.0           5.2          2.0  virginica\n",
       " 149 │          6.2          3.4           5.4          2.3  virginica\n",
       " 150 │          5.9          3.0           5.1          1.8  virginica\n",
       "\u001b[36m                                                       129 rows omitted\u001b[0m"
      ]
     },
     "execution_count": 3,
     "metadata": {},
     "output_type": "execute_result"
    }
   ],
   "source": [
    "using CSV\n",
    "using DataFrames\n",
    "\n",
    "iris = CSV.read(\"iris.csv\" , DataFrame)"
   ]
  },
  {
   "cell_type": "code",
   "execution_count": 6,
   "metadata": {},
   "outputs": [
    {
     "name": "stdout",
     "output_type": "stream",
     "text": [
      "typeof(iris) = DataFrame\n"
     ]
    },
    {
     "data": {
      "text/plain": [
       "DataFrame"
      ]
     },
     "execution_count": 6,
     "metadata": {},
     "output_type": "execute_result"
    }
   ],
   "source": [
    "@show typeof(iris)"
   ]
  },
  {
   "cell_type": "code",
   "execution_count": 23,
   "metadata": {},
   "outputs": [
    {
     "data": {
      "text/html": [
       "<table class=\"data-frame\"><thead><tr><th></th><th>sepal_length</th><th>sepal_width</th><th>petal_length</th></tr><tr><th></th><th>Float64</th><th>Float64</th><th>Float64</th></tr></thead><tbody><p>4 rows × 3 columns</p><tr><th>1</th><td>5.1</td><td>3.5</td><td>1.4</td></tr><tr><th>2</th><td>4.9</td><td>3.0</td><td>1.4</td></tr><tr><th>3</th><td>4.7</td><td>3.2</td><td>1.3</td></tr><tr><th>4</th><td>4.6</td><td>3.1</td><td>1.5</td></tr></tbody></table>"
      ],
      "text/latex": [
       "\\begin{tabular}{r|ccc}\n",
       "\t& sepal\\_length & sepal\\_width & petal\\_length\\\\\n",
       "\t\\hline\n",
       "\t& Float64 & Float64 & Float64\\\\\n",
       "\t\\hline\n",
       "\t1 & 5.1 & 3.5 & 1.4 \\\\\n",
       "\t2 & 4.9 & 3.0 & 1.4 \\\\\n",
       "\t3 & 4.7 & 3.2 & 1.3 \\\\\n",
       "\t4 & 4.6 & 3.1 & 1.5 \\\\\n",
       "\\end{tabular}\n"
      ],
      "text/plain": [
       "\u001b[1m4×3 DataFrame\u001b[0m\n",
       "\u001b[1m Row \u001b[0m│\u001b[1m sepal_length \u001b[0m\u001b[1m sepal_width \u001b[0m\u001b[1m petal_length \u001b[0m\n",
       "\u001b[1m     \u001b[0m│\u001b[90m Float64      \u001b[0m\u001b[90m Float64     \u001b[0m\u001b[90m Float64      \u001b[0m\n",
       "─────┼─────────────────────────────────────────\n",
       "   1 │          5.1          3.5           1.4\n",
       "   2 │          4.9          3.0           1.4\n",
       "   3 │          4.7          3.2           1.3\n",
       "   4 │          4.6          3.1           1.5"
      ]
     },
     "execution_count": 23,
     "metadata": {},
     "output_type": "execute_result"
    }
   ],
   "source": [
    "iris[1:4,1:3]"
   ]
  },
  {
   "cell_type": "code",
   "execution_count": 24,
   "metadata": {},
   "outputs": [
    {
     "data": {
      "text/plain": [
       "150-element PooledArrays.PooledArray{String,UInt32,1,Array{UInt32,1}}:\n",
       " \"setosa\"\n",
       " \"setosa\"\n",
       " \"setosa\"\n",
       " \"setosa\"\n",
       " \"setosa\"\n",
       " \"setosa\"\n",
       " \"setosa\"\n",
       " \"setosa\"\n",
       " \"setosa\"\n",
       " \"setosa\"\n",
       " \"setosa\"\n",
       " \"setosa\"\n",
       " \"setosa\"\n",
       " ⋮\n",
       " \"virginica\"\n",
       " \"virginica\"\n",
       " \"virginica\"\n",
       " \"virginica\"\n",
       " \"virginica\"\n",
       " \"virginica\"\n",
       " \"virginica\"\n",
       " \"virginica\"\n",
       " \"virginica\"\n",
       " \"virginica\"\n",
       " \"virginica\"\n",
       " \"virginica\""
      ]
     },
     "execution_count": 24,
     "metadata": {},
     "output_type": "execute_result"
    }
   ],
   "source": [
    "iris.species"
   ]
  },
  {
   "cell_type": "code",
   "execution_count": 25,
   "metadata": {},
   "outputs": [
    {
     "data": {
      "text/plain": [
       "150-element Array{Float64,1}:\n",
       " 5.1\n",
       " 4.9\n",
       " 4.7\n",
       " 4.6\n",
       " 5.0\n",
       " 5.4\n",
       " 4.6\n",
       " 5.0\n",
       " 4.4\n",
       " 4.9\n",
       " 5.4\n",
       " 4.8\n",
       " 4.8\n",
       " ⋮\n",
       " 6.0\n",
       " 6.9\n",
       " 6.7\n",
       " 6.9\n",
       " 5.8\n",
       " 6.8\n",
       " 6.7\n",
       " 6.7\n",
       " 6.3\n",
       " 6.5\n",
       " 6.2\n",
       " 5.9"
      ]
     },
     "execution_count": 25,
     "metadata": {},
     "output_type": "execute_result"
    }
   ],
   "source": [
    "iris.sepal_length"
   ]
  },
  {
   "cell_type": "code",
   "execution_count": 26,
   "metadata": {},
   "outputs": [
    {
     "data": {
      "text/plain": [
       "150-element Array{Float64,1}:\n",
       " 1.4\n",
       " 1.4\n",
       " 1.3\n",
       " 1.5\n",
       " 1.4\n",
       " 1.7\n",
       " 1.4\n",
       " 1.5\n",
       " 1.4\n",
       " 1.5\n",
       " 1.5\n",
       " 1.6\n",
       " 1.4\n",
       " ⋮\n",
       " 4.8\n",
       " 5.4\n",
       " 5.6\n",
       " 5.1\n",
       " 5.1\n",
       " 5.9\n",
       " 5.7\n",
       " 5.2\n",
       " 5.0\n",
       " 5.2\n",
       " 5.4\n",
       " 5.1"
      ]
     },
     "execution_count": 26,
     "metadata": {},
     "output_type": "execute_result"
    }
   ],
   "source": [
    "iris.petal_length"
   ]
  },
  {
   "cell_type": "code",
   "execution_count": 28,
   "metadata": {},
   "outputs": [
    {
     "data": {
      "text/html": [
       "<p>DataFrameRow (5 columns)</p><table class=\"data-frame\"><thead><tr><th></th><th>sepal_length</th><th>sepal_width</th><th>petal_length</th><th>petal_width</th><th>species</th></tr><tr><th></th><th>Float64</th><th>Float64</th><th>Float64</th><th>Float64</th><th>String</th></tr></thead><tbody><tr><th>20</th><td>5.1</td><td>3.8</td><td>1.5</td><td>0.3</td><td>setosa</td></tr></tbody></table>"
      ],
      "text/latex": [
       "\\begin{tabular}{r|ccccc}\n",
       "\t& sepal\\_length & sepal\\_width & petal\\_length & petal\\_width & species\\\\\n",
       "\t\\hline\n",
       "\t& Float64 & Float64 & Float64 & Float64 & String\\\\\n",
       "\t\\hline\n",
       "\t20 & 5.1 & 3.8 & 1.5 & 0.3 & setosa \\\\\n",
       "\\end{tabular}\n"
      ],
      "text/plain": [
       "\u001b[1mDataFrameRow\u001b[0m\n",
       "\u001b[1m Row \u001b[0m│\u001b[1m sepal_length \u001b[0m\u001b[1m sepal_width \u001b[0m\u001b[1m petal_length \u001b[0m\u001b[1m petal_width \u001b[0m\u001b[1m species \u001b[0m\n",
       "\u001b[1m     \u001b[0m│\u001b[90m Float64      \u001b[0m\u001b[90m Float64     \u001b[0m\u001b[90m Float64      \u001b[0m\u001b[90m Float64     \u001b[0m\u001b[90m String  \u001b[0m\n",
       "─────┼───────────────────────────────────────────────────────────────\n",
       "  20 │          5.1          3.8           1.5          0.3  setosa"
      ]
     },
     "execution_count": 28,
     "metadata": {},
     "output_type": "execute_result"
    }
   ],
   "source": [
    "iris[:20 , :]"
   ]
  },
  {
   "cell_type": "code",
   "execution_count": 30,
   "metadata": {},
   "outputs": [
    {
     "data": {
      "text/plain": [
       "PooledArrays.PooledArray{String,UInt32,1,Array{UInt32,1}}"
      ]
     },
     "execution_count": 30,
     "metadata": {},
     "output_type": "execute_result"
    }
   ],
   "source": [
    "typeof(iris.species)"
   ]
  },
  {
   "cell_type": "code",
   "execution_count": 31,
   "metadata": {},
   "outputs": [
    {
     "data": {
      "text/plain": [
       "Array{Float64,1}"
      ]
     },
     "execution_count": 31,
     "metadata": {},
     "output_type": "execute_result"
    }
   ],
   "source": [
    "typeof(iris.petal_length)"
   ]
  },
  {
   "cell_type": "code",
   "execution_count": 33,
   "metadata": {},
   "outputs": [
    {
     "data": {
      "text/plain": [
       "Array{Float64,1}"
      ]
     },
     "execution_count": 33,
     "metadata": {},
     "output_type": "execute_result"
    }
   ],
   "source": [
    "typeof(iris.petal_width)"
   ]
  },
  {
   "cell_type": "code",
   "execution_count": 34,
   "metadata": {},
   "outputs": [
    {
     "data": {
      "text/plain": [
       "Array{Float64,1}"
      ]
     },
     "execution_count": 34,
     "metadata": {},
     "output_type": "execute_result"
    }
   ],
   "source": [
    "typeof(iris.sepal_length)"
   ]
  },
  {
   "cell_type": "code",
   "execution_count": 35,
   "metadata": {},
   "outputs": [
    {
     "data": {
      "text/plain": [
       "Array{Float64,1}"
      ]
     },
     "execution_count": 35,
     "metadata": {},
     "output_type": "execute_result"
    }
   ],
   "source": [
    "typeof(iris.sepal_width)"
   ]
  },
  {
   "cell_type": "code",
   "execution_count": 36,
   "metadata": {},
   "outputs": [
    {
     "data": {
      "text/html": [
       "<table class=\"data-frame\"><thead><tr><th></th><th>variable</th><th>mean</th><th>min</th><th>median</th><th>max</th><th>nmissing</th><th>eltype</th></tr><tr><th></th><th>Symbol</th><th>Union…</th><th>Any</th><th>Union…</th><th>Any</th><th>Int64</th><th>DataType</th></tr></thead><tbody><p>5 rows × 7 columns</p><tr><th>1</th><td>sepal_length</td><td>5.84333</td><td>4.3</td><td>5.8</td><td>7.9</td><td>0</td><td>Float64</td></tr><tr><th>2</th><td>sepal_width</td><td>3.05733</td><td>2.0</td><td>3.0</td><td>4.4</td><td>0</td><td>Float64</td></tr><tr><th>3</th><td>petal_length</td><td>3.758</td><td>1.0</td><td>4.35</td><td>6.9</td><td>0</td><td>Float64</td></tr><tr><th>4</th><td>petal_width</td><td>1.19933</td><td>0.1</td><td>1.3</td><td>2.5</td><td>0</td><td>Float64</td></tr><tr><th>5</th><td>species</td><td></td><td>setosa</td><td></td><td>virginica</td><td>0</td><td>String</td></tr></tbody></table>"
      ],
      "text/latex": [
       "\\begin{tabular}{r|ccccccc}\n",
       "\t& variable & mean & min & median & max & nmissing & eltype\\\\\n",
       "\t\\hline\n",
       "\t& Symbol & Union… & Any & Union… & Any & Int64 & DataType\\\\\n",
       "\t\\hline\n",
       "\t1 & sepal\\_length & 5.84333 & 4.3 & 5.8 & 7.9 & 0 & Float64 \\\\\n",
       "\t2 & sepal\\_width & 3.05733 & 2.0 & 3.0 & 4.4 & 0 & Float64 \\\\\n",
       "\t3 & petal\\_length & 3.758 & 1.0 & 4.35 & 6.9 & 0 & Float64 \\\\\n",
       "\t4 & petal\\_width & 1.19933 & 0.1 & 1.3 & 2.5 & 0 & Float64 \\\\\n",
       "\t5 & species &  & setosa &  & virginica & 0 & String \\\\\n",
       "\\end{tabular}\n"
      ],
      "text/plain": [
       "\u001b[1m5×7 DataFrame\u001b[0m\n",
       "\u001b[1m Row \u001b[0m│\u001b[1m variable     \u001b[0m\u001b[1m mean    \u001b[0m\u001b[1m min    \u001b[0m\u001b[1m median \u001b[0m\u001b[1m max       \u001b[0m\u001b[1m nmissing \u001b[0m\u001b[1m eltype   \u001b[0m\n",
       "\u001b[1m     \u001b[0m│\u001b[90m Symbol       \u001b[0m\u001b[90m Union…  \u001b[0m\u001b[90m Any    \u001b[0m\u001b[90m Union… \u001b[0m\u001b[90m Any       \u001b[0m\u001b[90m Int64    \u001b[0m\u001b[90m DataType \u001b[0m\n",
       "─────┼──────────────────────────────────────────────────────────────────────\n",
       "   1 │ sepal_length  5.84333  4.3     5.8     7.9               0  Float64\n",
       "   2 │ sepal_width   3.05733  2.0     3.0     4.4               0  Float64\n",
       "   3 │ petal_length  3.758    1.0     4.35    6.9               0  Float64\n",
       "   4 │ petal_width   1.19933  0.1     1.3     2.5               0  Float64\n",
       "   5 │ species      \u001b[90m         \u001b[0m setosa \u001b[90m        \u001b[0m virginica         0  String"
      ]
     },
     "execution_count": 36,
     "metadata": {},
     "output_type": "execute_result"
    }
   ],
   "source": [
    "describe(iris)"
   ]
  },
  {
   "cell_type": "code",
   "execution_count": 37,
   "metadata": {},
   "outputs": [
    {
     "data": {
      "text/plain": [
       "(150, 5)"
      ]
     },
     "execution_count": 37,
     "metadata": {},
     "output_type": "execute_result"
    }
   ],
   "source": [
    "size(iris)"
   ]
  },
  {
   "cell_type": "code",
   "execution_count": 40,
   "metadata": {},
   "outputs": [
    {
     "data": {
      "text/html": [
       "<p>DataFrameRow (5 columns)</p><table class=\"data-frame\"><thead><tr><th></th><th>sepal_length</th><th>sepal_width</th><th>petal_length</th><th>petal_width</th><th>species</th></tr><tr><th></th><th>Float64</th><th>Float64</th><th>Float64</th><th>Float64</th><th>String</th></tr></thead><tbody><tr><th>1</th><td>5.1</td><td>3.5</td><td>1.4</td><td>0.2</td><td>setosa</td></tr></tbody></table>"
      ],
      "text/latex": [
       "\\begin{tabular}{r|ccccc}\n",
       "\t& sepal\\_length & sepal\\_width & petal\\_length & petal\\_width & species\\\\\n",
       "\t\\hline\n",
       "\t& Float64 & Float64 & Float64 & Float64 & String\\\\\n",
       "\t\\hline\n",
       "\t1 & 5.1 & 3.5 & 1.4 & 0.2 & setosa \\\\\n",
       "\\end{tabular}\n"
      ],
      "text/plain": [
       "\u001b[1mDataFrameRow\u001b[0m\n",
       "\u001b[1m Row \u001b[0m│\u001b[1m sepal_length \u001b[0m\u001b[1m sepal_width \u001b[0m\u001b[1m petal_length \u001b[0m\u001b[1m petal_width \u001b[0m\u001b[1m species \u001b[0m\n",
       "\u001b[1m     \u001b[0m│\u001b[90m Float64      \u001b[0m\u001b[90m Float64     \u001b[0m\u001b[90m Float64      \u001b[0m\u001b[90m Float64     \u001b[0m\u001b[90m String  \u001b[0m\n",
       "─────┼───────────────────────────────────────────────────────────────\n",
       "   1 │          5.1          3.5           1.4          0.2  setosa"
      ]
     },
     "execution_count": 40,
     "metadata": {},
     "output_type": "execute_result"
    }
   ],
   "source": [
    "first(iris)"
   ]
  },
  {
   "cell_type": "code",
   "execution_count": 41,
   "metadata": {},
   "outputs": [
    {
     "data": {
      "text/html": [
       "<table class=\"data-frame\"><thead><tr><th></th><th>sepal_length</th><th>sepal_width</th><th>petal_length</th><th>petal_width</th><th>species</th></tr><tr><th></th><th>Float64</th><th>Float64</th><th>Float64</th><th>Float64</th><th>String</th></tr></thead><tbody><p>7 rows × 5 columns</p><tr><th>1</th><td>5.1</td><td>3.5</td><td>1.4</td><td>0.2</td><td>setosa</td></tr><tr><th>2</th><td>4.9</td><td>3.0</td><td>1.4</td><td>0.2</td><td>setosa</td></tr><tr><th>3</th><td>4.7</td><td>3.2</td><td>1.3</td><td>0.2</td><td>setosa</td></tr><tr><th>4</th><td>4.6</td><td>3.1</td><td>1.5</td><td>0.2</td><td>setosa</td></tr><tr><th>5</th><td>5.0</td><td>3.6</td><td>1.4</td><td>0.2</td><td>setosa</td></tr><tr><th>6</th><td>5.4</td><td>3.9</td><td>1.7</td><td>0.4</td><td>setosa</td></tr><tr><th>7</th><td>4.6</td><td>3.4</td><td>1.4</td><td>0.3</td><td>setosa</td></tr></tbody></table>"
      ],
      "text/latex": [
       "\\begin{tabular}{r|ccccc}\n",
       "\t& sepal\\_length & sepal\\_width & petal\\_length & petal\\_width & species\\\\\n",
       "\t\\hline\n",
       "\t& Float64 & Float64 & Float64 & Float64 & String\\\\\n",
       "\t\\hline\n",
       "\t1 & 5.1 & 3.5 & 1.4 & 0.2 & setosa \\\\\n",
       "\t2 & 4.9 & 3.0 & 1.4 & 0.2 & setosa \\\\\n",
       "\t3 & 4.7 & 3.2 & 1.3 & 0.2 & setosa \\\\\n",
       "\t4 & 4.6 & 3.1 & 1.5 & 0.2 & setosa \\\\\n",
       "\t5 & 5.0 & 3.6 & 1.4 & 0.2 & setosa \\\\\n",
       "\t6 & 5.4 & 3.9 & 1.7 & 0.4 & setosa \\\\\n",
       "\t7 & 4.6 & 3.4 & 1.4 & 0.3 & setosa \\\\\n",
       "\\end{tabular}\n"
      ],
      "text/plain": [
       "\u001b[1m7×5 DataFrame\u001b[0m\n",
       "\u001b[1m Row \u001b[0m│\u001b[1m sepal_length \u001b[0m\u001b[1m sepal_width \u001b[0m\u001b[1m petal_length \u001b[0m\u001b[1m petal_width \u001b[0m\u001b[1m species \u001b[0m\n",
       "\u001b[1m     \u001b[0m│\u001b[90m Float64      \u001b[0m\u001b[90m Float64     \u001b[0m\u001b[90m Float64      \u001b[0m\u001b[90m Float64     \u001b[0m\u001b[90m String  \u001b[0m\n",
       "─────┼───────────────────────────────────────────────────────────────\n",
       "   1 │          5.1          3.5           1.4          0.2  setosa\n",
       "   2 │          4.9          3.0           1.4          0.2  setosa\n",
       "   3 │          4.7          3.2           1.3          0.2  setosa\n",
       "   4 │          4.6          3.1           1.5          0.2  setosa\n",
       "   5 │          5.0          3.6           1.4          0.2  setosa\n",
       "   6 │          5.4          3.9           1.7          0.4  setosa\n",
       "   7 │          4.6          3.4           1.4          0.3  setosa"
      ]
     },
     "execution_count": 41,
     "metadata": {},
     "output_type": "execute_result"
    }
   ],
   "source": [
    "first(iris , 7)"
   ]
  },
  {
   "cell_type": "code",
   "execution_count": 42,
   "metadata": {},
   "outputs": [
    {
     "data": {
      "text/html": [
       "<p>DataFrameRow (5 columns)</p><table class=\"data-frame\"><thead><tr><th></th><th>sepal_length</th><th>sepal_width</th><th>petal_length</th><th>petal_width</th><th>species</th></tr><tr><th></th><th>Float64</th><th>Float64</th><th>Float64</th><th>Float64</th><th>String</th></tr></thead><tbody><tr><th>150</th><td>5.9</td><td>3.0</td><td>5.1</td><td>1.8</td><td>virginica</td></tr></tbody></table>"
      ],
      "text/latex": [
       "\\begin{tabular}{r|ccccc}\n",
       "\t& sepal\\_length & sepal\\_width & petal\\_length & petal\\_width & species\\\\\n",
       "\t\\hline\n",
       "\t& Float64 & Float64 & Float64 & Float64 & String\\\\\n",
       "\t\\hline\n",
       "\t150 & 5.9 & 3.0 & 5.1 & 1.8 & virginica \\\\\n",
       "\\end{tabular}\n"
      ],
      "text/plain": [
       "\u001b[1mDataFrameRow\u001b[0m\n",
       "\u001b[1m Row \u001b[0m│\u001b[1m sepal_length \u001b[0m\u001b[1m sepal_width \u001b[0m\u001b[1m petal_length \u001b[0m\u001b[1m petal_width \u001b[0m\u001b[1m species   \u001b[0m\n",
       "\u001b[1m     \u001b[0m│\u001b[90m Float64      \u001b[0m\u001b[90m Float64     \u001b[0m\u001b[90m Float64      \u001b[0m\u001b[90m Float64     \u001b[0m\u001b[90m String    \u001b[0m\n",
       "─────┼─────────────────────────────────────────────────────────────────\n",
       " 150 │          5.9          3.0           5.1          1.8  virginica"
      ]
     },
     "execution_count": 42,
     "metadata": {},
     "output_type": "execute_result"
    }
   ],
   "source": [
    "last(iris)"
   ]
  },
  {
   "cell_type": "code",
   "execution_count": 43,
   "metadata": {},
   "outputs": [
    {
     "data": {
      "text/html": [
       "<table class=\"data-frame\"><thead><tr><th></th><th>sepal_length</th><th>sepal_width</th><th>petal_length</th><th>petal_width</th><th>species</th></tr><tr><th></th><th>Float64</th><th>Float64</th><th>Float64</th><th>Float64</th><th>String</th></tr></thead><tbody><p>10 rows × 5 columns</p><tr><th>1</th><td>6.7</td><td>3.1</td><td>5.6</td><td>2.4</td><td>virginica</td></tr><tr><th>2</th><td>6.9</td><td>3.1</td><td>5.1</td><td>2.3</td><td>virginica</td></tr><tr><th>3</th><td>5.8</td><td>2.7</td><td>5.1</td><td>1.9</td><td>virginica</td></tr><tr><th>4</th><td>6.8</td><td>3.2</td><td>5.9</td><td>2.3</td><td>virginica</td></tr><tr><th>5</th><td>6.7</td><td>3.3</td><td>5.7</td><td>2.5</td><td>virginica</td></tr><tr><th>6</th><td>6.7</td><td>3.0</td><td>5.2</td><td>2.3</td><td>virginica</td></tr><tr><th>7</th><td>6.3</td><td>2.5</td><td>5.0</td><td>1.9</td><td>virginica</td></tr><tr><th>8</th><td>6.5</td><td>3.0</td><td>5.2</td><td>2.0</td><td>virginica</td></tr><tr><th>9</th><td>6.2</td><td>3.4</td><td>5.4</td><td>2.3</td><td>virginica</td></tr><tr><th>10</th><td>5.9</td><td>3.0</td><td>5.1</td><td>1.8</td><td>virginica</td></tr></tbody></table>"
      ],
      "text/latex": [
       "\\begin{tabular}{r|ccccc}\n",
       "\t& sepal\\_length & sepal\\_width & petal\\_length & petal\\_width & species\\\\\n",
       "\t\\hline\n",
       "\t& Float64 & Float64 & Float64 & Float64 & String\\\\\n",
       "\t\\hline\n",
       "\t1 & 6.7 & 3.1 & 5.6 & 2.4 & virginica \\\\\n",
       "\t2 & 6.9 & 3.1 & 5.1 & 2.3 & virginica \\\\\n",
       "\t3 & 5.8 & 2.7 & 5.1 & 1.9 & virginica \\\\\n",
       "\t4 & 6.8 & 3.2 & 5.9 & 2.3 & virginica \\\\\n",
       "\t5 & 6.7 & 3.3 & 5.7 & 2.5 & virginica \\\\\n",
       "\t6 & 6.7 & 3.0 & 5.2 & 2.3 & virginica \\\\\n",
       "\t7 & 6.3 & 2.5 & 5.0 & 1.9 & virginica \\\\\n",
       "\t8 & 6.5 & 3.0 & 5.2 & 2.0 & virginica \\\\\n",
       "\t9 & 6.2 & 3.4 & 5.4 & 2.3 & virginica \\\\\n",
       "\t10 & 5.9 & 3.0 & 5.1 & 1.8 & virginica \\\\\n",
       "\\end{tabular}\n"
      ],
      "text/plain": [
       "\u001b[1m10×5 DataFrame\u001b[0m\n",
       "\u001b[1m Row \u001b[0m│\u001b[1m sepal_length \u001b[0m\u001b[1m sepal_width \u001b[0m\u001b[1m petal_length \u001b[0m\u001b[1m petal_width \u001b[0m\u001b[1m species   \u001b[0m\n",
       "\u001b[1m     \u001b[0m│\u001b[90m Float64      \u001b[0m\u001b[90m Float64     \u001b[0m\u001b[90m Float64      \u001b[0m\u001b[90m Float64     \u001b[0m\u001b[90m String    \u001b[0m\n",
       "─────┼─────────────────────────────────────────────────────────────────\n",
       "   1 │          6.7          3.1           5.6          2.4  virginica\n",
       "   2 │          6.9          3.1           5.1          2.3  virginica\n",
       "   3 │          5.8          2.7           5.1          1.9  virginica\n",
       "   4 │          6.8          3.2           5.9          2.3  virginica\n",
       "   5 │          6.7          3.3           5.7          2.5  virginica\n",
       "   6 │          6.7          3.0           5.2          2.3  virginica\n",
       "   7 │          6.3          2.5           5.0          1.9  virginica\n",
       "   8 │          6.5          3.0           5.2          2.0  virginica\n",
       "   9 │          6.2          3.4           5.4          2.3  virginica\n",
       "  10 │          5.9          3.0           5.1          1.8  virginica"
      ]
     },
     "execution_count": 43,
     "metadata": {},
     "output_type": "execute_result"
    }
   ],
   "source": [
    "last(iris , 10)"
   ]
  },
  {
   "cell_type": "code",
   "execution_count": 44,
   "metadata": {},
   "outputs": [
    {
     "data": {
      "text/html": [
       "<table class=\"data-frame\"><thead><tr><th></th><th>sepal_length</th><th>sepal_width</th><th>petal_length</th></tr><tr><th></th><th>Float64</th><th>Float64</th><th>Float64</th></tr></thead><tbody><p>150 rows × 3 columns</p><tr><th>1</th><td>5.1</td><td>3.5</td><td>1.4</td></tr><tr><th>2</th><td>4.9</td><td>3.0</td><td>1.4</td></tr><tr><th>3</th><td>4.7</td><td>3.2</td><td>1.3</td></tr><tr><th>4</th><td>4.6</td><td>3.1</td><td>1.5</td></tr><tr><th>5</th><td>5.0</td><td>3.6</td><td>1.4</td></tr><tr><th>6</th><td>5.4</td><td>3.9</td><td>1.7</td></tr><tr><th>7</th><td>4.6</td><td>3.4</td><td>1.4</td></tr><tr><th>8</th><td>5.0</td><td>3.4</td><td>1.5</td></tr><tr><th>9</th><td>4.4</td><td>2.9</td><td>1.4</td></tr><tr><th>10</th><td>4.9</td><td>3.1</td><td>1.5</td></tr><tr><th>11</th><td>5.4</td><td>3.7</td><td>1.5</td></tr><tr><th>12</th><td>4.8</td><td>3.4</td><td>1.6</td></tr><tr><th>13</th><td>4.8</td><td>3.0</td><td>1.4</td></tr><tr><th>14</th><td>4.3</td><td>3.0</td><td>1.1</td></tr><tr><th>15</th><td>5.8</td><td>4.0</td><td>1.2</td></tr><tr><th>16</th><td>5.7</td><td>4.4</td><td>1.5</td></tr><tr><th>17</th><td>5.4</td><td>3.9</td><td>1.3</td></tr><tr><th>18</th><td>5.1</td><td>3.5</td><td>1.4</td></tr><tr><th>19</th><td>5.7</td><td>3.8</td><td>1.7</td></tr><tr><th>20</th><td>5.1</td><td>3.8</td><td>1.5</td></tr><tr><th>21</th><td>5.4</td><td>3.4</td><td>1.7</td></tr><tr><th>22</th><td>5.1</td><td>3.7</td><td>1.5</td></tr><tr><th>23</th><td>4.6</td><td>3.6</td><td>1.0</td></tr><tr><th>24</th><td>5.1</td><td>3.3</td><td>1.7</td></tr><tr><th>25</th><td>4.8</td><td>3.4</td><td>1.9</td></tr><tr><th>26</th><td>5.0</td><td>3.0</td><td>1.6</td></tr><tr><th>27</th><td>5.0</td><td>3.4</td><td>1.6</td></tr><tr><th>28</th><td>5.2</td><td>3.5</td><td>1.5</td></tr><tr><th>29</th><td>5.2</td><td>3.4</td><td>1.4</td></tr><tr><th>30</th><td>4.7</td><td>3.2</td><td>1.6</td></tr><tr><th>&vellip;</th><td>&vellip;</td><td>&vellip;</td><td>&vellip;</td></tr></tbody></table>"
      ],
      "text/latex": [
       "\\begin{tabular}{r|ccc}\n",
       "\t& sepal\\_length & sepal\\_width & petal\\_length\\\\\n",
       "\t\\hline\n",
       "\t& Float64 & Float64 & Float64\\\\\n",
       "\t\\hline\n",
       "\t1 & 5.1 & 3.5 & 1.4 \\\\\n",
       "\t2 & 4.9 & 3.0 & 1.4 \\\\\n",
       "\t3 & 4.7 & 3.2 & 1.3 \\\\\n",
       "\t4 & 4.6 & 3.1 & 1.5 \\\\\n",
       "\t5 & 5.0 & 3.6 & 1.4 \\\\\n",
       "\t6 & 5.4 & 3.9 & 1.7 \\\\\n",
       "\t7 & 4.6 & 3.4 & 1.4 \\\\\n",
       "\t8 & 5.0 & 3.4 & 1.5 \\\\\n",
       "\t9 & 4.4 & 2.9 & 1.4 \\\\\n",
       "\t10 & 4.9 & 3.1 & 1.5 \\\\\n",
       "\t11 & 5.4 & 3.7 & 1.5 \\\\\n",
       "\t12 & 4.8 & 3.4 & 1.6 \\\\\n",
       "\t13 & 4.8 & 3.0 & 1.4 \\\\\n",
       "\t14 & 4.3 & 3.0 & 1.1 \\\\\n",
       "\t15 & 5.8 & 4.0 & 1.2 \\\\\n",
       "\t16 & 5.7 & 4.4 & 1.5 \\\\\n",
       "\t17 & 5.4 & 3.9 & 1.3 \\\\\n",
       "\t18 & 5.1 & 3.5 & 1.4 \\\\\n",
       "\t19 & 5.7 & 3.8 & 1.7 \\\\\n",
       "\t20 & 5.1 & 3.8 & 1.5 \\\\\n",
       "\t21 & 5.4 & 3.4 & 1.7 \\\\\n",
       "\t22 & 5.1 & 3.7 & 1.5 \\\\\n",
       "\t23 & 4.6 & 3.6 & 1.0 \\\\\n",
       "\t24 & 5.1 & 3.3 & 1.7 \\\\\n",
       "\t25 & 4.8 & 3.4 & 1.9 \\\\\n",
       "\t26 & 5.0 & 3.0 & 1.6 \\\\\n",
       "\t27 & 5.0 & 3.4 & 1.6 \\\\\n",
       "\t28 & 5.2 & 3.5 & 1.5 \\\\\n",
       "\t29 & 5.2 & 3.4 & 1.4 \\\\\n",
       "\t30 & 4.7 & 3.2 & 1.6 \\\\\n",
       "\t$\\dots$ & $\\dots$ & $\\dots$ & $\\dots$ \\\\\n",
       "\\end{tabular}\n"
      ],
      "text/plain": [
       "\u001b[1m150×3 DataFrame\u001b[0m\n",
       "\u001b[1m Row \u001b[0m│\u001b[1m sepal_length \u001b[0m\u001b[1m sepal_width \u001b[0m\u001b[1m petal_length \u001b[0m\n",
       "\u001b[1m     \u001b[0m│\u001b[90m Float64      \u001b[0m\u001b[90m Float64     \u001b[0m\u001b[90m Float64      \u001b[0m\n",
       "─────┼─────────────────────────────────────────\n",
       "   1 │          5.1          3.5           1.4\n",
       "   2 │          4.9          3.0           1.4\n",
       "   3 │          4.7          3.2           1.3\n",
       "   4 │          4.6          3.1           1.5\n",
       "   5 │          5.0          3.6           1.4\n",
       "   6 │          5.4          3.9           1.7\n",
       "   7 │          4.6          3.4           1.4\n",
       "   8 │          5.0          3.4           1.5\n",
       "   9 │          4.4          2.9           1.4\n",
       "  10 │          4.9          3.1           1.5\n",
       "  11 │          5.4          3.7           1.5\n",
       "  ⋮  │      ⋮             ⋮            ⋮\n",
       " 141 │          6.7          3.1           5.6\n",
       " 142 │          6.9          3.1           5.1\n",
       " 143 │          5.8          2.7           5.1\n",
       " 144 │          6.8          3.2           5.9\n",
       " 145 │          6.7          3.3           5.7\n",
       " 146 │          6.7          3.0           5.2\n",
       " 147 │          6.3          2.5           5.0\n",
       " 148 │          6.5          3.0           5.2\n",
       " 149 │          6.2          3.4           5.4\n",
       " 150 │          5.9          3.0           5.1\n",
       "\u001b[36m                               129 rows omitted\u001b[0m"
      ]
     },
     "execution_count": 44,
     "metadata": {},
     "output_type": "execute_result"
    }
   ],
   "source": [
    "iris[: , [1,2,3]]"
   ]
  },
  {
   "cell_type": "code",
   "execution_count": 1,
   "metadata": {},
   "outputs": [
    {
     "name": "stderr",
     "output_type": "stream",
     "text": [
      "\u001b[32m\u001b[1m   Updating\u001b[22m\u001b[39m registry at `C:\\Users\\shash\\.julia\\registries\\General`\n",
      "\u001b[32m\u001b[1m  Resolving\u001b[22m\u001b[39m package versions...\n",
      "\u001b[32m\u001b[1m  Installed\u001b[22m\u001b[39m Libmount_jll ───────────────── v2.34.0+3\n",
      "\u001b[32m\u001b[1m  Installed\u001b[22m\u001b[39m Gettext_jll ────────────────── v0.20.1+7\n",
      "\u001b[32m\u001b[1m  Installed\u001b[22m\u001b[39m Xorg_libXcursor_jll ────────── v1.2.0+4\n",
      "\u001b[32m\u001b[1m  Installed\u001b[22m\u001b[39m Xorg_libXext_jll ───────────── v1.3.4+4\n",
      "\u001b[32m\u001b[1m  Installed\u001b[22m\u001b[39m IniFile ────────────────────── v0.5.0\n",
      "\u001b[32m\u001b[1m  Installed\u001b[22m\u001b[39m Wayland_jll ────────────────── v1.17.0+4\n",
      "\u001b[32m\u001b[1m  Installed\u001b[22m\u001b[39m Colors ─────────────────────── v0.12.7\n",
      "\u001b[32m\u001b[1m  Installed\u001b[22m\u001b[39m Plots ──────────────────────── v1.11.2\n",
      "\u001b[32m\u001b[1m  Installed\u001b[22m\u001b[39m Zstd_jll ───────────────────── v1.4.8+0\n",
      "\u001b[32m\u001b[1m  Installed\u001b[22m\u001b[39m libvorbis_jll ──────────────── v1.3.6+6\n",
      "\u001b[32m\u001b[1m  Installed\u001b[22m\u001b[39m Xorg_xcb_util_image_jll ────── v0.4.0+1\n",
      "\u001b[32m\u001b[1m  Installed\u001b[22m\u001b[39m libfdk_aac_jll ─────────────── v0.1.6+4\n",
      "\u001b[32m\u001b[1m  Installed\u001b[22m\u001b[39m LZO_jll ────────────────────── v2.10.0+3\n",
      "\u001b[32m\u001b[1m  Installed\u001b[22m\u001b[39m PCRE_jll ───────────────────── v8.42.0+4\n",
      "\u001b[32m\u001b[1m  Installed\u001b[22m\u001b[39m XSLT_jll ───────────────────── v1.1.33+4\n",
      "\u001b[32m\u001b[1m  Installed\u001b[22m\u001b[39m Latexify ───────────────────── v0.14.12\n",
      "\u001b[32m\u001b[1m  Installed\u001b[22m\u001b[39m Xorg_libXau_jll ────────────── v1.0.9+4\n",
      "\u001b[32m\u001b[1m  Installed\u001b[22m\u001b[39m Xorg_xcb_util_renderutil_jll ─ v0.3.9+1\n",
      "\u001b[32m\u001b[1m  Installed\u001b[22m\u001b[39m Xorg_xkbcomp_jll ───────────── v1.4.2+4\n",
      "\u001b[32m\u001b[1m  Installed\u001b[22m\u001b[39m libass_jll ─────────────────── v0.14.0+4\n",
      "\u001b[32m\u001b[1m  Installed\u001b[22m\u001b[39m Xorg_libxkbfile_jll ────────── v1.1.0+4\n",
      "\u001b[32m\u001b[1m  Installed\u001b[22m\u001b[39m Xorg_xcb_util_wm_jll ───────── v0.4.1+1\n",
      "\u001b[32m\u001b[1m  Installed\u001b[22m\u001b[39m RecipesBase ────────────────── v1.1.1\n",
      "\u001b[32m\u001b[1m  Installed\u001b[22m\u001b[39m IterTools ──────────────────── v1.3.0\n",
      "\u001b[32m\u001b[1m  Installed\u001b[22m\u001b[39m Xorg_libpthread_stubs_jll ──── v0.1.0+3\n",
      "\u001b[32m\u001b[1m  Installed\u001b[22m\u001b[39m Libtiff_jll ────────────────── v4.1.0+2\n",
      "\u001b[32m\u001b[1m  Installed\u001b[22m\u001b[39m Xorg_xcb_util_jll ──────────── v0.4.0+1\n",
      "\u001b[32m\u001b[1m  Installed\u001b[22m\u001b[39m XML2_jll ───────────────────── v2.9.10+3\n",
      "\u001b[32m\u001b[1m  Installed\u001b[22m\u001b[39m FFMPEG_jll ─────────────────── v4.3.1+4\n",
      "\u001b[32m\u001b[1m  Installed\u001b[22m\u001b[39m Xorg_libXi_jll ─────────────── v1.7.10+4\n",
      "\u001b[32m\u001b[1m  Installed\u001b[22m\u001b[39m JpegTurbo_jll ──────────────── v2.0.1+3\n",
      "\u001b[32m\u001b[1m  Installed\u001b[22m\u001b[39m Contour ────────────────────── v0.5.7\n",
      "\u001b[32m\u001b[1m  Installed\u001b[22m\u001b[39m Xorg_libXdmcp_jll ──────────── v1.1.3+4\n",
      "\u001b[32m\u001b[1m  Installed\u001b[22m\u001b[39m Libuuid_jll ────────────────── v2.34.0+7\n",
      "\u001b[32m\u001b[1m  Installed\u001b[22m\u001b[39m Qt5Base_jll ────────────────── v5.15.2+0\n",
      "\u001b[32m\u001b[1m  Installed\u001b[22m\u001b[39m GLFW_jll ───────────────────── v3.3.3+0\n",
      "\u001b[32m\u001b[1m  Installed\u001b[22m\u001b[39m Grisu ──────────────────────── v1.0.0\n",
      "\u001b[32m\u001b[1m  Installed\u001b[22m\u001b[39m FreeType2_jll ──────────────── v2.10.1+5\n",
      "\u001b[32m\u001b[1m  Installed\u001b[22m\u001b[39m URIs ───────────────────────── v1.2.0\n",
      "\u001b[32m\u001b[1m  Installed\u001b[22m\u001b[39m Xorg_libXfixes_jll ─────────── v5.0.3+4\n",
      "\u001b[32m\u001b[1m  Installed\u001b[22m\u001b[39m Libgpg_error_jll ───────────── v1.36.0+3\n",
      "\u001b[32m\u001b[1m  Installed\u001b[22m\u001b[39m Cairo_jll ──────────────────── v1.16.0+6\n",
      "\u001b[32m\u001b[1m  Installed\u001b[22m\u001b[39m Opus_jll ───────────────────── v1.3.1+3\n",
      "\u001b[32m\u001b[1m  Installed\u001b[22m\u001b[39m Pixman_jll ─────────────────── v0.40.0+0\n",
      "\u001b[32m\u001b[1m  Installed\u001b[22m\u001b[39m Xorg_xtrans_jll ────────────── v1.4.0+3\n",
      "\u001b[32m\u001b[1m  Installed\u001b[22m\u001b[39m PlotThemes ─────────────────── v2.0.1\n",
      "\u001b[32m\u001b[1m  Installed\u001b[22m\u001b[39m Libiconv_jll ───────────────── v1.16.0+7\n",
      "\u001b[32m\u001b[1m  Installed\u001b[22m\u001b[39m Xorg_xkeyboard_config_jll ──── v2.27.0+4\n",
      "\u001b[32m\u001b[1m  Installed\u001b[22m\u001b[39m LAME_jll ───────────────────── v3.100.0+3\n",
      "\u001b[32m\u001b[1m  Installed\u001b[22m\u001b[39m Xorg_xcb_util_keysyms_jll ──── v0.4.0+1\n",
      "\u001b[32m\u001b[1m  Installed\u001b[22m\u001b[39m Showoff ────────────────────── v1.0.2\n",
      "\u001b[32m\u001b[1m  Installed\u001b[22m\u001b[39m ColorTypes ─────────────────── v0.10.12\n",
      "\u001b[32m\u001b[1m  Installed\u001b[22m\u001b[39m GR_jll ─────────────────────── v0.57.1+0\n",
      "\u001b[32m\u001b[1m  Installed\u001b[22m\u001b[39m Measures ───────────────────── v0.3.1\n",
      "\u001b[32m\u001b[1m  Installed\u001b[22m\u001b[39m FFMPEG ─────────────────────── v0.4.0\n",
      "\u001b[32m\u001b[1m  Installed\u001b[22m\u001b[39m NaNMath ────────────────────── v0.3.5\n",
      "\u001b[32m\u001b[1m  Installed\u001b[22m\u001b[39m MacroTools ─────────────────── v0.5.6\n",
      "\u001b[32m\u001b[1m  Installed\u001b[22m\u001b[39m GeometryBasics ─────────────── v0.3.12\n",
      "\u001b[32m\u001b[1m  Installed\u001b[22m\u001b[39m libpng_jll ─────────────────── v1.6.37+6\n",
      "\u001b[32m\u001b[1m  Installed\u001b[22m\u001b[39m Xorg_libXinerama_jll ───────── v1.1.4+4\n",
      "\u001b[32m\u001b[1m  Installed\u001b[22m\u001b[39m Xorg_libXrender_jll ────────── v0.9.10+4\n",
      "\u001b[32m\u001b[1m  Installed\u001b[22m\u001b[39m Libgcrypt_jll ──────────────── v1.8.5+4\n",
      "\u001b[32m\u001b[1m  Installed\u001b[22m\u001b[39m OpenSSL_jll ────────────────── v1.1.1+6\n",
      "\u001b[32m\u001b[1m  Installed\u001b[22m\u001b[39m Libffi_jll ─────────────────── v3.2.1+4\n",
      "\u001b[32m\u001b[1m  Installed\u001b[22m\u001b[39m Requires ───────────────────── v1.1.3\n",
      "\u001b[32m\u001b[1m  Installed\u001b[22m\u001b[39m ColorSchemes ───────────────── v3.11.0\n",
      "\u001b[32m\u001b[1m  Installed\u001b[22m\u001b[39m Xorg_libXrandr_jll ─────────── v1.5.2+4\n",
      "\u001b[32m\u001b[1m  Installed\u001b[22m\u001b[39m LibVPX_jll ─────────────────── v1.9.0+1\n",
      "\u001b[32m\u001b[1m  Installed\u001b[22m\u001b[39m Xorg_libX11_jll ────────────── v1.6.9+4\n",
      "\u001b[32m\u001b[1m  Installed\u001b[22m\u001b[39m Zlib_jll ───────────────────── v1.2.11+18\n",
      "\u001b[32m\u001b[1m  Installed\u001b[22m\u001b[39m Bzip2_jll ──────────────────── v1.0.6+5\n",
      "\u001b[32m\u001b[1m  Installed\u001b[22m\u001b[39m x264_jll ───────────────────── v2020.7.14+2\n",
      "\u001b[32m\u001b[1m  Installed\u001b[22m\u001b[39m Adapt ──────────────────────── v3.2.0\n",
      "\u001b[32m\u001b[1m  Installed\u001b[22m\u001b[39m Wayland_protocols_jll ──────── v1.18.0+4\n",
      "\u001b[32m\u001b[1m  Installed\u001b[22m\u001b[39m Ogg_jll ────────────────────── v1.3.4+2\n",
      "\u001b[32m\u001b[1m  Installed\u001b[22m\u001b[39m Fontconfig_jll ─────────────── v2.13.1+14\n",
      "\u001b[32m\u001b[1m  Installed\u001b[22m\u001b[39m CompilerSupportLibraries_jll ─ v0.3.4+0\n",
      "\u001b[32m\u001b[1m  Installed\u001b[22m\u001b[39m x265_jll ───────────────────── v3.0.0+3\n",
      "\u001b[32m\u001b[1m  Installed\u001b[22m\u001b[39m xkbcommon_jll ──────────────── v0.9.1+5\n",
      "\u001b[32m\u001b[1m  Installed\u001b[22m\u001b[39m NetworkOptions ─────────────── v1.2.0\n",
      "\u001b[32m\u001b[1m  Installed\u001b[22m\u001b[39m Libglvnd_jll ───────────────── v1.3.0+3\n",
      "\u001b[32m\u001b[1m  Installed\u001b[22m\u001b[39m Xorg_libxcb_jll ────────────── v1.13.0+3\n",
      "\u001b[32m\u001b[1m  Installed\u001b[22m\u001b[39m Expat_jll ──────────────────── v2.2.7+6\n",
      "\u001b[32m\u001b[1m  Installed\u001b[22m\u001b[39m LaTeXStrings ───────────────── v1.2.1\n",
      "\u001b[32m\u001b[1m  Installed\u001b[22m\u001b[39m PlotUtils ──────────────────── v1.0.10\n",
      "\u001b[32m\u001b[1m  Installed\u001b[22m\u001b[39m GR ─────────────────────────── v0.57.1\n",
      "\u001b[32m\u001b[1m  Installed\u001b[22m\u001b[39m FixedPointNumbers ──────────── v0.8.4\n",
      "\u001b[32m\u001b[1m  Installed\u001b[22m\u001b[39m RecipesPipeline ────────────── v0.3.2\n",
      "\u001b[32m\u001b[1m  Installed\u001b[22m\u001b[39m FriBidi_jll ────────────────── v1.0.5+6\n",
      "\u001b[32m\u001b[1m  Installed\u001b[22m\u001b[39m Glib_jll ───────────────────── v2.59.0+4\n",
      "\u001b[32m\u001b[1m  Installed\u001b[22m\u001b[39m EarCut_jll ─────────────────── v2.1.5+1\n",
      "\u001b[32m\u001b[1m  Installed\u001b[22m\u001b[39m Scratch ────────────────────── v1.0.3\n",
      "\u001b[32m\u001b[1m  Installed\u001b[22m\u001b[39m StatsBase ──────────────────── v0.33.4\n",
      "\u001b[32m\u001b[1m  Installed\u001b[22m\u001b[39m StaticArrays ───────────────── v1.1.0\n",
      "\u001b[32m\u001b[1m  Installed\u001b[22m\u001b[39m HTTP ───────────────────────── v0.9.5\n",
      "\u001b[32m\u001b[1m  Installed\u001b[22m\u001b[39m StructArrays ───────────────── v0.5.0\n",
      "\u001b[32m\u001b[1mUpdating\u001b[22m\u001b[39m `C:\\Users\\shash\\.julia\\environments\\v1.5\\Project.toml`\n",
      " \u001b[90m [91a5bcdd] \u001b[39m\u001b[92m+ Plots v1.11.2\u001b[39m\n",
      "\u001b[32m\u001b[1mUpdating\u001b[22m\u001b[39m `C:\\Users\\shash\\.julia\\environments\\v1.5\\Manifest.toml`\n",
      " \u001b[90m [79e6a3ab] \u001b[39m\u001b[92m+ Adapt v3.2.0\u001b[39m\n",
      " \u001b[90m [6e34b625] \u001b[39m\u001b[92m+ Bzip2_jll v1.0.6+5\u001b[39m\n",
      " \u001b[90m [83423d85] \u001b[39m\u001b[92m+ Cairo_jll v1.16.0+6\u001b[39m\n",
      " \u001b[90m [35d6a980] \u001b[39m\u001b[92m+ ColorSchemes v3.11.0\u001b[39m\n",
      " \u001b[90m [3da002f7] \u001b[39m\u001b[92m+ ColorTypes v0.10.12\u001b[39m\n",
      " \u001b[90m [5ae59095] \u001b[39m\u001b[92m+ Colors v0.12.7\u001b[39m\n",
      " \u001b[90m [e66e0078] \u001b[39m\u001b[92m+ CompilerSupportLibraries_jll v0.3.4+0\u001b[39m\n",
      " \u001b[90m [d38c429a] \u001b[39m\u001b[92m+ Contour v0.5.7\u001b[39m\n",
      " \u001b[90m [5ae413db] \u001b[39m\u001b[92m+ EarCut_jll v2.1.5+1\u001b[39m\n",
      " \u001b[90m [2e619515] \u001b[39m\u001b[92m+ Expat_jll v2.2.7+6\u001b[39m\n",
      " \u001b[90m [c87230d0] \u001b[39m\u001b[92m+ FFMPEG v0.4.0\u001b[39m\n",
      " \u001b[90m [b22a6f82] \u001b[39m\u001b[92m+ FFMPEG_jll v4.3.1+4\u001b[39m\n",
      " \u001b[90m [53c48c17] \u001b[39m\u001b[92m+ FixedPointNumbers v0.8.4\u001b[39m\n",
      " \u001b[90m [a3f928ae] \u001b[39m\u001b[92m+ Fontconfig_jll v2.13.1+14\u001b[39m\n",
      " \u001b[90m [d7e528f0] \u001b[39m\u001b[92m+ FreeType2_jll v2.10.1+5\u001b[39m\n",
      " \u001b[90m [559328eb] \u001b[39m\u001b[92m+ FriBidi_jll v1.0.5+6\u001b[39m\n",
      " \u001b[90m [0656b61e] \u001b[39m\u001b[92m+ GLFW_jll v3.3.3+0\u001b[39m\n",
      " \u001b[90m [28b8d3ca] \u001b[39m\u001b[92m+ GR v0.57.1\u001b[39m\n",
      " \u001b[90m [d2c73de3] \u001b[39m\u001b[92m+ GR_jll v0.57.1+0\u001b[39m\n",
      " \u001b[90m [5c1252a2] \u001b[39m\u001b[92m+ GeometryBasics v0.3.12\u001b[39m\n",
      " \u001b[90m [78b55507] \u001b[39m\u001b[92m+ Gettext_jll v0.20.1+7\u001b[39m\n",
      " \u001b[90m [7746bdde] \u001b[39m\u001b[92m+ Glib_jll v2.59.0+4\u001b[39m\n",
      " \u001b[90m [42e2da0e] \u001b[39m\u001b[92m+ Grisu v1.0.0\u001b[39m\n",
      " \u001b[90m [cd3eb016] \u001b[39m\u001b[92m+ HTTP v0.9.5\u001b[39m\n",
      " \u001b[90m [83e8ac13] \u001b[39m\u001b[92m+ IniFile v0.5.0\u001b[39m\n",
      " \u001b[90m [c8e1da08] \u001b[39m\u001b[92m+ IterTools v1.3.0\u001b[39m\n",
      " \u001b[90m [aacddb02] \u001b[39m\u001b[92m+ JpegTurbo_jll v2.0.1+3\u001b[39m\n",
      " \u001b[90m [c1c5ebd0] \u001b[39m\u001b[92m+ LAME_jll v3.100.0+3\u001b[39m\n",
      " \u001b[90m [dd4b983a] \u001b[39m\u001b[92m+ LZO_jll v2.10.0+3\u001b[39m\n",
      " \u001b[90m [b964fa9f] \u001b[39m\u001b[92m+ LaTeXStrings v1.2.1\u001b[39m\n",
      " \u001b[90m [23fbe1c1] \u001b[39m\u001b[92m+ Latexify v0.14.12\u001b[39m\n",
      " \u001b[90m [dd192d2f] \u001b[39m\u001b[92m+ LibVPX_jll v1.9.0+1\u001b[39m\n",
      " \u001b[90m [e9f186c6] \u001b[39m\u001b[92m+ Libffi_jll v3.2.1+4\u001b[39m\n",
      " \u001b[90m [d4300ac3] \u001b[39m\u001b[92m+ Libgcrypt_jll v1.8.5+4\u001b[39m\n",
      " \u001b[90m [7e76a0d4] \u001b[39m\u001b[92m+ Libglvnd_jll v1.3.0+3\u001b[39m\n",
      " \u001b[90m [7add5ba3] \u001b[39m\u001b[92m+ Libgpg_error_jll v1.36.0+3\u001b[39m\n",
      " \u001b[90m [94ce4f54] \u001b[39m\u001b[92m+ Libiconv_jll v1.16.0+7\u001b[39m\n"
     ]
    },
    {
     "name": "stderr",
     "output_type": "stream",
     "text": [
      " \u001b[90m [4b2f31a3] \u001b[39m\u001b[92m+ Libmount_jll v2.34.0+3\u001b[39m\n",
      " \u001b[90m [89763e89] \u001b[39m\u001b[92m+ Libtiff_jll v4.1.0+2\u001b[39m\n",
      " \u001b[90m [38a345b3] \u001b[39m\u001b[92m+ Libuuid_jll v2.34.0+7\u001b[39m\n",
      " \u001b[90m [1914dd2f] \u001b[39m\u001b[92m+ MacroTools v0.5.6\u001b[39m\n",
      " \u001b[90m [442fdcdd] \u001b[39m\u001b[92m+ Measures v0.3.1\u001b[39m\n",
      " \u001b[90m [77ba4419] \u001b[39m\u001b[92m+ NaNMath v0.3.5\u001b[39m\n",
      " \u001b[90m [ca575930] \u001b[39m\u001b[92m+ NetworkOptions v1.2.0\u001b[39m\n",
      " \u001b[90m [e7412a2a] \u001b[39m\u001b[92m+ Ogg_jll v1.3.4+2\u001b[39m\n",
      " \u001b[90m [458c3c95] \u001b[39m\u001b[92m+ OpenSSL_jll v1.1.1+6\u001b[39m\n",
      " \u001b[90m [91d4177d] \u001b[39m\u001b[92m+ Opus_jll v1.3.1+3\u001b[39m\n",
      " \u001b[90m [2f80f16e] \u001b[39m\u001b[92m+ PCRE_jll v8.42.0+4\u001b[39m\n",
      " \u001b[90m [30392449] \u001b[39m\u001b[92m+ Pixman_jll v0.40.0+0\u001b[39m\n",
      " \u001b[90m [ccf2f8ad] \u001b[39m\u001b[92m+ PlotThemes v2.0.1\u001b[39m\n",
      " \u001b[90m [995b91a9] \u001b[39m\u001b[92m+ PlotUtils v1.0.10\u001b[39m\n",
      " \u001b[90m [91a5bcdd] \u001b[39m\u001b[92m+ Plots v1.11.2\u001b[39m\n",
      " \u001b[90m [ea2cea3b] \u001b[39m\u001b[92m+ Qt5Base_jll v5.15.2+0\u001b[39m\n",
      " \u001b[90m [3cdcf5f2] \u001b[39m\u001b[92m+ RecipesBase v1.1.1\u001b[39m\n",
      " \u001b[90m [01d81517] \u001b[39m\u001b[92m+ RecipesPipeline v0.3.2\u001b[39m\n",
      " \u001b[90m [ae029012] \u001b[39m\u001b[92m+ Requires v1.1.3\u001b[39m\n",
      " \u001b[90m [6c6a2e73] \u001b[39m\u001b[92m+ Scratch v1.0.3\u001b[39m\n",
      " \u001b[90m [992d4aef] \u001b[39m\u001b[92m+ Showoff v1.0.2\u001b[39m\n",
      " \u001b[90m [90137ffa] \u001b[39m\u001b[92m+ StaticArrays v1.1.0\u001b[39m\n",
      " \u001b[90m [2913bbd2] \u001b[39m\u001b[92m+ StatsBase v0.33.4\u001b[39m\n",
      " \u001b[90m [09ab397b] \u001b[39m\u001b[92m+ StructArrays v0.5.0\u001b[39m\n",
      " \u001b[90m [5c2747f8] \u001b[39m\u001b[92m+ URIs v1.2.0\u001b[39m\n",
      " \u001b[90m [a2964d1f] \u001b[39m\u001b[92m+ Wayland_jll v1.17.0+4\u001b[39m\n",
      " \u001b[90m [2381bf8a] \u001b[39m\u001b[92m+ Wayland_protocols_jll v1.18.0+4\u001b[39m\n",
      " \u001b[90m [02c8fc9c] \u001b[39m\u001b[92m+ XML2_jll v2.9.10+3\u001b[39m\n",
      " \u001b[90m [aed1982a] \u001b[39m\u001b[92m+ XSLT_jll v1.1.33+4\u001b[39m\n",
      " \u001b[90m [4f6342f7] \u001b[39m\u001b[92m+ Xorg_libX11_jll v1.6.9+4\u001b[39m\n",
      " \u001b[90m [0c0b7dd1] \u001b[39m\u001b[92m+ Xorg_libXau_jll v1.0.9+4\u001b[39m\n",
      " \u001b[90m [935fb764] \u001b[39m\u001b[92m+ Xorg_libXcursor_jll v1.2.0+4\u001b[39m\n",
      " \u001b[90m [a3789734] \u001b[39m\u001b[92m+ Xorg_libXdmcp_jll v1.1.3+4\u001b[39m\n",
      " \u001b[90m [1082639a] \u001b[39m\u001b[92m+ Xorg_libXext_jll v1.3.4+4\u001b[39m\n",
      " \u001b[90m [d091e8ba] \u001b[39m\u001b[92m+ Xorg_libXfixes_jll v5.0.3+4\u001b[39m\n",
      " \u001b[90m [a51aa0fd] \u001b[39m\u001b[92m+ Xorg_libXi_jll v1.7.10+4\u001b[39m\n",
      " \u001b[90m [d1454406] \u001b[39m\u001b[92m+ Xorg_libXinerama_jll v1.1.4+4\u001b[39m\n",
      " \u001b[90m [ec84b674] \u001b[39m\u001b[92m+ Xorg_libXrandr_jll v1.5.2+4\u001b[39m\n",
      " \u001b[90m [ea2f1a96] \u001b[39m\u001b[92m+ Xorg_libXrender_jll v0.9.10+4\u001b[39m\n",
      " \u001b[90m [14d82f49] \u001b[39m\u001b[92m+ Xorg_libpthread_stubs_jll v0.1.0+3\u001b[39m\n",
      " \u001b[90m [c7cfdc94] \u001b[39m\u001b[92m+ Xorg_libxcb_jll v1.13.0+3\u001b[39m\n",
      " \u001b[90m [cc61e674] \u001b[39m\u001b[92m+ Xorg_libxkbfile_jll v1.1.0+4\u001b[39m\n",
      " \u001b[90m [12413925] \u001b[39m\u001b[92m+ Xorg_xcb_util_image_jll v0.4.0+1\u001b[39m\n",
      " \u001b[90m [2def613f] \u001b[39m\u001b[92m+ Xorg_xcb_util_jll v0.4.0+1\u001b[39m\n",
      " \u001b[90m [975044d2] \u001b[39m\u001b[92m+ Xorg_xcb_util_keysyms_jll v0.4.0+1\u001b[39m\n",
      " \u001b[90m [0d47668e] \u001b[39m\u001b[92m+ Xorg_xcb_util_renderutil_jll v0.3.9+1\u001b[39m\n",
      " \u001b[90m [c22f9ab0] \u001b[39m\u001b[92m+ Xorg_xcb_util_wm_jll v0.4.1+1\u001b[39m\n",
      " \u001b[90m [35661453] \u001b[39m\u001b[92m+ Xorg_xkbcomp_jll v1.4.2+4\u001b[39m\n",
      " \u001b[90m [33bec58e] \u001b[39m\u001b[92m+ Xorg_xkeyboard_config_jll v2.27.0+4\u001b[39m\n",
      " \u001b[90m [c5fb5394] \u001b[39m\u001b[92m+ Xorg_xtrans_jll v1.4.0+3\u001b[39m\n",
      " \u001b[90m [83775a58] \u001b[39m\u001b[92m+ Zlib_jll v1.2.11+18\u001b[39m\n",
      " \u001b[90m [3161d3a3] \u001b[39m\u001b[92m+ Zstd_jll v1.4.8+0\u001b[39m\n",
      " \u001b[90m [0ac62f75] \u001b[39m\u001b[92m+ libass_jll v0.14.0+4\u001b[39m\n",
      " \u001b[90m [f638f0a6] \u001b[39m\u001b[92m+ libfdk_aac_jll v0.1.6+4\u001b[39m\n",
      " \u001b[90m [b53b4c65] \u001b[39m\u001b[92m+ libpng_jll v1.6.37+6\u001b[39m\n",
      " \u001b[90m [f27f6e37] \u001b[39m\u001b[92m+ libvorbis_jll v1.3.6+6\u001b[39m\n",
      " \u001b[90m [1270edf5] \u001b[39m\u001b[92m+ x264_jll v2020.7.14+2\u001b[39m\n",
      " \u001b[90m [dfaa095f] \u001b[39m\u001b[92m+ x265_jll v3.0.0+3\u001b[39m\n",
      " \u001b[90m [d8fb68d0] \u001b[39m\u001b[92m+ xkbcommon_jll v0.9.1+5\u001b[39m\n",
      "\u001b[32m\u001b[1m   Building\u001b[22m\u001b[39m GR → `C:\\Users\\shash\\.julia\\packages\\GR\\f111O\\deps\\build.log`\n"
     ]
    }
   ],
   "source": [
    "using Pkg\n",
    "Pkg.add(\"Plots\")"
   ]
  },
  {
   "cell_type": "code",
   "execution_count": 6,
   "metadata": {},
   "outputs": [
    {
     "data": {
      "image/svg+xml": [
       "<?xml version=\"1.0\" encoding=\"utf-8\"?>\n",
       "<svg xmlns=\"http://www.w3.org/2000/svg\" xmlns:xlink=\"http://www.w3.org/1999/xlink\" width=\"600\" height=\"400\" viewBox=\"0 0 2400 1600\">\n",
       "<defs>\n",
       "  <clipPath id=\"clip310\">\n",
       "    <rect x=\"0\" y=\"0\" width=\"2400\" height=\"1600\"/>\n",
       "  </clipPath>\n",
       "</defs>\n",
       "<path clip-path=\"url(#clip310)\" d=\"\n",
       "M0 1600 L2400 1600 L2400 0 L0 0  Z\n",
       "  \" fill=\"#ffffff\" fill-rule=\"evenodd\" fill-opacity=\"1\"/>\n",
       "<defs>\n",
       "  <clipPath id=\"clip311\">\n",
       "    <rect x=\"480\" y=\"0\" width=\"1681\" height=\"1600\"/>\n",
       "  </clipPath>\n",
       "</defs>\n",
       "<path clip-path=\"url(#clip310)\" d=\"\n",
       "M156.598 1486.45 L2352.76 1486.45 L2352.76 47.2441 L156.598 47.2441  Z\n",
       "  \" fill=\"#ffffff\" fill-rule=\"evenodd\" fill-opacity=\"1\"/>\n",
       "<defs>\n",
       "  <clipPath id=\"clip312\">\n",
       "    <rect x=\"156\" y=\"47\" width=\"2197\" height=\"1440\"/>\n",
       "  </clipPath>\n",
       "</defs>\n",
       "<polyline clip-path=\"url(#clip312)\" style=\"stroke:#000000; stroke-width:2; stroke-opacity:0.1; fill:none\" points=\"\n",
       "  218.754,1486.45 218.754,47.2441 \n",
       "  \"/>\n",
       "<polyline clip-path=\"url(#clip312)\" style=\"stroke:#000000; stroke-width:2; stroke-opacity:0.1; fill:none\" points=\"\n",
       "  736.715,1486.45 736.715,47.2441 \n",
       "  \"/>\n",
       "<polyline clip-path=\"url(#clip312)\" style=\"stroke:#000000; stroke-width:2; stroke-opacity:0.1; fill:none\" points=\"\n",
       "  1254.68,1486.45 1254.68,47.2441 \n",
       "  \"/>\n",
       "<polyline clip-path=\"url(#clip312)\" style=\"stroke:#000000; stroke-width:2; stroke-opacity:0.1; fill:none\" points=\"\n",
       "  1772.64,1486.45 1772.64,47.2441 \n",
       "  \"/>\n",
       "<polyline clip-path=\"url(#clip312)\" style=\"stroke:#000000; stroke-width:2; stroke-opacity:0.1; fill:none\" points=\"\n",
       "  2290.6,1486.45 2290.6,47.2441 \n",
       "  \"/>\n",
       "<polyline clip-path=\"url(#clip310)\" style=\"stroke:#000000; stroke-width:4; stroke-opacity:1; fill:none\" points=\"\n",
       "  156.598,1486.45 2352.76,1486.45 \n",
       "  \"/>\n",
       "<polyline clip-path=\"url(#clip310)\" style=\"stroke:#000000; stroke-width:4; stroke-opacity:1; fill:none\" points=\"\n",
       "  218.754,1486.45 218.754,1469.18 \n",
       "  \"/>\n",
       "<polyline clip-path=\"url(#clip310)\" style=\"stroke:#000000; stroke-width:4; stroke-opacity:1; fill:none\" points=\"\n",
       "  736.715,1486.45 736.715,1469.18 \n",
       "  \"/>\n",
       "<polyline clip-path=\"url(#clip310)\" style=\"stroke:#000000; stroke-width:4; stroke-opacity:1; fill:none\" points=\"\n",
       "  1254.68,1486.45 1254.68,1469.18 \n",
       "  \"/>\n",
       "<polyline clip-path=\"url(#clip310)\" style=\"stroke:#000000; stroke-width:4; stroke-opacity:1; fill:none\" points=\"\n",
       "  1772.64,1486.45 1772.64,1469.18 \n",
       "  \"/>\n",
       "<polyline clip-path=\"url(#clip310)\" style=\"stroke:#000000; stroke-width:4; stroke-opacity:1; fill:none\" points=\"\n",
       "  2290.6,1486.45 2290.6,1469.18 \n",
       "  \"/>\n",
       "<path clip-path=\"url(#clip310)\" d=\"M 0 0 M170.826 1543.18 L178.465 1543.18 L178.465 1516.82 L170.154 1518.49 L170.154 1514.23 L178.418 1512.56 L183.094 1512.56 L183.094 1543.18 L190.733 1543.18 L190.733 1547.12 L170.826 1547.12 L170.826 1543.18 Z\" fill=\"#000000\" fill-rule=\"evenodd\" fill-opacity=\"1\" /><path clip-path=\"url(#clip310)\" d=\"M 0 0 M200.177 1541.24 L205.062 1541.24 L205.062 1547.12 L200.177 1547.12 L200.177 1541.24 Z\" fill=\"#000000\" fill-rule=\"evenodd\" fill-opacity=\"1\" /><path clip-path=\"url(#clip310)\" d=\"M 0 0 M225.247 1515.64 Q221.636 1515.64 219.807 1519.2 Q218.001 1522.75 218.001 1529.87 Q218.001 1536.98 219.807 1540.55 Q221.636 1544.09 225.247 1544.09 Q228.881 1544.09 230.686 1540.55 Q232.515 1536.98 232.515 1529.87 Q232.515 1522.75 230.686 1519.2 Q228.881 1515.64 225.247 1515.64 M225.247 1511.93 Q231.057 1511.93 234.112 1516.54 Q237.191 1521.12 237.191 1529.87 Q237.191 1538.6 234.112 1543.21 Q231.057 1547.79 225.247 1547.79 Q219.437 1547.79 216.358 1543.21 Q213.302 1538.6 213.302 1529.87 Q213.302 1521.12 216.358 1516.54 Q219.437 1511.93 225.247 1511.93 Z\" fill=\"#000000\" fill-rule=\"evenodd\" fill-opacity=\"1\" /><path clip-path=\"url(#clip310)\" d=\"M 0 0 M255.409 1515.64 Q251.797 1515.64 249.969 1519.2 Q248.163 1522.75 248.163 1529.87 Q248.163 1536.98 249.969 1540.55 Q251.797 1544.09 255.409 1544.09 Q259.043 1544.09 260.848 1540.55 Q262.677 1536.98 262.677 1529.87 Q262.677 1522.75 260.848 1519.2 Q259.043 1515.64 255.409 1515.64 M255.409 1511.93 Q261.219 1511.93 264.274 1516.54 Q267.353 1521.12 267.353 1529.87 Q267.353 1538.6 264.274 1543.21 Q261.219 1547.79 255.409 1547.79 Q249.598 1547.79 246.52 1543.21 Q243.464 1538.6 243.464 1529.87 Q243.464 1521.12 246.52 1516.54 Q249.598 1511.93 255.409 1511.93 Z\" fill=\"#000000\" fill-rule=\"evenodd\" fill-opacity=\"1\" /><path clip-path=\"url(#clip310)\" d=\"M 0 0 M689.285 1543.18 L696.924 1543.18 L696.924 1516.82 L688.614 1518.49 L688.614 1514.23 L696.878 1512.56 L701.554 1512.56 L701.554 1543.18 L709.192 1543.18 L709.192 1547.12 L689.285 1547.12 L689.285 1543.18 Z\" fill=\"#000000\" fill-rule=\"evenodd\" fill-opacity=\"1\" /><path clip-path=\"url(#clip310)\" d=\"M 0 0 M718.637 1541.24 L723.521 1541.24 L723.521 1547.12 L718.637 1547.12 L718.637 1541.24 Z\" fill=\"#000000\" fill-rule=\"evenodd\" fill-opacity=\"1\" /><path clip-path=\"url(#clip310)\" d=\"M 0 0 M737.734 1543.18 L754.053 1543.18 L754.053 1547.12 L732.109 1547.12 L732.109 1543.18 Q734.771 1540.43 739.354 1535.8 Q743.961 1531.15 745.141 1529.81 Q747.387 1527.28 748.266 1525.55 Q749.169 1523.79 749.169 1522.1 Q749.169 1519.34 747.225 1517.61 Q745.303 1515.87 742.201 1515.87 Q740.002 1515.87 737.549 1516.63 Q735.118 1517.4 732.34 1518.95 L732.34 1514.23 Q735.164 1513.09 737.618 1512.51 Q740.072 1511.93 742.109 1511.93 Q747.479 1511.93 750.674 1514.62 Q753.868 1517.31 753.868 1521.8 Q753.868 1523.93 753.058 1525.85 Q752.271 1527.74 750.164 1530.34 Q749.586 1531.01 746.484 1534.23 Q743.382 1537.42 737.734 1543.18 Z\" fill=\"#000000\" fill-rule=\"evenodd\" fill-opacity=\"1\" /><path clip-path=\"url(#clip310)\" d=\"M 0 0 M763.914 1512.56 L782.271 1512.56 L782.271 1516.5 L768.197 1516.5 L768.197 1524.97 Q769.215 1524.62 770.234 1524.46 Q771.252 1524.27 772.271 1524.27 Q778.058 1524.27 781.437 1527.44 Q784.817 1530.62 784.817 1536.03 Q784.817 1541.61 781.345 1544.71 Q777.873 1547.79 771.553 1547.79 Q769.377 1547.79 767.109 1547.42 Q764.863 1547.05 762.456 1546.31 L762.456 1541.61 Q764.539 1542.74 766.761 1543.3 Q768.984 1543.86 771.461 1543.86 Q775.465 1543.86 777.803 1541.75 Q780.141 1539.64 780.141 1536.03 Q780.141 1532.42 777.803 1530.31 Q775.465 1528.21 771.461 1528.21 Q769.586 1528.21 767.711 1528.62 Q765.859 1529.04 763.914 1529.92 L763.914 1512.56 Z\" fill=\"#000000\" fill-rule=\"evenodd\" fill-opacity=\"1\" /><path clip-path=\"url(#clip310)\" d=\"M 0 0 M1206.75 1543.18 L1214.39 1543.18 L1214.39 1516.82 L1206.08 1518.49 L1206.08 1514.23 L1214.34 1512.56 L1219.02 1512.56 L1219.02 1543.18 L1226.66 1543.18 L1226.66 1547.12 L1206.75 1547.12 L1206.75 1543.18 Z\" fill=\"#000000\" fill-rule=\"evenodd\" fill-opacity=\"1\" /><path clip-path=\"url(#clip310)\" d=\"M 0 0 M1236.1 1541.24 L1240.99 1541.24 L1240.99 1547.12 L1236.1 1547.12 L1236.1 1541.24 Z\" fill=\"#000000\" fill-rule=\"evenodd\" fill-opacity=\"1\" /><path clip-path=\"url(#clip310)\" d=\"M 0 0 M1251.22 1512.56 L1269.57 1512.56 L1269.57 1516.5 L1255.5 1516.5 L1255.5 1524.97 Q1256.52 1524.62 1257.54 1524.46 Q1258.55 1524.27 1259.57 1524.27 Q1265.36 1524.27 1268.74 1527.44 Q1272.12 1530.62 1272.12 1536.03 Q1272.12 1541.61 1268.65 1544.71 Q1265.17 1547.79 1258.86 1547.79 Q1256.68 1547.79 1254.41 1547.42 Q1252.17 1547.05 1249.76 1546.31 L1249.76 1541.61 Q1251.84 1542.74 1254.06 1543.3 Q1256.29 1543.86 1258.76 1543.86 Q1262.77 1543.86 1265.11 1541.75 Q1267.44 1539.64 1267.44 1536.03 Q1267.44 1532.42 1265.11 1530.31 Q1262.77 1528.21 1258.76 1528.21 Q1256.89 1528.21 1255.01 1528.62 Q1253.16 1529.04 1251.22 1529.92 L1251.22 1512.56 Z\" fill=\"#000000\" fill-rule=\"evenodd\" fill-opacity=\"1\" /><path clip-path=\"url(#clip310)\" d=\"M 0 0 M1291.33 1515.64 Q1287.72 1515.64 1285.89 1519.2 Q1284.09 1522.75 1284.09 1529.87 Q1284.09 1536.98 1285.89 1540.55 Q1287.72 1544.09 1291.33 1544.09 Q1294.97 1544.09 1296.77 1540.55 Q1298.6 1536.98 1298.6 1529.87 Q1298.6 1522.75 1296.77 1519.2 Q1294.97 1515.64 1291.33 1515.64 M1291.33 1511.93 Q1297.14 1511.93 1300.2 1516.54 Q1303.28 1521.12 1303.28 1529.87 Q1303.28 1538.6 1300.2 1543.21 Q1297.14 1547.79 1291.33 1547.79 Q1285.52 1547.79 1282.44 1543.21 Q1279.39 1538.6 1279.39 1529.87 Q1279.39 1521.12 1282.44 1516.54 Q1285.52 1511.93 1291.33 1511.93 Z\" fill=\"#000000\" fill-rule=\"evenodd\" fill-opacity=\"1\" /><path clip-path=\"url(#clip310)\" d=\"M 0 0 M1725.21 1543.18 L1732.85 1543.18 L1732.85 1516.82 L1724.54 1518.49 L1724.54 1514.23 L1732.8 1512.56 L1737.48 1512.56 L1737.48 1543.18 L1745.12 1543.18 L1745.12 1547.12 L1725.21 1547.12 L1725.21 1543.18 Z\" fill=\"#000000\" fill-rule=\"evenodd\" fill-opacity=\"1\" /><path clip-path=\"url(#clip310)\" d=\"M 0 0 M1754.56 1541.24 L1759.44 1541.24 L1759.44 1547.12 L1754.56 1547.12 L1754.56 1541.24 Z\" fill=\"#000000\" fill-rule=\"evenodd\" fill-opacity=\"1\" /><path clip-path=\"url(#clip310)\" d=\"M 0 0 M1768.45 1512.56 L1790.67 1512.56 L1790.67 1514.55 L1778.12 1547.12 L1773.24 1547.12 L1785.05 1516.5 L1768.45 1516.5 L1768.45 1512.56 Z\" fill=\"#000000\" fill-rule=\"evenodd\" fill-opacity=\"1\" /><path clip-path=\"url(#clip310)\" d=\"M 0 0 M1799.84 1512.56 L1818.19 1512.56 L1818.19 1516.5 L1804.12 1516.5 L1804.12 1524.97 Q1805.14 1524.62 1806.16 1524.46 Q1807.18 1524.27 1808.19 1524.27 Q1813.98 1524.27 1817.36 1527.44 Q1820.74 1530.62 1820.74 1536.03 Q1820.74 1541.61 1817.27 1544.71 Q1813.8 1547.79 1807.48 1547.79 Q1805.3 1547.79 1803.03 1547.42 Q1800.79 1547.05 1798.38 1546.31 L1798.38 1541.61 Q1800.46 1542.74 1802.68 1543.3 Q1804.91 1543.86 1807.38 1543.86 Q1811.39 1543.86 1813.73 1541.75 Q1816.06 1539.64 1816.06 1536.03 Q1816.06 1532.42 1813.73 1530.31 Q1811.39 1528.21 1807.38 1528.21 Q1805.51 1528.21 1803.63 1528.62 Q1801.78 1529.04 1799.84 1529.92 L1799.84 1512.56 Z\" fill=\"#000000\" fill-rule=\"evenodd\" fill-opacity=\"1\" /><path clip-path=\"url(#clip310)\" d=\"M 0 0 M2246.76 1543.18 L2263.08 1543.18 L2263.08 1547.12 L2241.13 1547.12 L2241.13 1543.18 Q2243.8 1540.43 2248.38 1535.8 Q2252.98 1531.15 2254.17 1529.81 Q2256.41 1527.28 2257.29 1525.55 Q2258.19 1523.79 2258.19 1522.1 Q2258.19 1519.34 2256.25 1517.61 Q2254.33 1515.87 2251.23 1515.87 Q2249.03 1515.87 2246.57 1516.63 Q2244.14 1517.4 2241.36 1518.95 L2241.36 1514.23 Q2244.19 1513.09 2246.64 1512.51 Q2249.1 1511.93 2251.13 1511.93 Q2256.5 1511.93 2259.7 1514.62 Q2262.89 1517.31 2262.89 1521.8 Q2262.89 1523.93 2262.08 1525.85 Q2261.3 1527.74 2259.19 1530.34 Q2258.61 1531.01 2255.51 1534.23 Q2252.41 1537.42 2246.76 1543.18 Z\" fill=\"#000000\" fill-rule=\"evenodd\" fill-opacity=\"1\" /><path clip-path=\"url(#clip310)\" d=\"M 0 0 M2272.89 1541.24 L2277.78 1541.24 L2277.78 1547.12 L2272.89 1547.12 L2272.89 1541.24 Z\" fill=\"#000000\" fill-rule=\"evenodd\" fill-opacity=\"1\" /><path clip-path=\"url(#clip310)\" d=\"M 0 0 M2297.96 1515.64 Q2294.35 1515.64 2292.52 1519.2 Q2290.72 1522.75 2290.72 1529.87 Q2290.72 1536.98 2292.52 1540.55 Q2294.35 1544.09 2297.96 1544.09 Q2301.6 1544.09 2303.4 1540.55 Q2305.23 1536.98 2305.23 1529.87 Q2305.23 1522.75 2303.4 1519.2 Q2301.6 1515.64 2297.96 1515.64 M2297.96 1511.93 Q2303.77 1511.93 2306.83 1516.54 Q2309.91 1521.12 2309.91 1529.87 Q2309.91 1538.6 2306.83 1543.21 Q2303.77 1547.79 2297.96 1547.79 Q2292.15 1547.79 2289.07 1543.21 Q2286.02 1538.6 2286.02 1529.87 Q2286.02 1521.12 2289.07 1516.54 Q2292.15 1511.93 2297.96 1511.93 Z\" fill=\"#000000\" fill-rule=\"evenodd\" fill-opacity=\"1\" /><path clip-path=\"url(#clip310)\" d=\"M 0 0 M2328.12 1515.64 Q2324.51 1515.64 2322.68 1519.2 Q2320.88 1522.75 2320.88 1529.87 Q2320.88 1536.98 2322.68 1540.55 Q2324.51 1544.09 2328.12 1544.09 Q2331.76 1544.09 2333.56 1540.55 Q2335.39 1536.98 2335.39 1529.87 Q2335.39 1522.75 2333.56 1519.2 Q2331.76 1515.64 2328.12 1515.64 M2328.12 1511.93 Q2333.93 1511.93 2336.99 1516.54 Q2340.07 1521.12 2340.07 1529.87 Q2340.07 1538.6 2336.99 1543.21 Q2333.93 1547.79 2328.12 1547.79 Q2322.31 1547.79 2319.23 1543.21 Q2316.18 1538.6 2316.18 1529.87 Q2316.18 1521.12 2319.23 1516.54 Q2322.31 1511.93 2328.12 1511.93 Z\" fill=\"#000000\" fill-rule=\"evenodd\" fill-opacity=\"1\" /><polyline clip-path=\"url(#clip312)\" style=\"stroke:#000000; stroke-width:2; stroke-opacity:0.1; fill:none\" points=\"\n",
       "  156.598,1367.89 2352.76,1367.89 \n",
       "  \"/>\n",
       "<polyline clip-path=\"url(#clip312)\" style=\"stroke:#000000; stroke-width:2; stroke-opacity:0.1; fill:none\" points=\"\n",
       "  156.598,1177.59 2352.76,1177.59 \n",
       "  \"/>\n",
       "<polyline clip-path=\"url(#clip312)\" style=\"stroke:#000000; stroke-width:2; stroke-opacity:0.1; fill:none\" points=\"\n",
       "  156.598,987.281 2352.76,987.281 \n",
       "  \"/>\n",
       "<polyline clip-path=\"url(#clip312)\" style=\"stroke:#000000; stroke-width:2; stroke-opacity:0.1; fill:none\" points=\"\n",
       "  156.598,796.977 2352.76,796.977 \n",
       "  \"/>\n",
       "<polyline clip-path=\"url(#clip312)\" style=\"stroke:#000000; stroke-width:2; stroke-opacity:0.1; fill:none\" points=\"\n",
       "  156.598,606.673 2352.76,606.673 \n",
       "  \"/>\n",
       "<polyline clip-path=\"url(#clip312)\" style=\"stroke:#000000; stroke-width:2; stroke-opacity:0.1; fill:none\" points=\"\n",
       "  156.598,416.369 2352.76,416.369 \n",
       "  \"/>\n",
       "<polyline clip-path=\"url(#clip312)\" style=\"stroke:#000000; stroke-width:2; stroke-opacity:0.1; fill:none\" points=\"\n",
       "  156.598,226.065 2352.76,226.065 \n",
       "  \"/>\n",
       "<polyline clip-path=\"url(#clip310)\" style=\"stroke:#000000; stroke-width:4; stroke-opacity:1; fill:none\" points=\"\n",
       "  156.598,1486.45 156.598,47.2441 \n",
       "  \"/>\n",
       "<polyline clip-path=\"url(#clip310)\" style=\"stroke:#000000; stroke-width:4; stroke-opacity:1; fill:none\" points=\"\n",
       "  156.598,1367.89 182.952,1367.89 \n",
       "  \"/>\n",
       "<polyline clip-path=\"url(#clip310)\" style=\"stroke:#000000; stroke-width:4; stroke-opacity:1; fill:none\" points=\"\n",
       "  156.598,1177.59 182.952,1177.59 \n",
       "  \"/>\n",
       "<polyline clip-path=\"url(#clip310)\" style=\"stroke:#000000; stroke-width:4; stroke-opacity:1; fill:none\" points=\"\n",
       "  156.598,987.281 182.952,987.281 \n",
       "  \"/>\n",
       "<polyline clip-path=\"url(#clip310)\" style=\"stroke:#000000; stroke-width:4; stroke-opacity:1; fill:none\" points=\"\n",
       "  156.598,796.977 182.952,796.977 \n",
       "  \"/>\n",
       "<polyline clip-path=\"url(#clip310)\" style=\"stroke:#000000; stroke-width:4; stroke-opacity:1; fill:none\" points=\"\n",
       "  156.598,606.673 182.952,606.673 \n",
       "  \"/>\n",
       "<polyline clip-path=\"url(#clip310)\" style=\"stroke:#000000; stroke-width:4; stroke-opacity:1; fill:none\" points=\"\n",
       "  156.598,416.369 182.952,416.369 \n",
       "  \"/>\n",
       "<polyline clip-path=\"url(#clip310)\" style=\"stroke:#000000; stroke-width:4; stroke-opacity:1; fill:none\" points=\"\n",
       "  156.598,226.065 182.952,226.065 \n",
       "  \"/>\n",
       "<path clip-path=\"url(#clip310)\" d=\"M 0 0 M64.6495 1353.69 Q61.0384 1353.69 59.2097 1357.25 Q57.4041 1360.79 57.4041 1367.92 Q57.4041 1375.03 59.2097 1378.6 Q61.0384 1382.14 64.6495 1382.14 Q68.2837 1382.14 70.0892 1378.6 Q71.9179 1375.03 71.9179 1367.92 Q71.9179 1360.79 70.0892 1357.25 Q68.2837 1353.69 64.6495 1353.69 M64.6495 1349.98 Q70.4596 1349.98 73.5152 1354.59 Q76.5938 1359.17 76.5938 1367.92 Q76.5938 1376.65 73.5152 1381.26 Q70.4596 1385.84 64.6495 1385.84 Q58.8393 1385.84 55.7606 1381.26 Q52.7051 1376.65 52.7051 1367.92 Q52.7051 1359.17 55.7606 1354.59 Q58.8393 1349.98 64.6495 1349.98 Z\" fill=\"#000000\" fill-rule=\"evenodd\" fill-opacity=\"1\" /><path clip-path=\"url(#clip310)\" d=\"M 0 0 M84.8114 1379.29 L89.6956 1379.29 L89.6956 1385.17 L84.8114 1385.17 L84.8114 1379.29 Z\" fill=\"#000000\" fill-rule=\"evenodd\" fill-opacity=\"1\" /><path clip-path=\"url(#clip310)\" d=\"M 0 0 M100.691 1381.23 L108.33 1381.23 L108.33 1354.87 L100.02 1356.53 L100.02 1352.28 L108.283 1350.61 L112.959 1350.61 L112.959 1381.23 L120.598 1381.23 L120.598 1385.17 L100.691 1385.17 L100.691 1381.23 Z\" fill=\"#000000\" fill-rule=\"evenodd\" fill-opacity=\"1\" /><path clip-path=\"url(#clip310)\" d=\"M 0 0 M65.0198 1163.38 Q61.4087 1163.38 59.58 1166.95 Q57.7745 1170.49 57.7745 1177.62 Q57.7745 1184.73 59.58 1188.29 Q61.4087 1191.83 65.0198 1191.83 Q68.6541 1191.83 70.4596 1188.29 Q72.2883 1184.73 72.2883 1177.62 Q72.2883 1170.49 70.4596 1166.95 Q68.6541 1163.38 65.0198 1163.38 M65.0198 1159.68 Q70.83 1159.68 73.8855 1164.29 Q76.9642 1168.87 76.9642 1177.62 Q76.9642 1186.35 73.8855 1190.95 Q70.83 1195.54 65.0198 1195.54 Q59.2097 1195.54 56.131 1190.95 Q53.0754 1186.35 53.0754 1177.62 Q53.0754 1168.87 56.131 1164.29 Q59.2097 1159.68 65.0198 1159.68 Z\" fill=\"#000000\" fill-rule=\"evenodd\" fill-opacity=\"1\" /><path clip-path=\"url(#clip310)\" d=\"M 0 0 M85.1818 1188.99 L90.066 1188.99 L90.066 1194.87 L85.1818 1194.87 L85.1818 1188.99 Z\" fill=\"#000000\" fill-rule=\"evenodd\" fill-opacity=\"1\" /><path clip-path=\"url(#clip310)\" d=\"M 0 0 M104.279 1190.93 L120.598 1190.93 L120.598 1194.87 L98.6539 1194.87 L98.6539 1190.93 Q101.316 1188.18 105.899 1183.55 Q110.506 1178.89 111.686 1177.55 Q113.932 1175.03 114.811 1173.29 Q115.714 1171.53 115.714 1169.84 Q115.714 1167.09 113.77 1165.35 Q111.848 1163.62 108.746 1163.62 Q106.547 1163.62 104.094 1164.38 Q101.663 1165.14 98.8854 1166.69 L98.8854 1161.97 Q101.709 1160.84 104.163 1160.26 Q106.617 1159.68 108.654 1159.68 Q114.024 1159.68 117.219 1162.37 Q120.413 1165.05 120.413 1169.54 Q120.413 1171.67 119.603 1173.59 Q118.816 1175.49 116.709 1178.08 Q116.131 1178.75 113.029 1181.97 Q109.927 1185.17 104.279 1190.93 Z\" fill=\"#000000\" fill-rule=\"evenodd\" fill-opacity=\"1\" /><path clip-path=\"url(#clip310)\" d=\"M 0 0 M64.0708 973.08 Q60.4597 973.08 58.631 976.645 Q56.8254 980.186 56.8254 987.316 Q56.8254 994.422 58.631 997.987 Q60.4597 1001.53 64.0708 1001.53 Q67.705 1001.53 69.5105 997.987 Q71.3392 994.422 71.3392 987.316 Q71.3392 980.186 69.5105 976.645 Q67.705 973.08 64.0708 973.08 M64.0708 969.376 Q69.8809 969.376 72.9365 973.983 Q76.0151 978.566 76.0151 987.316 Q76.0151 996.043 72.9365 1000.65 Q69.8809 1005.23 64.0708 1005.23 Q58.2606 1005.23 55.1819 1000.65 Q52.1264 996.043 52.1264 987.316 Q52.1264 978.566 55.1819 973.983 Q58.2606 969.376 64.0708 969.376 Z\" fill=\"#000000\" fill-rule=\"evenodd\" fill-opacity=\"1\" /><path clip-path=\"url(#clip310)\" d=\"M 0 0 M84.2327 998.681 L89.1169 998.681 L89.1169 1004.56 L84.2327 1004.56 L84.2327 998.681 Z\" fill=\"#000000\" fill-rule=\"evenodd\" fill-opacity=\"1\" /><path clip-path=\"url(#clip310)\" d=\"M 0 0 M113.469 985.927 Q116.825 986.645 118.7 988.913 Q120.598 991.182 120.598 994.515 Q120.598 999.631 117.08 1002.43 Q113.561 1005.23 107.08 1005.23 Q104.904 1005.23 102.589 1004.79 Q100.297 1004.38 97.8437 1003.52 L97.8437 999.006 Q99.7882 1000.14 102.103 1000.72 Q104.418 1001.3 106.941 1001.3 Q111.339 1001.3 113.631 999.561 Q115.945 997.825 115.945 994.515 Q115.945 991.459 113.793 989.746 Q111.663 988.01 107.844 988.01 L103.816 988.01 L103.816 984.168 L108.029 984.168 Q111.478 984.168 113.307 982.802 Q115.135 981.413 115.135 978.82 Q115.135 976.158 113.237 974.746 Q111.362 973.311 107.844 973.311 Q105.922 973.311 103.723 973.728 Q101.524 974.145 98.8854 975.024 L98.8854 970.858 Q101.547 970.117 103.862 969.746 Q106.2 969.376 108.26 969.376 Q113.584 969.376 116.686 971.807 Q119.788 974.214 119.788 978.334 Q119.788 981.205 118.145 983.195 Q116.501 985.163 113.469 985.927 Z\" fill=\"#000000\" fill-rule=\"evenodd\" fill-opacity=\"1\" /><path clip-path=\"url(#clip310)\" d=\"M 0 0 M62.9365 782.776 Q59.3254 782.776 57.4967 786.341 Q55.6912 789.882 55.6912 797.012 Q55.6912 804.118 57.4967 807.683 Q59.3254 811.225 62.9365 811.225 Q66.5707 811.225 68.3763 807.683 Q70.205 804.118 70.205 797.012 Q70.205 789.882 68.3763 786.341 Q66.5707 782.776 62.9365 782.776 M62.9365 779.072 Q68.7467 779.072 71.8022 783.679 Q74.8809 788.262 74.8809 797.012 Q74.8809 805.739 71.8022 810.345 Q68.7467 814.928 62.9365 814.928 Q57.1264 814.928 54.0477 810.345 Q50.9921 805.739 50.9921 797.012 Q50.9921 788.262 54.0477 783.679 Q57.1264 779.072 62.9365 779.072 Z\" fill=\"#000000\" fill-rule=\"evenodd\" fill-opacity=\"1\" /><path clip-path=\"url(#clip310)\" d=\"M 0 0 M83.0984 808.377 L87.9827 808.377 L87.9827 814.257 L83.0984 814.257 L83.0984 808.377 Z\" fill=\"#000000\" fill-rule=\"evenodd\" fill-opacity=\"1\" /><path clip-path=\"url(#clip310)\" d=\"M 0 0 M111.015 783.771 L99.2095 802.22 L111.015 802.22 L111.015 783.771 M109.788 779.697 L115.668 779.697 L115.668 802.22 L120.598 802.22 L120.598 806.109 L115.668 806.109 L115.668 814.257 L111.015 814.257 L111.015 806.109 L95.4132 806.109 L95.4132 801.595 L109.788 779.697 Z\" fill=\"#000000\" fill-rule=\"evenodd\" fill-opacity=\"1\" /><path clip-path=\"url(#clip310)\" d=\"M 0 0 M64.418 592.472 Q60.8069 592.472 58.9782 596.037 Q57.1726 599.578 57.1726 606.708 Q57.1726 613.814 58.9782 617.379 Q60.8069 620.921 64.418 620.921 Q68.0522 620.921 69.8578 617.379 Q71.6865 613.814 71.6865 606.708 Q71.6865 599.578 69.8578 596.037 Q68.0522 592.472 64.418 592.472 M64.418 588.768 Q70.2281 588.768 73.2837 593.375 Q76.3624 597.958 76.3624 606.708 Q76.3624 615.435 73.2837 620.041 Q70.2281 624.624 64.418 624.624 Q58.6078 624.624 55.5291 620.041 Q52.4736 615.435 52.4736 606.708 Q52.4736 597.958 55.5291 593.375 Q58.6078 588.768 64.418 588.768 Z\" fill=\"#000000\" fill-rule=\"evenodd\" fill-opacity=\"1\" /><path clip-path=\"url(#clip310)\" d=\"M 0 0 M84.5799 618.073 L89.4641 618.073 L89.4641 623.953 L84.5799 623.953 L84.5799 618.073 Z\" fill=\"#000000\" fill-rule=\"evenodd\" fill-opacity=\"1\" /><path clip-path=\"url(#clip310)\" d=\"M 0 0 M99.6956 589.393 L118.052 589.393 L118.052 593.328 L103.978 593.328 L103.978 601.8 Q104.996 601.453 106.015 601.291 Q107.033 601.106 108.052 601.106 Q113.839 601.106 117.219 604.277 Q120.598 607.449 120.598 612.865 Q120.598 618.444 117.126 621.546 Q113.654 624.624 107.334 624.624 Q105.159 624.624 102.89 624.254 Q100.645 623.884 98.2372 623.143 L98.2372 618.444 Q100.321 619.578 102.543 620.134 Q104.765 620.689 107.242 620.689 Q111.246 620.689 113.584 618.583 Q115.922 616.476 115.922 612.865 Q115.922 609.254 113.584 607.148 Q111.246 605.041 107.242 605.041 Q105.367 605.041 103.492 605.458 Q101.64 605.874 99.6956 606.754 L99.6956 589.393 Z\" fill=\"#000000\" fill-rule=\"evenodd\" fill-opacity=\"1\" /><path clip-path=\"url(#clip310)\" d=\"M 0 0 M63.2606 402.168 Q59.6495 402.168 57.8208 405.733 Q56.0152 409.274 56.0152 416.404 Q56.0152 423.51 57.8208 427.075 Q59.6495 430.617 63.2606 430.617 Q66.8948 430.617 68.7004 427.075 Q70.5291 423.51 70.5291 416.404 Q70.5291 409.274 68.7004 405.733 Q66.8948 402.168 63.2606 402.168 M63.2606 398.464 Q69.0707 398.464 72.1263 403.071 Q75.205 407.654 75.205 416.404 Q75.205 425.131 72.1263 429.737 Q69.0707 434.32 63.2606 434.32 Q57.4504 434.32 54.3717 429.737 Q51.3162 425.131 51.3162 416.404 Q51.3162 407.654 54.3717 403.071 Q57.4504 398.464 63.2606 398.464 Z\" fill=\"#000000\" fill-rule=\"evenodd\" fill-opacity=\"1\" /><path clip-path=\"url(#clip310)\" d=\"M 0 0 M83.4225 427.769 L88.3067 427.769 L88.3067 433.649 L83.4225 433.649 L83.4225 427.769 Z\" fill=\"#000000\" fill-rule=\"evenodd\" fill-opacity=\"1\" /><path clip-path=\"url(#clip310)\" d=\"M 0 0 M109.071 414.506 Q105.922 414.506 104.071 416.658 Q102.242 418.811 102.242 422.561 Q102.242 426.288 104.071 428.464 Q105.922 430.617 109.071 430.617 Q112.219 430.617 114.047 428.464 Q115.899 426.288 115.899 422.561 Q115.899 418.811 114.047 416.658 Q112.219 414.506 109.071 414.506 M118.353 399.853 L118.353 404.112 Q116.594 403.279 114.788 402.839 Q113.006 402.399 111.246 402.399 Q106.617 402.399 104.163 405.524 Q101.733 408.649 101.385 414.969 Q102.751 412.955 104.811 411.89 Q106.871 410.802 109.348 410.802 Q114.557 410.802 117.566 413.973 Q120.598 417.121 120.598 422.561 Q120.598 427.885 117.45 431.103 Q114.302 434.32 109.071 434.32 Q103.075 434.32 99.9039 429.737 Q96.7326 425.131 96.7326 416.404 Q96.7326 408.209 100.621 403.348 Q104.51 398.464 111.061 398.464 Q112.82 398.464 114.603 398.811 Q116.408 399.159 118.353 399.853 Z\" fill=\"#000000\" fill-rule=\"evenodd\" fill-opacity=\"1\" /><path clip-path=\"url(#clip310)\" d=\"M 0 0 M64.3254 211.864 Q60.7143 211.864 58.8856 215.429 Q57.0801 218.97 57.0801 226.1 Q57.0801 233.206 58.8856 236.771 Q60.7143 240.313 64.3254 240.313 Q67.9596 240.313 69.7652 236.771 Q71.5939 233.206 71.5939 226.1 Q71.5939 218.97 69.7652 215.429 Q67.9596 211.864 64.3254 211.864 M64.3254 208.16 Q70.1355 208.16 73.1911 212.767 Q76.2698 217.35 76.2698 226.1 Q76.2698 234.827 73.1911 239.433 Q70.1355 244.016 64.3254 244.016 Q58.5152 244.016 55.4365 239.433 Q52.381 234.827 52.381 226.1 Q52.381 217.35 55.4365 212.767 Q58.5152 208.16 64.3254 208.16 Z\" fill=\"#000000\" fill-rule=\"evenodd\" fill-opacity=\"1\" /><path clip-path=\"url(#clip310)\" d=\"M 0 0 M84.4873 237.465 L89.3715 237.465 L89.3715 243.345 L84.4873 243.345 L84.4873 237.465 Z\" fill=\"#000000\" fill-rule=\"evenodd\" fill-opacity=\"1\" /><path clip-path=\"url(#clip310)\" d=\"M 0 0 M98.3761 208.785 L120.598 208.785 L120.598 210.776 L108.052 243.345 L103.168 243.345 L114.973 212.72 L98.3761 212.72 L98.3761 208.785 Z\" fill=\"#000000\" fill-rule=\"evenodd\" fill-opacity=\"1\" /><path clip-path=\"url(#clip310)\" d=\"\n",
       "M1983.1 216.178 L2279.55 216.178 L2279.55 95.2176 L1983.1 95.2176  Z\n",
       "  \" fill=\"#ffffff\" fill-rule=\"evenodd\" fill-opacity=\"1\"/>\n",
       "<polyline clip-path=\"url(#clip310)\" style=\"stroke:#000000; stroke-width:4; stroke-opacity:1; fill:none\" points=\"\n",
       "  1983.1,216.178 2279.55,216.178 2279.55,95.2176 1983.1,95.2176 1983.1,216.178 \n",
       "  \"/>\n",
       "<polyline clip-path=\"url(#clip310)\" style=\"stroke:#009af9; stroke-width:4; stroke-opacity:1; fill:none\" points=\"\n",
       "  2007.5,155.698 2153.92,155.698 \n",
       "  \"/>\n",
       "<path clip-path=\"url(#clip310)\" d=\"M 0 0 M2192.16 175.385 Q2190.35 180.015 2188.64 181.427 Q2186.93 182.839 2184.06 182.839 L2180.65 182.839 L2180.65 179.274 L2183.15 179.274 Q2184.91 179.274 2185.89 178.44 Q2186.86 177.607 2188.04 174.505 L2188.8 172.561 L2178.32 147.052 L2182.83 147.052 L2190.93 167.329 L2199.03 147.052 L2203.55 147.052 L2192.16 175.385 Z\" fill=\"#000000\" fill-rule=\"evenodd\" fill-opacity=\"1\" /><path clip-path=\"url(#clip310)\" d=\"M 0 0 M2210.84 169.042 L2218.48 169.042 L2218.48 142.677 L2210.17 144.343 L2210.17 140.084 L2218.43 138.418 L2223.11 138.418 L2223.11 169.042 L2230.75 169.042 L2230.75 172.978 L2210.84 172.978 L2210.84 169.042 Z\" fill=\"#000000\" fill-rule=\"evenodd\" fill-opacity=\"1\" /></svg>\n"
      ]
     },
     "execution_count": 6,
     "metadata": {},
     "output_type": "execute_result"
    }
   ],
   "source": [
    "using Plots\n",
    "\n"
   ]
  },
  {
   "cell_type": "code",
   "execution_count": 7,
   "metadata": {},
   "outputs": [
    {
     "data": {
      "image/svg+xml": [
       "<?xml version=\"1.0\" encoding=\"utf-8\"?>\n",
       "<svg xmlns=\"http://www.w3.org/2000/svg\" xmlns:xlink=\"http://www.w3.org/1999/xlink\" width=\"600\" height=\"400\" viewBox=\"0 0 2400 1600\">\n",
       "<defs>\n",
       "  <clipPath id=\"clip350\">\n",
       "    <rect x=\"0\" y=\"0\" width=\"2400\" height=\"1600\"/>\n",
       "  </clipPath>\n",
       "</defs>\n",
       "<path clip-path=\"url(#clip350)\" d=\"\n",
       "M0 1600 L2400 1600 L2400 0 L0 0  Z\n",
       "  \" fill=\"#ffffff\" fill-rule=\"evenodd\" fill-opacity=\"1\"/>\n",
       "<defs>\n",
       "  <clipPath id=\"clip351\">\n",
       "    <rect x=\"480\" y=\"0\" width=\"1681\" height=\"1600\"/>\n",
       "  </clipPath>\n",
       "</defs>\n",
       "<path clip-path=\"url(#clip350)\" d=\"\n",
       "M156.598 1486.45 L2352.76 1486.45 L2352.76 47.2441 L156.598 47.2441  Z\n",
       "  \" fill=\"#ffffff\" fill-rule=\"evenodd\" fill-opacity=\"1\"/>\n",
       "<defs>\n",
       "  <clipPath id=\"clip352\">\n",
       "    <rect x=\"156\" y=\"47\" width=\"2197\" height=\"1440\"/>\n",
       "  </clipPath>\n",
       "</defs>\n",
       "<polyline clip-path=\"url(#clip352)\" style=\"stroke:#000000; stroke-width:2; stroke-opacity:0.1; fill:none\" points=\"\n",
       "  156.598,1486.45 156.598,47.2441 \n",
       "  \"/>\n",
       "<polyline clip-path=\"url(#clip352)\" style=\"stroke:#000000; stroke-width:2; stroke-opacity:0.1; fill:none\" points=\"\n",
       "  595.83,1486.45 595.83,47.2441 \n",
       "  \"/>\n",
       "<polyline clip-path=\"url(#clip352)\" style=\"stroke:#000000; stroke-width:2; stroke-opacity:0.1; fill:none\" points=\"\n",
       "  1035.06,1486.45 1035.06,47.2441 \n",
       "  \"/>\n",
       "<polyline clip-path=\"url(#clip352)\" style=\"stroke:#000000; stroke-width:2; stroke-opacity:0.1; fill:none\" points=\"\n",
       "  1474.29,1486.45 1474.29,47.2441 \n",
       "  \"/>\n",
       "<polyline clip-path=\"url(#clip352)\" style=\"stroke:#000000; stroke-width:2; stroke-opacity:0.1; fill:none\" points=\"\n",
       "  1913.52,1486.45 1913.52,47.2441 \n",
       "  \"/>\n",
       "<polyline clip-path=\"url(#clip352)\" style=\"stroke:#000000; stroke-width:2; stroke-opacity:0.1; fill:none\" points=\"\n",
       "  2352.76,1486.45 2352.76,47.2441 \n",
       "  \"/>\n",
       "<polyline clip-path=\"url(#clip350)\" style=\"stroke:#000000; stroke-width:4; stroke-opacity:1; fill:none\" points=\"\n",
       "  156.598,1486.45 2352.76,1486.45 \n",
       "  \"/>\n",
       "<polyline clip-path=\"url(#clip350)\" style=\"stroke:#000000; stroke-width:4; stroke-opacity:1; fill:none\" points=\"\n",
       "  156.598,1486.45 156.598,1469.18 \n",
       "  \"/>\n",
       "<polyline clip-path=\"url(#clip350)\" style=\"stroke:#000000; stroke-width:4; stroke-opacity:1; fill:none\" points=\"\n",
       "  595.83,1486.45 595.83,1469.18 \n",
       "  \"/>\n",
       "<polyline clip-path=\"url(#clip350)\" style=\"stroke:#000000; stroke-width:4; stroke-opacity:1; fill:none\" points=\"\n",
       "  1035.06,1486.45 1035.06,1469.18 \n",
       "  \"/>\n",
       "<polyline clip-path=\"url(#clip350)\" style=\"stroke:#000000; stroke-width:4; stroke-opacity:1; fill:none\" points=\"\n",
       "  1474.29,1486.45 1474.29,1469.18 \n",
       "  \"/>\n",
       "<polyline clip-path=\"url(#clip350)\" style=\"stroke:#000000; stroke-width:4; stroke-opacity:1; fill:none\" points=\"\n",
       "  1913.52,1486.45 1913.52,1469.18 \n",
       "  \"/>\n",
       "<polyline clip-path=\"url(#clip350)\" style=\"stroke:#000000; stroke-width:4; stroke-opacity:1; fill:none\" points=\"\n",
       "  2352.76,1486.45 2352.76,1469.18 \n",
       "  \"/>\n",
       "<path clip-path=\"url(#clip350)\" d=\"M 0 0 M133.983 1515.64 Q130.372 1515.64 128.543 1519.2 Q126.737 1522.75 126.737 1529.87 Q126.737 1536.98 128.543 1540.55 Q130.372 1544.09 133.983 1544.09 Q137.617 1544.09 139.422 1540.55 Q141.251 1536.98 141.251 1529.87 Q141.251 1522.75 139.422 1519.2 Q137.617 1515.64 133.983 1515.64 M133.983 1511.93 Q139.793 1511.93 142.848 1516.54 Q145.927 1521.12 145.927 1529.87 Q145.927 1538.6 142.848 1543.21 Q139.793 1547.79 133.983 1547.79 Q128.172 1547.79 125.094 1543.21 Q122.038 1538.6 122.038 1529.87 Q122.038 1521.12 125.094 1516.54 Q128.172 1511.93 133.983 1511.93 Z\" fill=\"#000000\" fill-rule=\"evenodd\" fill-opacity=\"1\" /><path clip-path=\"url(#clip350)\" d=\"M 0 0 M154.145 1541.24 L159.029 1541.24 L159.029 1547.12 L154.145 1547.12 L154.145 1541.24 Z\" fill=\"#000000\" fill-rule=\"evenodd\" fill-opacity=\"1\" /><path clip-path=\"url(#clip350)\" d=\"M 0 0 M179.214 1515.64 Q175.603 1515.64 173.774 1519.2 Q171.969 1522.75 171.969 1529.87 Q171.969 1536.98 173.774 1540.55 Q175.603 1544.09 179.214 1544.09 Q182.848 1544.09 184.654 1540.55 Q186.482 1536.98 186.482 1529.87 Q186.482 1522.75 184.654 1519.2 Q182.848 1515.64 179.214 1515.64 M179.214 1511.93 Q185.024 1511.93 188.08 1516.54 Q191.158 1521.12 191.158 1529.87 Q191.158 1538.6 188.08 1543.21 Q185.024 1547.79 179.214 1547.79 Q173.404 1547.79 170.325 1543.21 Q167.269 1538.6 167.269 1529.87 Q167.269 1521.12 170.325 1516.54 Q173.404 1511.93 179.214 1511.93 Z\" fill=\"#000000\" fill-rule=\"evenodd\" fill-opacity=\"1\" /><path clip-path=\"url(#clip350)\" d=\"M 0 0 M574.013 1515.64 Q570.402 1515.64 568.573 1519.2 Q566.767 1522.75 566.767 1529.87 Q566.767 1536.98 568.573 1540.55 Q570.402 1544.09 574.013 1544.09 Q577.647 1544.09 579.453 1540.55 Q581.281 1536.98 581.281 1529.87 Q581.281 1522.75 579.453 1519.2 Q577.647 1515.64 574.013 1515.64 M574.013 1511.93 Q579.823 1511.93 582.878 1516.54 Q585.957 1521.12 585.957 1529.87 Q585.957 1538.6 582.878 1543.21 Q579.823 1547.79 574.013 1547.79 Q568.203 1547.79 565.124 1543.21 Q562.068 1538.6 562.068 1529.87 Q562.068 1521.12 565.124 1516.54 Q568.203 1511.93 574.013 1511.93 Z\" fill=\"#000000\" fill-rule=\"evenodd\" fill-opacity=\"1\" /><path clip-path=\"url(#clip350)\" d=\"M 0 0 M594.175 1541.24 L599.059 1541.24 L599.059 1547.12 L594.175 1547.12 L594.175 1541.24 Z\" fill=\"#000000\" fill-rule=\"evenodd\" fill-opacity=\"1\" /><path clip-path=\"url(#clip350)\" d=\"M 0 0 M613.272 1543.18 L629.591 1543.18 L629.591 1547.12 L607.647 1547.12 L607.647 1543.18 Q610.309 1540.43 614.892 1535.8 Q619.499 1531.15 620.679 1529.81 Q622.925 1527.28 623.804 1525.55 Q624.707 1523.79 624.707 1522.1 Q624.707 1519.34 622.762 1517.61 Q620.841 1515.87 617.739 1515.87 Q615.54 1515.87 613.087 1516.63 Q610.656 1517.4 607.878 1518.95 L607.878 1514.23 Q610.702 1513.09 613.156 1512.51 Q615.61 1511.93 617.647 1511.93 Q623.017 1511.93 626.212 1514.62 Q629.406 1517.31 629.406 1521.8 Q629.406 1523.93 628.596 1525.85 Q627.809 1527.74 625.702 1530.34 Q625.124 1531.01 622.022 1534.23 Q618.92 1537.42 613.272 1543.18 Z\" fill=\"#000000\" fill-rule=\"evenodd\" fill-opacity=\"1\" /><path clip-path=\"url(#clip350)\" d=\"M 0 0 M1012.2 1515.64 Q1008.59 1515.64 1006.76 1519.2 Q1004.96 1522.75 1004.96 1529.87 Q1004.96 1536.98 1006.76 1540.55 Q1008.59 1544.09 1012.2 1544.09 Q1015.84 1544.09 1017.64 1540.55 Q1019.47 1536.98 1019.47 1529.87 Q1019.47 1522.75 1017.64 1519.2 Q1015.84 1515.64 1012.2 1515.64 M1012.2 1511.93 Q1018.01 1511.93 1021.07 1516.54 Q1024.15 1521.12 1024.15 1529.87 Q1024.15 1538.6 1021.07 1543.21 Q1018.01 1547.79 1012.2 1547.79 Q1006.39 1547.79 1003.31 1543.21 Q1000.26 1538.6 1000.26 1529.87 Q1000.26 1521.12 1003.31 1516.54 Q1006.39 1511.93 1012.2 1511.93 Z\" fill=\"#000000\" fill-rule=\"evenodd\" fill-opacity=\"1\" /><path clip-path=\"url(#clip350)\" d=\"M 0 0 M1032.36 1541.24 L1037.25 1541.24 L1037.25 1547.12 L1032.36 1547.12 L1032.36 1541.24 Z\" fill=\"#000000\" fill-rule=\"evenodd\" fill-opacity=\"1\" /><path clip-path=\"url(#clip350)\" d=\"M 0 0 M1060.28 1516.63 L1048.48 1535.08 L1060.28 1535.08 L1060.28 1516.63 M1059.05 1512.56 L1064.93 1512.56 L1064.93 1535.08 L1069.86 1535.08 L1069.86 1538.97 L1064.93 1538.97 L1064.93 1547.12 L1060.28 1547.12 L1060.28 1538.97 L1044.68 1538.97 L1044.68 1534.46 L1059.05 1512.56 Z\" fill=\"#000000\" fill-rule=\"evenodd\" fill-opacity=\"1\" /><path clip-path=\"url(#clip350)\" d=\"M 0 0 M1451.6 1515.64 Q1447.99 1515.64 1446.16 1519.2 Q1444.35 1522.75 1444.35 1529.87 Q1444.35 1536.98 1446.16 1540.55 Q1447.99 1544.09 1451.6 1544.09 Q1455.23 1544.09 1457.04 1540.55 Q1458.86 1536.98 1458.86 1529.87 Q1458.86 1522.75 1457.04 1519.2 Q1455.23 1515.64 1451.6 1515.64 M1451.6 1511.93 Q1457.41 1511.93 1460.46 1516.54 Q1463.54 1521.12 1463.54 1529.87 Q1463.54 1538.6 1460.46 1543.21 Q1457.41 1547.79 1451.6 1547.79 Q1445.79 1547.79 1442.71 1543.21 Q1439.65 1538.6 1439.65 1529.87 Q1439.65 1521.12 1442.71 1516.54 Q1445.79 1511.93 1451.6 1511.93 Z\" fill=\"#000000\" fill-rule=\"evenodd\" fill-opacity=\"1\" /><path clip-path=\"url(#clip350)\" d=\"M 0 0 M1471.76 1541.24 L1476.64 1541.24 L1476.64 1547.12 L1471.76 1547.12 L1471.76 1541.24 Z\" fill=\"#000000\" fill-rule=\"evenodd\" fill-opacity=\"1\" /><path clip-path=\"url(#clip350)\" d=\"M 0 0 M1497.41 1527.98 Q1494.26 1527.98 1492.41 1530.13 Q1490.58 1532.28 1490.58 1536.03 Q1490.58 1539.76 1492.41 1541.93 Q1494.26 1544.09 1497.41 1544.09 Q1500.55 1544.09 1502.38 1541.93 Q1504.23 1539.76 1504.23 1536.03 Q1504.23 1532.28 1502.38 1530.13 Q1500.55 1527.98 1497.41 1527.98 M1506.69 1513.32 L1506.69 1517.58 Q1504.93 1516.75 1503.12 1516.31 Q1501.34 1515.87 1499.58 1515.87 Q1494.95 1515.87 1492.5 1519 Q1490.07 1522.12 1489.72 1528.44 Q1491.09 1526.43 1493.15 1525.36 Q1495.21 1524.27 1497.68 1524.27 Q1502.89 1524.27 1505.9 1527.44 Q1508.93 1530.59 1508.93 1536.03 Q1508.93 1541.36 1505.79 1544.57 Q1502.64 1547.79 1497.41 1547.79 Q1491.41 1547.79 1488.24 1543.21 Q1485.07 1538.6 1485.07 1529.87 Q1485.07 1521.68 1488.96 1516.82 Q1492.85 1511.93 1499.4 1511.93 Q1501.16 1511.93 1502.94 1512.28 Q1504.74 1512.63 1506.69 1513.32 Z\" fill=\"#000000\" fill-rule=\"evenodd\" fill-opacity=\"1\" /><path clip-path=\"url(#clip350)\" d=\"M 0 0 M1890.96 1515.64 Q1887.34 1515.64 1885.52 1519.2 Q1883.71 1522.75 1883.71 1529.87 Q1883.71 1536.98 1885.52 1540.55 Q1887.34 1544.09 1890.96 1544.09 Q1894.59 1544.09 1896.39 1540.55 Q1898.22 1536.98 1898.22 1529.87 Q1898.22 1522.75 1896.39 1519.2 Q1894.59 1515.64 1890.96 1515.64 M1890.96 1511.93 Q1896.77 1511.93 1899.82 1516.54 Q1902.9 1521.12 1902.9 1529.87 Q1902.9 1538.6 1899.82 1543.21 Q1896.77 1547.79 1890.96 1547.79 Q1885.14 1547.79 1882.07 1543.21 Q1879.01 1538.6 1879.01 1529.87 Q1879.01 1521.12 1882.07 1516.54 Q1885.14 1511.93 1890.96 1511.93 Z\" fill=\"#000000\" fill-rule=\"evenodd\" fill-opacity=\"1\" /><path clip-path=\"url(#clip350)\" d=\"M 0 0 M1911.12 1541.24 L1916 1541.24 L1916 1547.12 L1911.12 1547.12 L1911.12 1541.24 Z\" fill=\"#000000\" fill-rule=\"evenodd\" fill-opacity=\"1\" /><path clip-path=\"url(#clip350)\" d=\"M 0 0 M1936.19 1530.71 Q1932.85 1530.71 1930.93 1532.49 Q1929.03 1534.27 1929.03 1537.4 Q1929.03 1540.52 1930.93 1542.31 Q1932.85 1544.09 1936.19 1544.09 Q1939.52 1544.09 1941.44 1542.31 Q1943.36 1540.5 1943.36 1537.4 Q1943.36 1534.27 1941.44 1532.49 Q1939.54 1530.71 1936.19 1530.71 M1931.51 1528.72 Q1928.5 1527.98 1926.81 1525.92 Q1925.14 1523.86 1925.14 1520.89 Q1925.14 1516.75 1928.08 1514.34 Q1931.05 1511.93 1936.19 1511.93 Q1941.35 1511.93 1944.29 1514.34 Q1947.23 1516.75 1947.23 1520.89 Q1947.23 1523.86 1945.54 1525.92 Q1943.87 1527.98 1940.89 1528.72 Q1944.26 1529.5 1946.14 1531.8 Q1948.04 1534.09 1948.04 1537.4 Q1948.04 1542.42 1944.96 1545.11 Q1941.9 1547.79 1936.19 1547.79 Q1930.47 1547.79 1927.39 1545.11 Q1924.33 1542.42 1924.33 1537.4 Q1924.33 1534.09 1926.23 1531.8 Q1928.13 1529.5 1931.51 1528.72 M1929.8 1521.33 Q1929.8 1524.02 1931.46 1525.52 Q1933.15 1527.03 1936.19 1527.03 Q1939.2 1527.03 1940.89 1525.52 Q1942.6 1524.02 1942.6 1521.33 Q1942.6 1518.65 1940.89 1517.14 Q1939.2 1515.64 1936.19 1515.64 Q1933.15 1515.64 1931.46 1517.14 Q1929.8 1518.65 1929.8 1521.33 Z\" fill=\"#000000\" fill-rule=\"evenodd\" fill-opacity=\"1\" /><path clip-path=\"url(#clip350)\" d=\"M 0 0 M2319.91 1543.18 L2327.55 1543.18 L2327.55 1516.82 L2319.24 1518.49 L2319.24 1514.23 L2327.5 1512.56 L2332.18 1512.56 L2332.18 1543.18 L2339.82 1543.18 L2339.82 1547.12 L2319.91 1547.12 L2319.91 1543.18 Z\" fill=\"#000000\" fill-rule=\"evenodd\" fill-opacity=\"1\" /><path clip-path=\"url(#clip350)\" d=\"M 0 0 M2349.26 1541.24 L2354.14 1541.24 L2354.14 1547.12 L2349.26 1547.12 L2349.26 1541.24 Z\" fill=\"#000000\" fill-rule=\"evenodd\" fill-opacity=\"1\" /><path clip-path=\"url(#clip350)\" d=\"M 0 0 M2374.33 1515.64 Q2370.72 1515.64 2368.89 1519.2 Q2367.08 1522.75 2367.08 1529.87 Q2367.08 1536.98 2368.89 1540.55 Q2370.72 1544.09 2374.33 1544.09 Q2377.96 1544.09 2379.77 1540.55 Q2381.6 1536.98 2381.6 1529.87 Q2381.6 1522.75 2379.77 1519.2 Q2377.96 1515.64 2374.33 1515.64 M2374.33 1511.93 Q2380.14 1511.93 2383.2 1516.54 Q2386.27 1521.12 2386.27 1529.87 Q2386.27 1538.6 2383.2 1543.21 Q2380.14 1547.79 2374.33 1547.79 Q2368.52 1547.79 2365.44 1543.21 Q2362.39 1538.6 2362.39 1529.87 Q2362.39 1521.12 2365.44 1516.54 Q2368.52 1511.93 2374.33 1511.93 Z\" fill=\"#000000\" fill-rule=\"evenodd\" fill-opacity=\"1\" /><polyline clip-path=\"url(#clip352)\" style=\"stroke:#000000; stroke-width:2; stroke-opacity:0.1; fill:none\" points=\"\n",
       "  156.598,1486.45 2352.76,1486.45 \n",
       "  \"/>\n",
       "<polyline clip-path=\"url(#clip352)\" style=\"stroke:#000000; stroke-width:2; stroke-opacity:0.1; fill:none\" points=\"\n",
       "  156.598,1198.61 2352.76,1198.61 \n",
       "  \"/>\n",
       "<polyline clip-path=\"url(#clip352)\" style=\"stroke:#000000; stroke-width:2; stroke-opacity:0.1; fill:none\" points=\"\n",
       "  156.598,910.766 2352.76,910.766 \n",
       "  \"/>\n",
       "<polyline clip-path=\"url(#clip352)\" style=\"stroke:#000000; stroke-width:2; stroke-opacity:0.1; fill:none\" points=\"\n",
       "  156.598,622.926 2352.76,622.926 \n",
       "  \"/>\n",
       "<polyline clip-path=\"url(#clip352)\" style=\"stroke:#000000; stroke-width:2; stroke-opacity:0.1; fill:none\" points=\"\n",
       "  156.598,335.085 2352.76,335.085 \n",
       "  \"/>\n",
       "<polyline clip-path=\"url(#clip352)\" style=\"stroke:#000000; stroke-width:2; stroke-opacity:0.1; fill:none\" points=\"\n",
       "  156.598,47.2441 2352.76,47.2441 \n",
       "  \"/>\n",
       "<polyline clip-path=\"url(#clip350)\" style=\"stroke:#000000; stroke-width:4; stroke-opacity:1; fill:none\" points=\"\n",
       "  156.598,1486.45 156.598,47.2441 \n",
       "  \"/>\n",
       "<polyline clip-path=\"url(#clip350)\" style=\"stroke:#000000; stroke-width:4; stroke-opacity:1; fill:none\" points=\"\n",
       "  156.598,1486.45 182.952,1486.45 \n",
       "  \"/>\n",
       "<polyline clip-path=\"url(#clip350)\" style=\"stroke:#000000; stroke-width:4; stroke-opacity:1; fill:none\" points=\"\n",
       "  156.598,1198.61 182.952,1198.61 \n",
       "  \"/>\n",
       "<polyline clip-path=\"url(#clip350)\" style=\"stroke:#000000; stroke-width:4; stroke-opacity:1; fill:none\" points=\"\n",
       "  156.598,910.766 182.952,910.766 \n",
       "  \"/>\n",
       "<polyline clip-path=\"url(#clip350)\" style=\"stroke:#000000; stroke-width:4; stroke-opacity:1; fill:none\" points=\"\n",
       "  156.598,622.926 182.952,622.926 \n",
       "  \"/>\n",
       "<polyline clip-path=\"url(#clip350)\" style=\"stroke:#000000; stroke-width:4; stroke-opacity:1; fill:none\" points=\"\n",
       "  156.598,335.085 182.952,335.085 \n",
       "  \"/>\n",
       "<polyline clip-path=\"url(#clip350)\" style=\"stroke:#000000; stroke-width:4; stroke-opacity:1; fill:none\" points=\"\n",
       "  156.598,47.2441 182.952,47.2441 \n",
       "  \"/>\n",
       "<path clip-path=\"url(#clip350)\" d=\"M 0 0 M63.4226 1472.25 Q59.8115 1472.25 57.9828 1475.81 Q56.1773 1479.35 56.1773 1486.48 Q56.1773 1493.59 57.9828 1497.15 Q59.8115 1500.7 63.4226 1500.7 Q67.0569 1500.7 68.8624 1497.15 Q70.6911 1493.59 70.6911 1486.48 Q70.6911 1479.35 68.8624 1475.81 Q67.0569 1472.25 63.4226 1472.25 M63.4226 1468.54 Q69.2328 1468.54 72.2883 1473.15 Q75.367 1477.73 75.367 1486.48 Q75.367 1495.21 72.2883 1499.82 Q69.2328 1504.4 63.4226 1504.4 Q57.6125 1504.4 54.5338 1499.82 Q51.4782 1495.21 51.4782 1486.48 Q51.4782 1477.73 54.5338 1473.15 Q57.6125 1468.54 63.4226 1468.54 Z\" fill=\"#000000\" fill-rule=\"evenodd\" fill-opacity=\"1\" /><path clip-path=\"url(#clip350)\" d=\"M 0 0 M83.5845 1497.85 L88.4688 1497.85 L88.4688 1503.73 L83.5845 1503.73 L83.5845 1497.85 Z\" fill=\"#000000\" fill-rule=\"evenodd\" fill-opacity=\"1\" /><path clip-path=\"url(#clip350)\" d=\"M 0 0 M108.654 1472.25 Q105.043 1472.25 103.214 1475.81 Q101.409 1479.35 101.409 1486.48 Q101.409 1493.59 103.214 1497.15 Q105.043 1500.7 108.654 1500.7 Q112.288 1500.7 114.094 1497.15 Q115.922 1493.59 115.922 1486.48 Q115.922 1479.35 114.094 1475.81 Q112.288 1472.25 108.654 1472.25 M108.654 1468.54 Q114.464 1468.54 117.52 1473.15 Q120.598 1477.73 120.598 1486.48 Q120.598 1495.21 117.52 1499.82 Q114.464 1504.4 108.654 1504.4 Q102.844 1504.4 99.765 1499.82 Q96.7095 1495.21 96.7095 1486.48 Q96.7095 1477.73 99.765 1473.15 Q102.844 1468.54 108.654 1468.54 Z\" fill=\"#000000\" fill-rule=\"evenodd\" fill-opacity=\"1\" /><path clip-path=\"url(#clip350)\" d=\"M 0 0 M65.0198 1184.41 Q61.4087 1184.41 59.58 1187.97 Q57.7745 1191.51 57.7745 1198.64 Q57.7745 1205.75 59.58 1209.31 Q61.4087 1212.85 65.0198 1212.85 Q68.6541 1212.85 70.4596 1209.31 Q72.2883 1205.75 72.2883 1198.64 Q72.2883 1191.51 70.4596 1187.97 Q68.6541 1184.41 65.0198 1184.41 M65.0198 1180.7 Q70.83 1180.7 73.8855 1185.31 Q76.9642 1189.89 76.9642 1198.64 Q76.9642 1207.37 73.8855 1211.98 Q70.83 1216.56 65.0198 1216.56 Q59.2097 1216.56 56.131 1211.98 Q53.0754 1207.37 53.0754 1198.64 Q53.0754 1189.89 56.131 1185.31 Q59.2097 1180.7 65.0198 1180.7 Z\" fill=\"#000000\" fill-rule=\"evenodd\" fill-opacity=\"1\" /><path clip-path=\"url(#clip350)\" d=\"M 0 0 M85.1818 1210.01 L90.066 1210.01 L90.066 1215.89 L85.1818 1215.89 L85.1818 1210.01 Z\" fill=\"#000000\" fill-rule=\"evenodd\" fill-opacity=\"1\" /><path clip-path=\"url(#clip350)\" d=\"M 0 0 M104.279 1211.95 L120.598 1211.95 L120.598 1215.89 L98.6539 1215.89 L98.6539 1211.95 Q101.316 1209.2 105.899 1204.57 Q110.506 1199.91 111.686 1198.57 Q113.932 1196.05 114.811 1194.31 Q115.714 1192.55 115.714 1190.86 Q115.714 1188.11 113.77 1186.37 Q111.848 1184.64 108.746 1184.64 Q106.547 1184.64 104.094 1185.4 Q101.663 1186.17 98.8854 1187.72 L98.8854 1182.99 Q101.709 1181.86 104.163 1181.28 Q106.617 1180.7 108.654 1180.7 Q114.024 1180.7 117.219 1183.39 Q120.413 1186.07 120.413 1190.56 Q120.413 1192.69 119.603 1194.61 Q118.816 1196.51 116.709 1199.1 Q116.131 1199.78 113.029 1202.99 Q109.927 1206.19 104.279 1211.95 Z\" fill=\"#000000\" fill-rule=\"evenodd\" fill-opacity=\"1\" /><path clip-path=\"url(#clip350)\" d=\"M 0 0 M62.9365 896.565 Q59.3254 896.565 57.4967 900.13 Q55.6912 903.671 55.6912 910.801 Q55.6912 917.908 57.4967 921.472 Q59.3254 925.014 62.9365 925.014 Q66.5707 925.014 68.3763 921.472 Q70.205 917.908 70.205 910.801 Q70.205 903.671 68.3763 900.13 Q66.5707 896.565 62.9365 896.565 M62.9365 892.861 Q68.7467 892.861 71.8022 897.468 Q74.8809 902.051 74.8809 910.801 Q74.8809 919.528 71.8022 924.134 Q68.7467 928.718 62.9365 928.718 Q57.1264 928.718 54.0477 924.134 Q50.9921 919.528 50.9921 910.801 Q50.9921 902.051 54.0477 897.468 Q57.1264 892.861 62.9365 892.861 Z\" fill=\"#000000\" fill-rule=\"evenodd\" fill-opacity=\"1\" /><path clip-path=\"url(#clip350)\" d=\"M 0 0 M83.0984 922.167 L87.9827 922.167 L87.9827 928.046 L83.0984 928.046 L83.0984 922.167 Z\" fill=\"#000000\" fill-rule=\"evenodd\" fill-opacity=\"1\" /><path clip-path=\"url(#clip350)\" d=\"M 0 0 M111.015 897.56 L99.2095 916.009 L111.015 916.009 L111.015 897.56 M109.788 893.486 L115.668 893.486 L115.668 916.009 L120.598 916.009 L120.598 919.898 L115.668 919.898 L115.668 928.046 L111.015 928.046 L111.015 919.898 L95.4132 919.898 L95.4132 915.384 L109.788 893.486 Z\" fill=\"#000000\" fill-rule=\"evenodd\" fill-opacity=\"1\" /><path clip-path=\"url(#clip350)\" d=\"M 0 0 M63.2606 608.724 Q59.6495 608.724 57.8208 612.289 Q56.0152 615.831 56.0152 622.96 Q56.0152 630.067 57.8208 633.632 Q59.6495 637.173 63.2606 637.173 Q66.8948 637.173 68.7004 633.632 Q70.5291 630.067 70.5291 622.96 Q70.5291 615.831 68.7004 612.289 Q66.8948 608.724 63.2606 608.724 M63.2606 605.021 Q69.0707 605.021 72.1263 609.627 Q75.205 614.21 75.205 622.96 Q75.205 631.687 72.1263 636.294 Q69.0707 640.877 63.2606 640.877 Q57.4504 640.877 54.3717 636.294 Q51.3162 631.687 51.3162 622.96 Q51.3162 614.21 54.3717 609.627 Q57.4504 605.021 63.2606 605.021 Z\" fill=\"#000000\" fill-rule=\"evenodd\" fill-opacity=\"1\" /><path clip-path=\"url(#clip350)\" d=\"M 0 0 M83.4225 634.326 L88.3067 634.326 L88.3067 640.206 L83.4225 640.206 L83.4225 634.326 Z\" fill=\"#000000\" fill-rule=\"evenodd\" fill-opacity=\"1\" /><path clip-path=\"url(#clip350)\" d=\"M 0 0 M109.071 621.062 Q105.922 621.062 104.071 623.215 Q102.242 625.368 102.242 629.118 Q102.242 632.845 104.071 635.02 Q105.922 637.173 109.071 637.173 Q112.219 637.173 114.047 635.02 Q115.899 632.845 115.899 629.118 Q115.899 625.368 114.047 623.215 Q112.219 621.062 109.071 621.062 M118.353 606.409 L118.353 610.669 Q116.594 609.835 114.788 609.396 Q113.006 608.956 111.246 608.956 Q106.617 608.956 104.163 612.081 Q101.733 615.206 101.385 621.525 Q102.751 619.511 104.811 618.446 Q106.871 617.359 109.348 617.359 Q114.557 617.359 117.566 620.53 Q120.598 623.678 120.598 629.118 Q120.598 634.442 117.45 637.659 Q114.302 640.877 109.071 640.877 Q103.075 640.877 99.9039 636.294 Q96.7326 631.687 96.7326 622.96 Q96.7326 614.766 100.621 609.905 Q104.51 605.021 111.061 605.021 Q112.82 605.021 114.603 605.368 Q116.408 605.715 118.353 606.409 Z\" fill=\"#000000\" fill-rule=\"evenodd\" fill-opacity=\"1\" /><path clip-path=\"url(#clip350)\" d=\"M 0 0 M63.5152 320.884 Q59.9041 320.884 58.0754 324.448 Q56.2699 327.99 56.2699 335.12 Q56.2699 342.226 58.0754 345.791 Q59.9041 349.332 63.5152 349.332 Q67.1494 349.332 68.955 345.791 Q70.7837 342.226 70.7837 335.12 Q70.7837 327.99 68.955 324.448 Q67.1494 320.884 63.5152 320.884 M63.5152 317.18 Q69.3254 317.18 72.3809 321.786 Q75.4596 326.37 75.4596 335.12 Q75.4596 343.846 72.3809 348.453 Q69.3254 353.036 63.5152 353.036 Q57.7051 353.036 54.6264 348.453 Q51.5708 343.846 51.5708 335.12 Q51.5708 326.37 54.6264 321.786 Q57.7051 317.18 63.5152 317.18 Z\" fill=\"#000000\" fill-rule=\"evenodd\" fill-opacity=\"1\" /><path clip-path=\"url(#clip350)\" d=\"M 0 0 M83.6771 346.485 L88.5614 346.485 L88.5614 352.365 L83.6771 352.365 L83.6771 346.485 Z\" fill=\"#000000\" fill-rule=\"evenodd\" fill-opacity=\"1\" /><path clip-path=\"url(#clip350)\" d=\"M 0 0 M108.746 335.953 Q105.413 335.953 103.492 337.735 Q101.594 339.518 101.594 342.643 Q101.594 345.768 103.492 347.55 Q105.413 349.332 108.746 349.332 Q112.08 349.332 114.001 347.55 Q115.922 345.745 115.922 342.643 Q115.922 339.518 114.001 337.735 Q112.103 335.953 108.746 335.953 M104.071 333.962 Q101.061 333.221 99.3715 331.161 Q97.7048 329.101 97.7048 326.138 Q97.7048 321.995 100.645 319.587 Q103.608 317.18 108.746 317.18 Q113.908 317.18 116.848 319.587 Q119.788 321.995 119.788 326.138 Q119.788 329.101 118.098 331.161 Q116.432 333.221 113.445 333.962 Q116.825 334.749 118.7 337.041 Q120.598 339.333 120.598 342.643 Q120.598 347.666 117.52 350.351 Q114.464 353.036 108.746 353.036 Q103.029 353.036 99.9502 350.351 Q96.8947 347.666 96.8947 342.643 Q96.8947 339.333 98.7928 337.041 Q100.691 334.749 104.071 333.962 M102.358 326.578 Q102.358 329.263 104.024 330.768 Q105.714 332.272 108.746 332.272 Q111.756 332.272 113.445 330.768 Q115.158 329.263 115.158 326.578 Q115.158 323.893 113.445 322.388 Q111.756 320.884 108.746 320.884 Q105.714 320.884 104.024 322.388 Q102.358 323.893 102.358 326.578 Z\" fill=\"#000000\" fill-rule=\"evenodd\" fill-opacity=\"1\" /><path clip-path=\"url(#clip350)\" d=\"M 0 0 M54.2328 60.5889 L61.8717 60.5889 L61.8717 34.2233 L53.5616 35.89 L53.5616 31.6308 L61.8254 29.9641 L66.5013 29.9641 L66.5013 60.5889 L74.1402 60.5889 L74.1402 64.5241 L54.2328 64.5241 L54.2328 60.5889 Z\" fill=\"#000000\" fill-rule=\"evenodd\" fill-opacity=\"1\" /><path clip-path=\"url(#clip350)\" d=\"M 0 0 M83.5845 58.6445 L88.4688 58.6445 L88.4688 64.5241 L83.5845 64.5241 L83.5845 58.6445 Z\" fill=\"#000000\" fill-rule=\"evenodd\" fill-opacity=\"1\" /><path clip-path=\"url(#clip350)\" d=\"M 0 0 M108.654 33.0428 Q105.043 33.0428 103.214 36.6076 Q101.409 40.1492 101.409 47.2788 Q101.409 54.3853 103.214 57.9501 Q105.043 61.4917 108.654 61.4917 Q112.288 61.4917 114.094 57.9501 Q115.922 54.3853 115.922 47.2788 Q115.922 40.1492 114.094 36.6076 Q112.288 33.0428 108.654 33.0428 M108.654 29.3391 Q114.464 29.3391 117.52 33.9456 Q120.598 38.5289 120.598 47.2788 Q120.598 56.0056 117.52 60.6121 Q114.464 65.1954 108.654 65.1954 Q102.844 65.1954 99.765 60.6121 Q96.7095 56.0056 96.7095 47.2788 Q96.7095 38.5289 99.765 33.9456 Q102.844 29.3391 108.654 29.3391 Z\" fill=\"#000000\" fill-rule=\"evenodd\" fill-opacity=\"1\" /></svg>\n"
      ]
     },
     "execution_count": 7,
     "metadata": {},
     "output_type": "execute_result"
    }
   ],
   "source": [
    "plot()"
   ]
  },
  {
   "cell_type": "code",
   "execution_count": 11,
   "metadata": {},
   "outputs": [
    {
     "data": {
      "image/svg+xml": [
       "<?xml version=\"1.0\" encoding=\"utf-8\"?>\n",
       "<svg xmlns=\"http://www.w3.org/2000/svg\" xmlns:xlink=\"http://www.w3.org/1999/xlink\" width=\"600\" height=\"400\" viewBox=\"0 0 2400 1600\">\n",
       "<defs>\n",
       "  <clipPath id=\"clip510\">\n",
       "    <rect x=\"0\" y=\"0\" width=\"2400\" height=\"1600\"/>\n",
       "  </clipPath>\n",
       "</defs>\n",
       "<path clip-path=\"url(#clip510)\" d=\"\n",
       "M0 1600 L2400 1600 L2400 0 L0 0  Z\n",
       "  \" fill=\"#ffffff\" fill-rule=\"evenodd\" fill-opacity=\"1\"/>\n",
       "<defs>\n",
       "  <clipPath id=\"clip511\">\n",
       "    <rect x=\"480\" y=\"0\" width=\"1681\" height=\"1600\"/>\n",
       "  </clipPath>\n",
       "</defs>\n",
       "<path clip-path=\"url(#clip510)\" d=\"\n",
       "M156.598 1486.45 L2352.76 1486.45 L2352.76 47.2441 L156.598 47.2441  Z\n",
       "  \" fill=\"#ffffff\" fill-rule=\"evenodd\" fill-opacity=\"1\"/>\n",
       "<defs>\n",
       "  <clipPath id=\"clip512\">\n",
       "    <rect x=\"156\" y=\"47\" width=\"2197\" height=\"1440\"/>\n",
       "  </clipPath>\n",
       "</defs>\n",
       "<polyline clip-path=\"url(#clip512)\" style=\"stroke:#000000; stroke-width:2; stroke-opacity:0.1; fill:none\" points=\"\n",
       "  218.754,1486.45 218.754,47.2441 \n",
       "  \"/>\n",
       "<polyline clip-path=\"url(#clip512)\" style=\"stroke:#000000; stroke-width:2; stroke-opacity:0.1; fill:none\" points=\"\n",
       "  736.715,1486.45 736.715,47.2441 \n",
       "  \"/>\n",
       "<polyline clip-path=\"url(#clip512)\" style=\"stroke:#000000; stroke-width:2; stroke-opacity:0.1; fill:none\" points=\"\n",
       "  1254.68,1486.45 1254.68,47.2441 \n",
       "  \"/>\n",
       "<polyline clip-path=\"url(#clip512)\" style=\"stroke:#000000; stroke-width:2; stroke-opacity:0.1; fill:none\" points=\"\n",
       "  1772.64,1486.45 1772.64,47.2441 \n",
       "  \"/>\n",
       "<polyline clip-path=\"url(#clip512)\" style=\"stroke:#000000; stroke-width:2; stroke-opacity:0.1; fill:none\" points=\"\n",
       "  2290.6,1486.45 2290.6,47.2441 \n",
       "  \"/>\n",
       "<polyline clip-path=\"url(#clip510)\" style=\"stroke:#000000; stroke-width:4; stroke-opacity:1; fill:none\" points=\"\n",
       "  156.598,1486.45 2352.76,1486.45 \n",
       "  \"/>\n",
       "<polyline clip-path=\"url(#clip510)\" style=\"stroke:#000000; stroke-width:4; stroke-opacity:1; fill:none\" points=\"\n",
       "  218.754,1486.45 218.754,1469.18 \n",
       "  \"/>\n",
       "<polyline clip-path=\"url(#clip510)\" style=\"stroke:#000000; stroke-width:4; stroke-opacity:1; fill:none\" points=\"\n",
       "  736.715,1486.45 736.715,1469.18 \n",
       "  \"/>\n",
       "<polyline clip-path=\"url(#clip510)\" style=\"stroke:#000000; stroke-width:4; stroke-opacity:1; fill:none\" points=\"\n",
       "  1254.68,1486.45 1254.68,1469.18 \n",
       "  \"/>\n",
       "<polyline clip-path=\"url(#clip510)\" style=\"stroke:#000000; stroke-width:4; stroke-opacity:1; fill:none\" points=\"\n",
       "  1772.64,1486.45 1772.64,1469.18 \n",
       "  \"/>\n",
       "<polyline clip-path=\"url(#clip510)\" style=\"stroke:#000000; stroke-width:4; stroke-opacity:1; fill:none\" points=\"\n",
       "  2290.6,1486.45 2290.6,1469.18 \n",
       "  \"/>\n",
       "<path clip-path=\"url(#clip510)\" d=\"M 0 0 M209.136 1543.18 L216.774 1543.18 L216.774 1516.82 L208.464 1518.49 L208.464 1514.23 L216.728 1512.56 L221.404 1512.56 L221.404 1543.18 L229.043 1543.18 L229.043 1547.12 L209.136 1547.12 L209.136 1543.18 Z\" fill=\"#000000\" fill-rule=\"evenodd\" fill-opacity=\"1\" /><path clip-path=\"url(#clip510)\" d=\"M 0 0 M731.368 1543.18 L747.688 1543.18 L747.688 1547.12 L725.743 1547.12 L725.743 1543.18 Q728.405 1540.43 732.989 1535.8 Q737.595 1531.15 738.776 1529.81 Q741.021 1527.28 741.901 1525.55 Q742.803 1523.79 742.803 1522.1 Q742.803 1519.34 740.859 1517.61 Q738.938 1515.87 735.836 1515.87 Q733.637 1515.87 731.183 1516.63 Q728.752 1517.4 725.975 1518.95 L725.975 1514.23 Q728.799 1513.09 731.252 1512.51 Q733.706 1511.93 735.743 1511.93 Q741.113 1511.93 744.308 1514.62 Q747.502 1517.31 747.502 1521.8 Q747.502 1523.93 746.692 1525.85 Q745.905 1527.74 743.799 1530.34 Q743.22 1531.01 740.118 1534.23 Q737.016 1537.42 731.368 1543.18 Z\" fill=\"#000000\" fill-rule=\"evenodd\" fill-opacity=\"1\" /><path clip-path=\"url(#clip510)\" d=\"M 0 0 M1258.92 1528.49 Q1262.28 1529.2 1264.16 1531.47 Q1266.05 1533.74 1266.05 1537.07 Q1266.05 1542.19 1262.54 1544.99 Q1259.02 1547.79 1252.54 1547.79 Q1250.36 1547.79 1248.05 1547.35 Q1245.75 1546.93 1243.3 1546.08 L1243.3 1541.56 Q1245.24 1542.7 1247.56 1543.28 Q1249.87 1543.86 1252.4 1543.86 Q1256.8 1543.86 1259.09 1542.12 Q1261.4 1540.38 1261.4 1537.07 Q1261.4 1534.02 1259.25 1532.31 Q1257.12 1530.57 1253.3 1530.57 L1249.27 1530.57 L1249.27 1526.73 L1253.48 1526.73 Q1256.93 1526.73 1258.76 1525.36 Q1260.59 1523.97 1260.59 1521.38 Q1260.59 1518.72 1258.69 1517.31 Q1256.82 1515.87 1253.3 1515.87 Q1251.38 1515.87 1249.18 1516.29 Q1246.98 1516.7 1244.34 1517.58 L1244.34 1513.42 Q1247 1512.68 1249.32 1512.31 Q1251.66 1511.93 1253.72 1511.93 Q1259.04 1511.93 1262.14 1514.37 Q1265.24 1516.77 1265.24 1520.89 Q1265.24 1523.76 1263.6 1525.75 Q1261.96 1527.72 1258.92 1528.49 Z\" fill=\"#000000\" fill-rule=\"evenodd\" fill-opacity=\"1\" /><path clip-path=\"url(#clip510)\" d=\"M 0 0 M1775.65 1516.63 L1763.84 1535.08 L1775.65 1535.08 L1775.65 1516.63 M1774.42 1512.56 L1780.3 1512.56 L1780.3 1535.08 L1785.23 1535.08 L1785.23 1538.97 L1780.3 1538.97 L1780.3 1547.12 L1775.65 1547.12 L1775.65 1538.97 L1760.05 1538.97 L1760.05 1534.46 L1774.42 1512.56 Z\" fill=\"#000000\" fill-rule=\"evenodd\" fill-opacity=\"1\" /><path clip-path=\"url(#clip510)\" d=\"M 0 0 M2280.88 1512.56 L2299.23 1512.56 L2299.23 1516.5 L2285.16 1516.5 L2285.16 1524.97 Q2286.18 1524.62 2287.2 1524.46 Q2288.22 1524.27 2289.23 1524.27 Q2295.02 1524.27 2298.4 1527.44 Q2301.78 1530.62 2301.78 1536.03 Q2301.78 1541.61 2298.31 1544.71 Q2294.84 1547.79 2288.52 1547.79 Q2286.34 1547.79 2284.07 1547.42 Q2281.83 1547.05 2279.42 1546.31 L2279.42 1541.61 Q2281.5 1542.74 2283.73 1543.3 Q2285.95 1543.86 2288.42 1543.86 Q2292.43 1543.86 2294.77 1541.75 Q2297.11 1539.64 2297.11 1536.03 Q2297.11 1532.42 2294.77 1530.31 Q2292.43 1528.21 2288.42 1528.21 Q2286.55 1528.21 2284.67 1528.62 Q2282.82 1529.04 2280.88 1529.92 L2280.88 1512.56 Z\" fill=\"#000000\" fill-rule=\"evenodd\" fill-opacity=\"1\" /><polyline clip-path=\"url(#clip512)\" style=\"stroke:#000000; stroke-width:2; stroke-opacity:0.1; fill:none\" points=\"\n",
       "  156.598,1169.21 2352.76,1169.21 \n",
       "  \"/>\n",
       "<polyline clip-path=\"url(#clip512)\" style=\"stroke:#000000; stroke-width:2; stroke-opacity:0.1; fill:none\" points=\"\n",
       "  156.598,832.943 2352.76,832.943 \n",
       "  \"/>\n",
       "<polyline clip-path=\"url(#clip512)\" style=\"stroke:#000000; stroke-width:2; stroke-opacity:0.1; fill:none\" points=\"\n",
       "  156.598,496.681 2352.76,496.681 \n",
       "  \"/>\n",
       "<polyline clip-path=\"url(#clip512)\" style=\"stroke:#000000; stroke-width:2; stroke-opacity:0.1; fill:none\" points=\"\n",
       "  156.598,160.418 2352.76,160.418 \n",
       "  \"/>\n",
       "<polyline clip-path=\"url(#clip510)\" style=\"stroke:#000000; stroke-width:4; stroke-opacity:1; fill:none\" points=\"\n",
       "  156.598,1486.45 156.598,47.2441 \n",
       "  \"/>\n",
       "<polyline clip-path=\"url(#clip510)\" style=\"stroke:#000000; stroke-width:4; stroke-opacity:1; fill:none\" points=\"\n",
       "  156.598,1169.21 182.952,1169.21 \n",
       "  \"/>\n",
       "<polyline clip-path=\"url(#clip510)\" style=\"stroke:#000000; stroke-width:4; stroke-opacity:1; fill:none\" points=\"\n",
       "  156.598,832.943 182.952,832.943 \n",
       "  \"/>\n",
       "<polyline clip-path=\"url(#clip510)\" style=\"stroke:#000000; stroke-width:4; stroke-opacity:1; fill:none\" points=\"\n",
       "  156.598,496.681 182.952,496.681 \n",
       "  \"/>\n",
       "<polyline clip-path=\"url(#clip510)\" style=\"stroke:#000000; stroke-width:4; stroke-opacity:1; fill:none\" points=\"\n",
       "  156.598,160.418 182.952,160.418 \n",
       "  \"/>\n",
       "<path clip-path=\"url(#clip510)\" d=\"M 0 0 M65.0198 1155 Q61.4087 1155 59.58 1158.57 Q57.7745 1162.11 57.7745 1169.24 Q57.7745 1176.35 59.58 1179.91 Q61.4087 1183.45 65.0198 1183.45 Q68.6541 1183.45 70.4596 1179.91 Q72.2883 1176.35 72.2883 1169.24 Q72.2883 1162.11 70.4596 1158.57 Q68.6541 1155 65.0198 1155 M65.0198 1151.3 Q70.83 1151.3 73.8855 1155.91 Q76.9642 1160.49 76.9642 1169.24 Q76.9642 1177.97 73.8855 1182.57 Q70.83 1187.16 65.0198 1187.16 Q59.2097 1187.16 56.131 1182.57 Q53.0754 1177.97 53.0754 1169.24 Q53.0754 1160.49 56.131 1155.91 Q59.2097 1151.3 65.0198 1151.3 Z\" fill=\"#000000\" fill-rule=\"evenodd\" fill-opacity=\"1\" /><path clip-path=\"url(#clip510)\" d=\"M 0 0 M85.1818 1180.61 L90.066 1180.61 L90.066 1186.49 L85.1818 1186.49 L85.1818 1180.61 Z\" fill=\"#000000\" fill-rule=\"evenodd\" fill-opacity=\"1\" /><path clip-path=\"url(#clip510)\" d=\"M 0 0 M104.279 1182.55 L120.598 1182.55 L120.598 1186.49 L98.6539 1186.49 L98.6539 1182.55 Q101.316 1179.8 105.899 1175.17 Q110.506 1170.51 111.686 1169.17 Q113.932 1166.65 114.811 1164.91 Q115.714 1163.15 115.714 1161.46 Q115.714 1158.71 113.77 1156.97 Q111.848 1155.24 108.746 1155.24 Q106.547 1155.24 104.094 1156 Q101.663 1156.76 98.8854 1158.31 L98.8854 1153.59 Q101.709 1152.46 104.163 1151.88 Q106.617 1151.3 108.654 1151.3 Q114.024 1151.3 117.219 1153.99 Q120.413 1156.67 120.413 1161.16 Q120.413 1163.29 119.603 1165.21 Q118.816 1167.11 116.709 1169.7 Q116.131 1170.37 113.029 1173.59 Q109.927 1176.79 104.279 1182.55 Z\" fill=\"#000000\" fill-rule=\"evenodd\" fill-opacity=\"1\" /><path clip-path=\"url(#clip510)\" d=\"M 0 0 M62.9365 818.742 Q59.3254 818.742 57.4967 822.307 Q55.6912 825.848 55.6912 832.978 Q55.6912 840.084 57.4967 843.649 Q59.3254 847.191 62.9365 847.191 Q66.5707 847.191 68.3763 843.649 Q70.205 840.084 70.205 832.978 Q70.205 825.848 68.3763 822.307 Q66.5707 818.742 62.9365 818.742 M62.9365 815.038 Q68.7467 815.038 71.8022 819.645 Q74.8809 824.228 74.8809 832.978 Q74.8809 841.705 71.8022 846.311 Q68.7467 850.895 62.9365 850.895 Q57.1264 850.895 54.0477 846.311 Q50.9921 841.705 50.9921 832.978 Q50.9921 824.228 54.0477 819.645 Q57.1264 815.038 62.9365 815.038 Z\" fill=\"#000000\" fill-rule=\"evenodd\" fill-opacity=\"1\" /><path clip-path=\"url(#clip510)\" d=\"M 0 0 M83.0984 844.344 L87.9827 844.344 L87.9827 850.223 L83.0984 850.223 L83.0984 844.344 Z\" fill=\"#000000\" fill-rule=\"evenodd\" fill-opacity=\"1\" /><path clip-path=\"url(#clip510)\" d=\"M 0 0 M111.015 819.737 L99.2095 838.186 L111.015 838.186 L111.015 819.737 M109.788 815.663 L115.668 815.663 L115.668 838.186 L120.598 838.186 L120.598 842.075 L115.668 842.075 L115.668 850.223 L111.015 850.223 L111.015 842.075 L95.4132 842.075 L95.4132 837.561 L109.788 815.663 Z\" fill=\"#000000\" fill-rule=\"evenodd\" fill-opacity=\"1\" /><path clip-path=\"url(#clip510)\" d=\"M 0 0 M63.2606 482.479 Q59.6495 482.479 57.8208 486.044 Q56.0152 489.586 56.0152 496.715 Q56.0152 503.822 57.8208 507.387 Q59.6495 510.928 63.2606 510.928 Q66.8948 510.928 68.7004 507.387 Q70.5291 503.822 70.5291 496.715 Q70.5291 489.586 68.7004 486.044 Q66.8948 482.479 63.2606 482.479 M63.2606 478.776 Q69.0707 478.776 72.1263 483.382 Q75.205 487.965 75.205 496.715 Q75.205 505.442 72.1263 510.049 Q69.0707 514.632 63.2606 514.632 Q57.4504 514.632 54.3717 510.049 Q51.3162 505.442 51.3162 496.715 Q51.3162 487.965 54.3717 483.382 Q57.4504 478.776 63.2606 478.776 Z\" fill=\"#000000\" fill-rule=\"evenodd\" fill-opacity=\"1\" /><path clip-path=\"url(#clip510)\" d=\"M 0 0 M83.4225 508.081 L88.3067 508.081 L88.3067 513.961 L83.4225 513.961 L83.4225 508.081 Z\" fill=\"#000000\" fill-rule=\"evenodd\" fill-opacity=\"1\" /><path clip-path=\"url(#clip510)\" d=\"M 0 0 M109.071 494.817 Q105.922 494.817 104.071 496.97 Q102.242 499.123 102.242 502.873 Q102.242 506.6 104.071 508.775 Q105.922 510.928 109.071 510.928 Q112.219 510.928 114.047 508.775 Q115.899 506.6 115.899 502.873 Q115.899 499.123 114.047 496.97 Q112.219 494.817 109.071 494.817 M118.353 480.164 L118.353 484.424 Q116.594 483.59 114.788 483.151 Q113.006 482.711 111.246 482.711 Q106.617 482.711 104.163 485.836 Q101.733 488.961 101.385 495.28 Q102.751 493.266 104.811 492.201 Q106.871 491.113 109.348 491.113 Q114.557 491.113 117.566 494.285 Q120.598 497.433 120.598 502.873 Q120.598 508.197 117.45 511.414 Q114.302 514.632 109.071 514.632 Q103.075 514.632 99.9039 510.049 Q96.7326 505.442 96.7326 496.715 Q96.7326 488.521 100.621 483.66 Q104.51 478.776 111.061 478.776 Q112.82 478.776 114.603 479.123 Q116.408 479.47 118.353 480.164 Z\" fill=\"#000000\" fill-rule=\"evenodd\" fill-opacity=\"1\" /><path clip-path=\"url(#clip510)\" d=\"M 0 0 M63.5152 146.217 Q59.9041 146.217 58.0754 149.781 Q56.2699 153.323 56.2699 160.453 Q56.2699 167.559 58.0754 171.124 Q59.9041 174.666 63.5152 174.666 Q67.1494 174.666 68.955 171.124 Q70.7837 167.559 70.7837 160.453 Q70.7837 153.323 68.955 149.781 Q67.1494 146.217 63.5152 146.217 M63.5152 142.513 Q69.3254 142.513 72.3809 147.119 Q75.4596 151.703 75.4596 160.453 Q75.4596 169.18 72.3809 173.786 Q69.3254 178.369 63.5152 178.369 Q57.7051 178.369 54.6264 173.786 Q51.5708 169.18 51.5708 160.453 Q51.5708 151.703 54.6264 147.119 Q57.7051 142.513 63.5152 142.513 Z\" fill=\"#000000\" fill-rule=\"evenodd\" fill-opacity=\"1\" /><path clip-path=\"url(#clip510)\" d=\"M 0 0 M83.6771 171.818 L88.5614 171.818 L88.5614 177.698 L83.6771 177.698 L83.6771 171.818 Z\" fill=\"#000000\" fill-rule=\"evenodd\" fill-opacity=\"1\" /><path clip-path=\"url(#clip510)\" d=\"M 0 0 M108.746 161.286 Q105.413 161.286 103.492 163.068 Q101.594 164.851 101.594 167.976 Q101.594 171.101 103.492 172.883 Q105.413 174.666 108.746 174.666 Q112.08 174.666 114.001 172.883 Q115.922 171.078 115.922 167.976 Q115.922 164.851 114.001 163.068 Q112.103 161.286 108.746 161.286 M104.071 159.295 Q101.061 158.555 99.3715 156.494 Q97.7048 154.434 97.7048 151.471 Q97.7048 147.328 100.645 144.92 Q103.608 142.513 108.746 142.513 Q113.908 142.513 116.848 144.92 Q119.788 147.328 119.788 151.471 Q119.788 154.434 118.098 156.494 Q116.432 158.555 113.445 159.295 Q116.825 160.082 118.7 162.374 Q120.598 164.666 120.598 167.976 Q120.598 172.999 117.52 175.684 Q114.464 178.369 108.746 178.369 Q103.029 178.369 99.9502 175.684 Q96.8947 172.999 96.8947 167.976 Q96.8947 164.666 98.7928 162.374 Q100.691 160.082 104.071 159.295 M102.358 151.911 Q102.358 154.596 104.024 156.101 Q105.714 157.605 108.746 157.605 Q111.756 157.605 113.445 156.101 Q115.158 154.596 115.158 151.911 Q115.158 149.226 113.445 147.721 Q111.756 146.217 108.746 146.217 Q105.714 146.217 104.024 147.721 Q102.358 149.226 102.358 151.911 Z\" fill=\"#000000\" fill-rule=\"evenodd\" fill-opacity=\"1\" /><polyline clip-path=\"url(#clip512)\" style=\"stroke:#009af9; stroke-width:4; stroke-opacity:1; fill:none\" points=\"\n",
       "  218.754,863.671 736.715,87.9763 1254.68,1445.72 1772.64,1202.98 2290.6,1163.51 \n",
       "  \"/>\n",
       "<path clip-path=\"url(#clip510)\" d=\"\n",
       "M1983.1 216.178 L2279.55 216.178 L2279.55 95.2176 L1983.1 95.2176  Z\n",
       "  \" fill=\"#ffffff\" fill-rule=\"evenodd\" fill-opacity=\"1\"/>\n",
       "<polyline clip-path=\"url(#clip510)\" style=\"stroke:#000000; stroke-width:4; stroke-opacity:1; fill:none\" points=\"\n",
       "  1983.1,216.178 2279.55,216.178 2279.55,95.2176 1983.1,95.2176 1983.1,216.178 \n",
       "  \"/>\n",
       "<polyline clip-path=\"url(#clip510)\" style=\"stroke:#009af9; stroke-width:4; stroke-opacity:1; fill:none\" points=\"\n",
       "  2007.5,155.698 2153.92,155.698 \n",
       "  \"/>\n",
       "<path clip-path=\"url(#clip510)\" d=\"M 0 0 M2192.16 175.385 Q2190.35 180.015 2188.64 181.427 Q2186.93 182.839 2184.06 182.839 L2180.65 182.839 L2180.65 179.274 L2183.15 179.274 Q2184.91 179.274 2185.89 178.44 Q2186.86 177.607 2188.04 174.505 L2188.8 172.561 L2178.32 147.052 L2182.83 147.052 L2190.93 167.329 L2199.03 147.052 L2203.55 147.052 L2192.16 175.385 Z\" fill=\"#000000\" fill-rule=\"evenodd\" fill-opacity=\"1\" /><path clip-path=\"url(#clip510)\" d=\"M 0 0 M2210.84 169.042 L2218.48 169.042 L2218.48 142.677 L2210.17 144.343 L2210.17 140.084 L2218.43 138.418 L2223.11 138.418 L2223.11 169.042 L2230.75 169.042 L2230.75 172.978 L2210.84 172.978 L2210.84 169.042 Z\" fill=\"#000000\" fill-rule=\"evenodd\" fill-opacity=\"1\" /></svg>\n"
      ]
     },
     "execution_count": 11,
     "metadata": {},
     "output_type": "execute_result"
    }
   ],
   "source": [
    "X = collect(1:1:5)\n",
    "Y = rand(5)\n",
    "plot(X,Y)"
   ]
  },
  {
   "cell_type": "code",
   "execution_count": 12,
   "metadata": {},
   "outputs": [
    {
     "data": {
      "image/svg+xml": [
       "<?xml version=\"1.0\" encoding=\"utf-8\"?>\n",
       "<svg xmlns=\"http://www.w3.org/2000/svg\" xmlns:xlink=\"http://www.w3.org/1999/xlink\" width=\"600\" height=\"400\" viewBox=\"0 0 2400 1600\">\n",
       "<defs>\n",
       "  <clipPath id=\"clip550\">\n",
       "    <rect x=\"0\" y=\"0\" width=\"2400\" height=\"1600\"/>\n",
       "  </clipPath>\n",
       "</defs>\n",
       "<path clip-path=\"url(#clip550)\" d=\"\n",
       "M0 1600 L2400 1600 L2400 0 L0 0  Z\n",
       "  \" fill=\"#ffffff\" fill-rule=\"evenodd\" fill-opacity=\"1\"/>\n",
       "<defs>\n",
       "  <clipPath id=\"clip551\">\n",
       "    <rect x=\"480\" y=\"0\" width=\"1681\" height=\"1600\"/>\n",
       "  </clipPath>\n",
       "</defs>\n",
       "<path clip-path=\"url(#clip550)\" d=\"\n",
       "M156.598 1486.45 L2352.76 1486.45 L2352.76 47.2441 L156.598 47.2441  Z\n",
       "  \" fill=\"#ffffff\" fill-rule=\"evenodd\" fill-opacity=\"1\"/>\n",
       "<defs>\n",
       "  <clipPath id=\"clip552\">\n",
       "    <rect x=\"156\" y=\"47\" width=\"2197\" height=\"1440\"/>\n",
       "  </clipPath>\n",
       "</defs>\n",
       "<polyline clip-path=\"url(#clip552)\" style=\"stroke:#000000; stroke-width:2; stroke-opacity:0.1; fill:none\" points=\"\n",
       "  218.754,1486.45 218.754,47.2441 \n",
       "  \"/>\n",
       "<polyline clip-path=\"url(#clip552)\" style=\"stroke:#000000; stroke-width:2; stroke-opacity:0.1; fill:none\" points=\"\n",
       "  736.715,1486.45 736.715,47.2441 \n",
       "  \"/>\n",
       "<polyline clip-path=\"url(#clip552)\" style=\"stroke:#000000; stroke-width:2; stroke-opacity:0.1; fill:none\" points=\"\n",
       "  1254.68,1486.45 1254.68,47.2441 \n",
       "  \"/>\n",
       "<polyline clip-path=\"url(#clip552)\" style=\"stroke:#000000; stroke-width:2; stroke-opacity:0.1; fill:none\" points=\"\n",
       "  1772.64,1486.45 1772.64,47.2441 \n",
       "  \"/>\n",
       "<polyline clip-path=\"url(#clip552)\" style=\"stroke:#000000; stroke-width:2; stroke-opacity:0.1; fill:none\" points=\"\n",
       "  2290.6,1486.45 2290.6,47.2441 \n",
       "  \"/>\n",
       "<polyline clip-path=\"url(#clip550)\" style=\"stroke:#000000; stroke-width:4; stroke-opacity:1; fill:none\" points=\"\n",
       "  156.598,1486.45 2352.76,1486.45 \n",
       "  \"/>\n",
       "<polyline clip-path=\"url(#clip550)\" style=\"stroke:#000000; stroke-width:4; stroke-opacity:1; fill:none\" points=\"\n",
       "  218.754,1486.45 218.754,1469.18 \n",
       "  \"/>\n",
       "<polyline clip-path=\"url(#clip550)\" style=\"stroke:#000000; stroke-width:4; stroke-opacity:1; fill:none\" points=\"\n",
       "  736.715,1486.45 736.715,1469.18 \n",
       "  \"/>\n",
       "<polyline clip-path=\"url(#clip550)\" style=\"stroke:#000000; stroke-width:4; stroke-opacity:1; fill:none\" points=\"\n",
       "  1254.68,1486.45 1254.68,1469.18 \n",
       "  \"/>\n",
       "<polyline clip-path=\"url(#clip550)\" style=\"stroke:#000000; stroke-width:4; stroke-opacity:1; fill:none\" points=\"\n",
       "  1772.64,1486.45 1772.64,1469.18 \n",
       "  \"/>\n",
       "<polyline clip-path=\"url(#clip550)\" style=\"stroke:#000000; stroke-width:4; stroke-opacity:1; fill:none\" points=\"\n",
       "  2290.6,1486.45 2290.6,1469.18 \n",
       "  \"/>\n",
       "<path clip-path=\"url(#clip550)\" d=\"M 0 0 M209.136 1543.18 L216.774 1543.18 L216.774 1516.82 L208.464 1518.49 L208.464 1514.23 L216.728 1512.56 L221.404 1512.56 L221.404 1543.18 L229.043 1543.18 L229.043 1547.12 L209.136 1547.12 L209.136 1543.18 Z\" fill=\"#000000\" fill-rule=\"evenodd\" fill-opacity=\"1\" /><path clip-path=\"url(#clip550)\" d=\"M 0 0 M731.368 1543.18 L747.688 1543.18 L747.688 1547.12 L725.743 1547.12 L725.743 1543.18 Q728.405 1540.43 732.989 1535.8 Q737.595 1531.15 738.776 1529.81 Q741.021 1527.28 741.901 1525.55 Q742.803 1523.79 742.803 1522.1 Q742.803 1519.34 740.859 1517.61 Q738.938 1515.87 735.836 1515.87 Q733.637 1515.87 731.183 1516.63 Q728.752 1517.4 725.975 1518.95 L725.975 1514.23 Q728.799 1513.09 731.252 1512.51 Q733.706 1511.93 735.743 1511.93 Q741.113 1511.93 744.308 1514.62 Q747.502 1517.31 747.502 1521.8 Q747.502 1523.93 746.692 1525.85 Q745.905 1527.74 743.799 1530.34 Q743.22 1531.01 740.118 1534.23 Q737.016 1537.42 731.368 1543.18 Z\" fill=\"#000000\" fill-rule=\"evenodd\" fill-opacity=\"1\" /><path clip-path=\"url(#clip550)\" d=\"M 0 0 M1258.92 1528.49 Q1262.28 1529.2 1264.16 1531.47 Q1266.05 1533.74 1266.05 1537.07 Q1266.05 1542.19 1262.54 1544.99 Q1259.02 1547.79 1252.54 1547.79 Q1250.36 1547.79 1248.05 1547.35 Q1245.75 1546.93 1243.3 1546.08 L1243.3 1541.56 Q1245.24 1542.7 1247.56 1543.28 Q1249.87 1543.86 1252.4 1543.86 Q1256.8 1543.86 1259.09 1542.12 Q1261.4 1540.38 1261.4 1537.07 Q1261.4 1534.02 1259.25 1532.31 Q1257.12 1530.57 1253.3 1530.57 L1249.27 1530.57 L1249.27 1526.73 L1253.48 1526.73 Q1256.93 1526.73 1258.76 1525.36 Q1260.59 1523.97 1260.59 1521.38 Q1260.59 1518.72 1258.69 1517.31 Q1256.82 1515.87 1253.3 1515.87 Q1251.38 1515.87 1249.18 1516.29 Q1246.98 1516.7 1244.34 1517.58 L1244.34 1513.42 Q1247 1512.68 1249.32 1512.31 Q1251.66 1511.93 1253.72 1511.93 Q1259.04 1511.93 1262.14 1514.37 Q1265.24 1516.77 1265.24 1520.89 Q1265.24 1523.76 1263.6 1525.75 Q1261.96 1527.72 1258.92 1528.49 Z\" fill=\"#000000\" fill-rule=\"evenodd\" fill-opacity=\"1\" /><path clip-path=\"url(#clip550)\" d=\"M 0 0 M1775.65 1516.63 L1763.84 1535.08 L1775.65 1535.08 L1775.65 1516.63 M1774.42 1512.56 L1780.3 1512.56 L1780.3 1535.08 L1785.23 1535.08 L1785.23 1538.97 L1780.3 1538.97 L1780.3 1547.12 L1775.65 1547.12 L1775.65 1538.97 L1760.05 1538.97 L1760.05 1534.46 L1774.42 1512.56 Z\" fill=\"#000000\" fill-rule=\"evenodd\" fill-opacity=\"1\" /><path clip-path=\"url(#clip550)\" d=\"M 0 0 M2280.88 1512.56 L2299.23 1512.56 L2299.23 1516.5 L2285.16 1516.5 L2285.16 1524.97 Q2286.18 1524.62 2287.2 1524.46 Q2288.22 1524.27 2289.23 1524.27 Q2295.02 1524.27 2298.4 1527.44 Q2301.78 1530.62 2301.78 1536.03 Q2301.78 1541.61 2298.31 1544.71 Q2294.84 1547.79 2288.52 1547.79 Q2286.34 1547.79 2284.07 1547.42 Q2281.83 1547.05 2279.42 1546.31 L2279.42 1541.61 Q2281.5 1542.74 2283.73 1543.3 Q2285.95 1543.86 2288.42 1543.86 Q2292.43 1543.86 2294.77 1541.75 Q2297.11 1539.64 2297.11 1536.03 Q2297.11 1532.42 2294.77 1530.31 Q2292.43 1528.21 2288.42 1528.21 Q2286.55 1528.21 2284.67 1528.62 Q2282.82 1529.04 2280.88 1529.92 L2280.88 1512.56 Z\" fill=\"#000000\" fill-rule=\"evenodd\" fill-opacity=\"1\" /><polyline clip-path=\"url(#clip552)\" style=\"stroke:#000000; stroke-width:2; stroke-opacity:0.1; fill:none\" points=\"\n",
       "  156.598,1169.21 2352.76,1169.21 \n",
       "  \"/>\n",
       "<polyline clip-path=\"url(#clip552)\" style=\"stroke:#000000; stroke-width:2; stroke-opacity:0.1; fill:none\" points=\"\n",
       "  156.598,832.943 2352.76,832.943 \n",
       "  \"/>\n",
       "<polyline clip-path=\"url(#clip552)\" style=\"stroke:#000000; stroke-width:2; stroke-opacity:0.1; fill:none\" points=\"\n",
       "  156.598,496.681 2352.76,496.681 \n",
       "  \"/>\n",
       "<polyline clip-path=\"url(#clip552)\" style=\"stroke:#000000; stroke-width:2; stroke-opacity:0.1; fill:none\" points=\"\n",
       "  156.598,160.418 2352.76,160.418 \n",
       "  \"/>\n",
       "<polyline clip-path=\"url(#clip550)\" style=\"stroke:#000000; stroke-width:4; stroke-opacity:1; fill:none\" points=\"\n",
       "  156.598,1486.45 156.598,47.2441 \n",
       "  \"/>\n",
       "<polyline clip-path=\"url(#clip550)\" style=\"stroke:#000000; stroke-width:4; stroke-opacity:1; fill:none\" points=\"\n",
       "  156.598,1169.21 182.952,1169.21 \n",
       "  \"/>\n",
       "<polyline clip-path=\"url(#clip550)\" style=\"stroke:#000000; stroke-width:4; stroke-opacity:1; fill:none\" points=\"\n",
       "  156.598,832.943 182.952,832.943 \n",
       "  \"/>\n",
       "<polyline clip-path=\"url(#clip550)\" style=\"stroke:#000000; stroke-width:4; stroke-opacity:1; fill:none\" points=\"\n",
       "  156.598,496.681 182.952,496.681 \n",
       "  \"/>\n",
       "<polyline clip-path=\"url(#clip550)\" style=\"stroke:#000000; stroke-width:4; stroke-opacity:1; fill:none\" points=\"\n",
       "  156.598,160.418 182.952,160.418 \n",
       "  \"/>\n",
       "<path clip-path=\"url(#clip550)\" d=\"M 0 0 M65.0198 1155 Q61.4087 1155 59.58 1158.57 Q57.7745 1162.11 57.7745 1169.24 Q57.7745 1176.35 59.58 1179.91 Q61.4087 1183.45 65.0198 1183.45 Q68.6541 1183.45 70.4596 1179.91 Q72.2883 1176.35 72.2883 1169.24 Q72.2883 1162.11 70.4596 1158.57 Q68.6541 1155 65.0198 1155 M65.0198 1151.3 Q70.83 1151.3 73.8855 1155.91 Q76.9642 1160.49 76.9642 1169.24 Q76.9642 1177.97 73.8855 1182.57 Q70.83 1187.16 65.0198 1187.16 Q59.2097 1187.16 56.131 1182.57 Q53.0754 1177.97 53.0754 1169.24 Q53.0754 1160.49 56.131 1155.91 Q59.2097 1151.3 65.0198 1151.3 Z\" fill=\"#000000\" fill-rule=\"evenodd\" fill-opacity=\"1\" /><path clip-path=\"url(#clip550)\" d=\"M 0 0 M85.1818 1180.61 L90.066 1180.61 L90.066 1186.49 L85.1818 1186.49 L85.1818 1180.61 Z\" fill=\"#000000\" fill-rule=\"evenodd\" fill-opacity=\"1\" /><path clip-path=\"url(#clip550)\" d=\"M 0 0 M104.279 1182.55 L120.598 1182.55 L120.598 1186.49 L98.6539 1186.49 L98.6539 1182.55 Q101.316 1179.8 105.899 1175.17 Q110.506 1170.51 111.686 1169.17 Q113.932 1166.65 114.811 1164.91 Q115.714 1163.15 115.714 1161.46 Q115.714 1158.71 113.77 1156.97 Q111.848 1155.24 108.746 1155.24 Q106.547 1155.24 104.094 1156 Q101.663 1156.76 98.8854 1158.31 L98.8854 1153.59 Q101.709 1152.46 104.163 1151.88 Q106.617 1151.3 108.654 1151.3 Q114.024 1151.3 117.219 1153.99 Q120.413 1156.67 120.413 1161.16 Q120.413 1163.29 119.603 1165.21 Q118.816 1167.11 116.709 1169.7 Q116.131 1170.37 113.029 1173.59 Q109.927 1176.79 104.279 1182.55 Z\" fill=\"#000000\" fill-rule=\"evenodd\" fill-opacity=\"1\" /><path clip-path=\"url(#clip550)\" d=\"M 0 0 M62.9365 818.742 Q59.3254 818.742 57.4967 822.307 Q55.6912 825.848 55.6912 832.978 Q55.6912 840.084 57.4967 843.649 Q59.3254 847.191 62.9365 847.191 Q66.5707 847.191 68.3763 843.649 Q70.205 840.084 70.205 832.978 Q70.205 825.848 68.3763 822.307 Q66.5707 818.742 62.9365 818.742 M62.9365 815.038 Q68.7467 815.038 71.8022 819.645 Q74.8809 824.228 74.8809 832.978 Q74.8809 841.705 71.8022 846.311 Q68.7467 850.895 62.9365 850.895 Q57.1264 850.895 54.0477 846.311 Q50.9921 841.705 50.9921 832.978 Q50.9921 824.228 54.0477 819.645 Q57.1264 815.038 62.9365 815.038 Z\" fill=\"#000000\" fill-rule=\"evenodd\" fill-opacity=\"1\" /><path clip-path=\"url(#clip550)\" d=\"M 0 0 M83.0984 844.344 L87.9827 844.344 L87.9827 850.223 L83.0984 850.223 L83.0984 844.344 Z\" fill=\"#000000\" fill-rule=\"evenodd\" fill-opacity=\"1\" /><path clip-path=\"url(#clip550)\" d=\"M 0 0 M111.015 819.737 L99.2095 838.186 L111.015 838.186 L111.015 819.737 M109.788 815.663 L115.668 815.663 L115.668 838.186 L120.598 838.186 L120.598 842.075 L115.668 842.075 L115.668 850.223 L111.015 850.223 L111.015 842.075 L95.4132 842.075 L95.4132 837.561 L109.788 815.663 Z\" fill=\"#000000\" fill-rule=\"evenodd\" fill-opacity=\"1\" /><path clip-path=\"url(#clip550)\" d=\"M 0 0 M63.2606 482.479 Q59.6495 482.479 57.8208 486.044 Q56.0152 489.586 56.0152 496.715 Q56.0152 503.822 57.8208 507.387 Q59.6495 510.928 63.2606 510.928 Q66.8948 510.928 68.7004 507.387 Q70.5291 503.822 70.5291 496.715 Q70.5291 489.586 68.7004 486.044 Q66.8948 482.479 63.2606 482.479 M63.2606 478.776 Q69.0707 478.776 72.1263 483.382 Q75.205 487.965 75.205 496.715 Q75.205 505.442 72.1263 510.049 Q69.0707 514.632 63.2606 514.632 Q57.4504 514.632 54.3717 510.049 Q51.3162 505.442 51.3162 496.715 Q51.3162 487.965 54.3717 483.382 Q57.4504 478.776 63.2606 478.776 Z\" fill=\"#000000\" fill-rule=\"evenodd\" fill-opacity=\"1\" /><path clip-path=\"url(#clip550)\" d=\"M 0 0 M83.4225 508.081 L88.3067 508.081 L88.3067 513.961 L83.4225 513.961 L83.4225 508.081 Z\" fill=\"#000000\" fill-rule=\"evenodd\" fill-opacity=\"1\" /><path clip-path=\"url(#clip550)\" d=\"M 0 0 M109.071 494.817 Q105.922 494.817 104.071 496.97 Q102.242 499.123 102.242 502.873 Q102.242 506.6 104.071 508.775 Q105.922 510.928 109.071 510.928 Q112.219 510.928 114.047 508.775 Q115.899 506.6 115.899 502.873 Q115.899 499.123 114.047 496.97 Q112.219 494.817 109.071 494.817 M118.353 480.164 L118.353 484.424 Q116.594 483.59 114.788 483.151 Q113.006 482.711 111.246 482.711 Q106.617 482.711 104.163 485.836 Q101.733 488.961 101.385 495.28 Q102.751 493.266 104.811 492.201 Q106.871 491.113 109.348 491.113 Q114.557 491.113 117.566 494.285 Q120.598 497.433 120.598 502.873 Q120.598 508.197 117.45 511.414 Q114.302 514.632 109.071 514.632 Q103.075 514.632 99.9039 510.049 Q96.7326 505.442 96.7326 496.715 Q96.7326 488.521 100.621 483.66 Q104.51 478.776 111.061 478.776 Q112.82 478.776 114.603 479.123 Q116.408 479.47 118.353 480.164 Z\" fill=\"#000000\" fill-rule=\"evenodd\" fill-opacity=\"1\" /><path clip-path=\"url(#clip550)\" d=\"M 0 0 M63.5152 146.217 Q59.9041 146.217 58.0754 149.781 Q56.2699 153.323 56.2699 160.453 Q56.2699 167.559 58.0754 171.124 Q59.9041 174.666 63.5152 174.666 Q67.1494 174.666 68.955 171.124 Q70.7837 167.559 70.7837 160.453 Q70.7837 153.323 68.955 149.781 Q67.1494 146.217 63.5152 146.217 M63.5152 142.513 Q69.3254 142.513 72.3809 147.119 Q75.4596 151.703 75.4596 160.453 Q75.4596 169.18 72.3809 173.786 Q69.3254 178.369 63.5152 178.369 Q57.7051 178.369 54.6264 173.786 Q51.5708 169.18 51.5708 160.453 Q51.5708 151.703 54.6264 147.119 Q57.7051 142.513 63.5152 142.513 Z\" fill=\"#000000\" fill-rule=\"evenodd\" fill-opacity=\"1\" /><path clip-path=\"url(#clip550)\" d=\"M 0 0 M83.6771 171.818 L88.5614 171.818 L88.5614 177.698 L83.6771 177.698 L83.6771 171.818 Z\" fill=\"#000000\" fill-rule=\"evenodd\" fill-opacity=\"1\" /><path clip-path=\"url(#clip550)\" d=\"M 0 0 M108.746 161.286 Q105.413 161.286 103.492 163.068 Q101.594 164.851 101.594 167.976 Q101.594 171.101 103.492 172.883 Q105.413 174.666 108.746 174.666 Q112.08 174.666 114.001 172.883 Q115.922 171.078 115.922 167.976 Q115.922 164.851 114.001 163.068 Q112.103 161.286 108.746 161.286 M104.071 159.295 Q101.061 158.555 99.3715 156.494 Q97.7048 154.434 97.7048 151.471 Q97.7048 147.328 100.645 144.92 Q103.608 142.513 108.746 142.513 Q113.908 142.513 116.848 144.92 Q119.788 147.328 119.788 151.471 Q119.788 154.434 118.098 156.494 Q116.432 158.555 113.445 159.295 Q116.825 160.082 118.7 162.374 Q120.598 164.666 120.598 167.976 Q120.598 172.999 117.52 175.684 Q114.464 178.369 108.746 178.369 Q103.029 178.369 99.9502 175.684 Q96.8947 172.999 96.8947 167.976 Q96.8947 164.666 98.7928 162.374 Q100.691 160.082 104.071 159.295 M102.358 151.911 Q102.358 154.596 104.024 156.101 Q105.714 157.605 108.746 157.605 Q111.756 157.605 113.445 156.101 Q115.158 154.596 115.158 151.911 Q115.158 149.226 113.445 147.721 Q111.756 146.217 108.746 146.217 Q105.714 146.217 104.024 147.721 Q102.358 149.226 102.358 151.911 Z\" fill=\"#000000\" fill-rule=\"evenodd\" fill-opacity=\"1\" /><circle clip-path=\"url(#clip552)\" cx=\"218.754\" cy=\"863.671\" r=\"14\" fill=\"#009af9\" fill-rule=\"evenodd\" fill-opacity=\"1\" stroke=\"#000000\" stroke-opacity=\"1\" stroke-width=\"3.2\"/>\n",
       "<circle clip-path=\"url(#clip552)\" cx=\"736.715\" cy=\"87.9763\" r=\"14\" fill=\"#009af9\" fill-rule=\"evenodd\" fill-opacity=\"1\" stroke=\"#000000\" stroke-opacity=\"1\" stroke-width=\"3.2\"/>\n",
       "<circle clip-path=\"url(#clip552)\" cx=\"1254.68\" cy=\"1445.72\" r=\"14\" fill=\"#009af9\" fill-rule=\"evenodd\" fill-opacity=\"1\" stroke=\"#000000\" stroke-opacity=\"1\" stroke-width=\"3.2\"/>\n",
       "<circle clip-path=\"url(#clip552)\" cx=\"1772.64\" cy=\"1202.98\" r=\"14\" fill=\"#009af9\" fill-rule=\"evenodd\" fill-opacity=\"1\" stroke=\"#000000\" stroke-opacity=\"1\" stroke-width=\"3.2\"/>\n",
       "<circle clip-path=\"url(#clip552)\" cx=\"2290.6\" cy=\"1163.51\" r=\"14\" fill=\"#009af9\" fill-rule=\"evenodd\" fill-opacity=\"1\" stroke=\"#000000\" stroke-opacity=\"1\" stroke-width=\"3.2\"/>\n",
       "<path clip-path=\"url(#clip550)\" d=\"\n",
       "M1983.1 216.178 L2279.55 216.178 L2279.55 95.2176 L1983.1 95.2176  Z\n",
       "  \" fill=\"#ffffff\" fill-rule=\"evenodd\" fill-opacity=\"1\"/>\n",
       "<polyline clip-path=\"url(#clip550)\" style=\"stroke:#000000; stroke-width:4; stroke-opacity:1; fill:none\" points=\"\n",
       "  1983.1,216.178 2279.55,216.178 2279.55,95.2176 1983.1,95.2176 1983.1,216.178 \n",
       "  \"/>\n",
       "<circle clip-path=\"url(#clip550)\" cx=\"2080.71\" cy=\"155.698\" r=\"23\" fill=\"#009af9\" fill-rule=\"evenodd\" fill-opacity=\"1\" stroke=\"#000000\" stroke-opacity=\"1\" stroke-width=\"5.12\"/>\n",
       "<path clip-path=\"url(#clip550)\" d=\"M 0 0 M2192.16 175.385 Q2190.35 180.015 2188.64 181.427 Q2186.93 182.839 2184.06 182.839 L2180.65 182.839 L2180.65 179.274 L2183.15 179.274 Q2184.91 179.274 2185.89 178.44 Q2186.86 177.607 2188.04 174.505 L2188.8 172.561 L2178.32 147.052 L2182.83 147.052 L2190.93 167.329 L2199.03 147.052 L2203.55 147.052 L2192.16 175.385 Z\" fill=\"#000000\" fill-rule=\"evenodd\" fill-opacity=\"1\" /><path clip-path=\"url(#clip550)\" d=\"M 0 0 M2210.84 169.042 L2218.48 169.042 L2218.48 142.677 L2210.17 144.343 L2210.17 140.084 L2218.43 138.418 L2223.11 138.418 L2223.11 169.042 L2230.75 169.042 L2230.75 172.978 L2210.84 172.978 L2210.84 169.042 Z\" fill=\"#000000\" fill-rule=\"evenodd\" fill-opacity=\"1\" /></svg>\n"
      ]
     },
     "execution_count": 12,
     "metadata": {},
     "output_type": "execute_result"
    }
   ],
   "source": [
    "scatter(X , Y)"
   ]
  },
  {
   "cell_type": "code",
   "execution_count": 13,
   "metadata": {},
   "outputs": [
    {
     "data": {
      "image/svg+xml": [
       "<?xml version=\"1.0\" encoding=\"utf-8\"?>\n",
       "<svg xmlns=\"http://www.w3.org/2000/svg\" xmlns:xlink=\"http://www.w3.org/1999/xlink\" width=\"600\" height=\"400\" viewBox=\"0 0 2400 1600\">\n",
       "<defs>\n",
       "  <clipPath id=\"clip590\">\n",
       "    <rect x=\"0\" y=\"0\" width=\"2400\" height=\"1600\"/>\n",
       "  </clipPath>\n",
       "</defs>\n",
       "<path clip-path=\"url(#clip590)\" d=\"\n",
       "M0 1600 L2400 1600 L2400 0 L0 0  Z\n",
       "  \" fill=\"#ffffff\" fill-rule=\"evenodd\" fill-opacity=\"1\"/>\n",
       "<defs>\n",
       "  <clipPath id=\"clip591\">\n",
       "    <rect x=\"480\" y=\"0\" width=\"1681\" height=\"1600\"/>\n",
       "  </clipPath>\n",
       "</defs>\n",
       "<path clip-path=\"url(#clip590)\" d=\"\n",
       "M156.598 1486.45 L2352.76 1486.45 L2352.76 47.2441 L156.598 47.2441  Z\n",
       "  \" fill=\"#ffffff\" fill-rule=\"evenodd\" fill-opacity=\"1\"/>\n",
       "<defs>\n",
       "  <clipPath id=\"clip592\">\n",
       "    <rect x=\"156\" y=\"47\" width=\"2197\" height=\"1440\"/>\n",
       "  </clipPath>\n",
       "</defs>\n",
       "<polyline clip-path=\"url(#clip592)\" style=\"stroke:#000000; stroke-width:2; stroke-opacity:0.1; fill:none\" points=\"\n",
       "  440.272,1486.45 440.272,47.2441 \n",
       "  \"/>\n",
       "<polyline clip-path=\"url(#clip592)\" style=\"stroke:#000000; stroke-width:2; stroke-opacity:0.1; fill:none\" points=\"\n",
       "  847.474,1486.45 847.474,47.2441 \n",
       "  \"/>\n",
       "<polyline clip-path=\"url(#clip592)\" style=\"stroke:#000000; stroke-width:2; stroke-opacity:0.1; fill:none\" points=\"\n",
       "  1254.68,1486.45 1254.68,47.2441 \n",
       "  \"/>\n",
       "<polyline clip-path=\"url(#clip592)\" style=\"stroke:#000000; stroke-width:2; stroke-opacity:0.1; fill:none\" points=\"\n",
       "  1661.88,1486.45 1661.88,47.2441 \n",
       "  \"/>\n",
       "<polyline clip-path=\"url(#clip592)\" style=\"stroke:#000000; stroke-width:2; stroke-opacity:0.1; fill:none\" points=\"\n",
       "  2069.08,1486.45 2069.08,47.2441 \n",
       "  \"/>\n",
       "<polyline clip-path=\"url(#clip590)\" style=\"stroke:#000000; stroke-width:4; stroke-opacity:1; fill:none\" points=\"\n",
       "  156.598,1486.45 2352.76,1486.45 \n",
       "  \"/>\n",
       "<polyline clip-path=\"url(#clip590)\" style=\"stroke:#000000; stroke-width:4; stroke-opacity:1; fill:none\" points=\"\n",
       "  440.272,1486.45 440.272,1469.18 \n",
       "  \"/>\n",
       "<polyline clip-path=\"url(#clip590)\" style=\"stroke:#000000; stroke-width:4; stroke-opacity:1; fill:none\" points=\"\n",
       "  847.474,1486.45 847.474,1469.18 \n",
       "  \"/>\n",
       "<polyline clip-path=\"url(#clip590)\" style=\"stroke:#000000; stroke-width:4; stroke-opacity:1; fill:none\" points=\"\n",
       "  1254.68,1486.45 1254.68,1469.18 \n",
       "  \"/>\n",
       "<polyline clip-path=\"url(#clip590)\" style=\"stroke:#000000; stroke-width:4; stroke-opacity:1; fill:none\" points=\"\n",
       "  1661.88,1486.45 1661.88,1469.18 \n",
       "  \"/>\n",
       "<polyline clip-path=\"url(#clip590)\" style=\"stroke:#000000; stroke-width:4; stroke-opacity:1; fill:none\" points=\"\n",
       "  2069.08,1486.45 2069.08,1469.18 \n",
       "  \"/>\n",
       "<path clip-path=\"url(#clip590)\" d=\"M 0 0 M430.654 1543.18 L438.293 1543.18 L438.293 1516.82 L429.983 1518.49 L429.983 1514.23 L438.246 1512.56 L442.922 1512.56 L442.922 1543.18 L450.561 1543.18 L450.561 1547.12 L430.654 1547.12 L430.654 1543.18 Z\" fill=\"#000000\" fill-rule=\"evenodd\" fill-opacity=\"1\" /><path clip-path=\"url(#clip590)\" d=\"M 0 0 M842.127 1543.18 L858.447 1543.18 L858.447 1547.12 L836.502 1547.12 L836.502 1543.18 Q839.164 1540.43 843.748 1535.8 Q848.354 1531.15 849.535 1529.81 Q851.78 1527.28 852.66 1525.55 Q853.562 1523.79 853.562 1522.1 Q853.562 1519.34 851.618 1517.61 Q849.697 1515.87 846.595 1515.87 Q844.396 1515.87 841.942 1516.63 Q839.512 1517.4 836.734 1518.95 L836.734 1514.23 Q839.558 1513.09 842.012 1512.51 Q844.465 1511.93 846.502 1511.93 Q851.873 1511.93 855.067 1514.62 Q858.261 1517.31 858.261 1521.8 Q858.261 1523.93 857.451 1525.85 Q856.664 1527.74 854.558 1530.34 Q853.979 1531.01 850.877 1534.23 Q847.775 1537.42 842.127 1543.18 Z\" fill=\"#000000\" fill-rule=\"evenodd\" fill-opacity=\"1\" /><path clip-path=\"url(#clip590)\" d=\"M 0 0 M1258.92 1528.49 Q1262.28 1529.2 1264.16 1531.47 Q1266.05 1533.74 1266.05 1537.07 Q1266.05 1542.19 1262.54 1544.99 Q1259.02 1547.79 1252.54 1547.79 Q1250.36 1547.79 1248.05 1547.35 Q1245.75 1546.93 1243.3 1546.08 L1243.3 1541.56 Q1245.24 1542.7 1247.56 1543.28 Q1249.87 1543.86 1252.4 1543.86 Q1256.8 1543.86 1259.09 1542.12 Q1261.4 1540.38 1261.4 1537.07 Q1261.4 1534.02 1259.25 1532.31 Q1257.12 1530.57 1253.3 1530.57 L1249.27 1530.57 L1249.27 1526.73 L1253.48 1526.73 Q1256.93 1526.73 1258.76 1525.36 Q1260.59 1523.97 1260.59 1521.38 Q1260.59 1518.72 1258.69 1517.31 Q1256.82 1515.87 1253.3 1515.87 Q1251.38 1515.87 1249.18 1516.29 Q1246.98 1516.7 1244.34 1517.58 L1244.34 1513.42 Q1247 1512.68 1249.32 1512.31 Q1251.66 1511.93 1253.72 1511.93 Q1259.04 1511.93 1262.14 1514.37 Q1265.24 1516.77 1265.24 1520.89 Q1265.24 1523.76 1263.6 1525.75 Q1261.96 1527.72 1258.92 1528.49 Z\" fill=\"#000000\" fill-rule=\"evenodd\" fill-opacity=\"1\" /><path clip-path=\"url(#clip590)\" d=\"M 0 0 M1664.89 1516.63 L1653.08 1535.08 L1664.89 1535.08 L1664.89 1516.63 M1663.66 1512.56 L1669.54 1512.56 L1669.54 1535.08 L1674.47 1535.08 L1674.47 1538.97 L1669.54 1538.97 L1669.54 1547.12 L1664.89 1547.12 L1664.89 1538.97 L1649.29 1538.97 L1649.29 1534.46 L1663.66 1512.56 Z\" fill=\"#000000\" fill-rule=\"evenodd\" fill-opacity=\"1\" /><path clip-path=\"url(#clip590)\" d=\"M 0 0 M2059.36 1512.56 L2077.72 1512.56 L2077.72 1516.5 L2063.64 1516.5 L2063.64 1524.97 Q2064.66 1524.62 2065.68 1524.46 Q2066.7 1524.27 2067.72 1524.27 Q2073.5 1524.27 2076.88 1527.44 Q2080.26 1530.62 2080.26 1536.03 Q2080.26 1541.61 2076.79 1544.71 Q2073.32 1547.79 2067 1547.79 Q2064.82 1547.79 2062.55 1547.42 Q2060.31 1547.05 2057.9 1546.31 L2057.9 1541.61 Q2059.99 1542.74 2062.21 1543.3 Q2064.43 1543.86 2066.91 1543.86 Q2070.91 1543.86 2073.25 1541.75 Q2075.59 1539.64 2075.59 1536.03 Q2075.59 1532.42 2073.25 1530.31 Q2070.91 1528.21 2066.91 1528.21 Q2065.03 1528.21 2063.16 1528.62 Q2061.3 1529.04 2059.36 1529.92 L2059.36 1512.56 Z\" fill=\"#000000\" fill-rule=\"evenodd\" fill-opacity=\"1\" /><polyline clip-path=\"url(#clip592)\" style=\"stroke:#000000; stroke-width:2; stroke-opacity:0.1; fill:none\" points=\"\n",
       "  156.598,1445.72 2352.76,1445.72 \n",
       "  \"/>\n",
       "<polyline clip-path=\"url(#clip592)\" style=\"stroke:#000000; stroke-width:2; stroke-opacity:0.1; fill:none\" points=\"\n",
       "  156.598,1123.63 2352.76,1123.63 \n",
       "  \"/>\n",
       "<polyline clip-path=\"url(#clip592)\" style=\"stroke:#000000; stroke-width:2; stroke-opacity:0.1; fill:none\" points=\"\n",
       "  156.598,801.54 2352.76,801.54 \n",
       "  \"/>\n",
       "<polyline clip-path=\"url(#clip592)\" style=\"stroke:#000000; stroke-width:2; stroke-opacity:0.1; fill:none\" points=\"\n",
       "  156.598,479.452 2352.76,479.452 \n",
       "  \"/>\n",
       "<polyline clip-path=\"url(#clip592)\" style=\"stroke:#000000; stroke-width:2; stroke-opacity:0.1; fill:none\" points=\"\n",
       "  156.598,157.364 2352.76,157.364 \n",
       "  \"/>\n",
       "<polyline clip-path=\"url(#clip590)\" style=\"stroke:#000000; stroke-width:4; stroke-opacity:1; fill:none\" points=\"\n",
       "  156.598,1486.45 156.598,47.2441 \n",
       "  \"/>\n",
       "<polyline clip-path=\"url(#clip590)\" style=\"stroke:#000000; stroke-width:4; stroke-opacity:1; fill:none\" points=\"\n",
       "  156.598,1445.72 182.952,1445.72 \n",
       "  \"/>\n",
       "<polyline clip-path=\"url(#clip590)\" style=\"stroke:#000000; stroke-width:4; stroke-opacity:1; fill:none\" points=\"\n",
       "  156.598,1123.63 182.952,1123.63 \n",
       "  \"/>\n",
       "<polyline clip-path=\"url(#clip590)\" style=\"stroke:#000000; stroke-width:4; stroke-opacity:1; fill:none\" points=\"\n",
       "  156.598,801.54 182.952,801.54 \n",
       "  \"/>\n",
       "<polyline clip-path=\"url(#clip590)\" style=\"stroke:#000000; stroke-width:4; stroke-opacity:1; fill:none\" points=\"\n",
       "  156.598,479.452 182.952,479.452 \n",
       "  \"/>\n",
       "<polyline clip-path=\"url(#clip590)\" style=\"stroke:#000000; stroke-width:4; stroke-opacity:1; fill:none\" points=\"\n",
       "  156.598,157.364 182.952,157.364 \n",
       "  \"/>\n",
       "<path clip-path=\"url(#clip590)\" d=\"M 0 0 M63.4226 1431.51 Q59.8115 1431.51 57.9828 1435.08 Q56.1773 1438.62 56.1773 1445.75 Q56.1773 1452.86 57.9828 1456.42 Q59.8115 1459.96 63.4226 1459.96 Q67.0569 1459.96 68.8624 1456.42 Q70.6911 1452.86 70.6911 1445.75 Q70.6911 1438.62 68.8624 1435.08 Q67.0569 1431.51 63.4226 1431.51 M63.4226 1427.81 Q69.2328 1427.81 72.2883 1432.42 Q75.367 1437 75.367 1445.75 Q75.367 1454.48 72.2883 1459.08 Q69.2328 1463.67 63.4226 1463.67 Q57.6125 1463.67 54.5338 1459.08 Q51.4782 1454.48 51.4782 1445.75 Q51.4782 1437 54.5338 1432.42 Q57.6125 1427.81 63.4226 1427.81 Z\" fill=\"#000000\" fill-rule=\"evenodd\" fill-opacity=\"1\" /><path clip-path=\"url(#clip590)\" d=\"M 0 0 M83.5845 1457.12 L88.4688 1457.12 L88.4688 1463 L83.5845 1463 L83.5845 1457.12 Z\" fill=\"#000000\" fill-rule=\"evenodd\" fill-opacity=\"1\" /><path clip-path=\"url(#clip590)\" d=\"M 0 0 M108.654 1431.51 Q105.043 1431.51 103.214 1435.08 Q101.409 1438.62 101.409 1445.75 Q101.409 1452.86 103.214 1456.42 Q105.043 1459.96 108.654 1459.96 Q112.288 1459.96 114.094 1456.42 Q115.922 1452.86 115.922 1445.75 Q115.922 1438.62 114.094 1435.08 Q112.288 1431.51 108.654 1431.51 M108.654 1427.81 Q114.464 1427.81 117.52 1432.42 Q120.598 1437 120.598 1445.75 Q120.598 1454.48 117.52 1459.08 Q114.464 1463.67 108.654 1463.67 Q102.844 1463.67 99.765 1459.08 Q96.7095 1454.48 96.7095 1445.75 Q96.7095 1437 99.765 1432.42 Q102.844 1427.81 108.654 1427.81 Z\" fill=\"#000000\" fill-rule=\"evenodd\" fill-opacity=\"1\" /><path clip-path=\"url(#clip590)\" d=\"M 0 0 M65.0198 1109.43 Q61.4087 1109.43 59.58 1112.99 Q57.7745 1116.53 57.7745 1123.66 Q57.7745 1130.77 59.58 1134.33 Q61.4087 1137.88 65.0198 1137.88 Q68.6541 1137.88 70.4596 1134.33 Q72.2883 1130.77 72.2883 1123.66 Q72.2883 1116.53 70.4596 1112.99 Q68.6541 1109.43 65.0198 1109.43 M65.0198 1105.72 Q70.83 1105.72 73.8855 1110.33 Q76.9642 1114.91 76.9642 1123.66 Q76.9642 1132.39 73.8855 1137 Q70.83 1141.58 65.0198 1141.58 Q59.2097 1141.58 56.131 1137 Q53.0754 1132.39 53.0754 1123.66 Q53.0754 1114.91 56.131 1110.33 Q59.2097 1105.72 65.0198 1105.72 Z\" fill=\"#000000\" fill-rule=\"evenodd\" fill-opacity=\"1\" /><path clip-path=\"url(#clip590)\" d=\"M 0 0 M85.1818 1135.03 L90.066 1135.03 L90.066 1140.91 L85.1818 1140.91 L85.1818 1135.03 Z\" fill=\"#000000\" fill-rule=\"evenodd\" fill-opacity=\"1\" /><path clip-path=\"url(#clip590)\" d=\"M 0 0 M104.279 1136.97 L120.598 1136.97 L120.598 1140.91 L98.6539 1140.91 L98.6539 1136.97 Q101.316 1134.22 105.899 1129.59 Q110.506 1124.94 111.686 1123.59 Q113.932 1121.07 114.811 1119.33 Q115.714 1117.57 115.714 1115.88 Q115.714 1113.13 113.77 1111.39 Q111.848 1109.66 108.746 1109.66 Q106.547 1109.66 104.094 1110.42 Q101.663 1111.19 98.8854 1112.74 L98.8854 1108.01 Q101.709 1106.88 104.163 1106.3 Q106.617 1105.72 108.654 1105.72 Q114.024 1105.72 117.219 1108.41 Q120.413 1111.09 120.413 1115.58 Q120.413 1117.71 119.603 1119.63 Q118.816 1121.53 116.709 1124.13 Q116.131 1124.8 113.029 1128.01 Q109.927 1131.21 104.279 1136.97 Z\" fill=\"#000000\" fill-rule=\"evenodd\" fill-opacity=\"1\" /><path clip-path=\"url(#clip590)\" d=\"M 0 0 M62.9365 787.339 Q59.3254 787.339 57.4967 790.903 Q55.6912 794.445 55.6912 801.575 Q55.6912 808.681 57.4967 812.246 Q59.3254 815.788 62.9365 815.788 Q66.5707 815.788 68.3763 812.246 Q70.205 808.681 70.205 801.575 Q70.205 794.445 68.3763 790.903 Q66.5707 787.339 62.9365 787.339 M62.9365 783.635 Q68.7467 783.635 71.8022 788.241 Q74.8809 792.825 74.8809 801.575 Q74.8809 810.302 71.8022 814.908 Q68.7467 819.491 62.9365 819.491 Q57.1264 819.491 54.0477 814.908 Q50.9921 810.302 50.9921 801.575 Q50.9921 792.825 54.0477 788.241 Q57.1264 783.635 62.9365 783.635 Z\" fill=\"#000000\" fill-rule=\"evenodd\" fill-opacity=\"1\" /><path clip-path=\"url(#clip590)\" d=\"M 0 0 M83.0984 812.94 L87.9827 812.94 L87.9827 818.82 L83.0984 818.82 L83.0984 812.94 Z\" fill=\"#000000\" fill-rule=\"evenodd\" fill-opacity=\"1\" /><path clip-path=\"url(#clip590)\" d=\"M 0 0 M111.015 788.334 L99.2095 806.783 L111.015 806.783 L111.015 788.334 M109.788 784.26 L115.668 784.26 L115.668 806.783 L120.598 806.783 L120.598 810.672 L115.668 810.672 L115.668 818.82 L111.015 818.82 L111.015 810.672 L95.4132 810.672 L95.4132 806.158 L109.788 784.26 Z\" fill=\"#000000\" fill-rule=\"evenodd\" fill-opacity=\"1\" /><path clip-path=\"url(#clip590)\" d=\"M 0 0 M63.2606 465.251 Q59.6495 465.251 57.8208 468.816 Q56.0152 472.357 56.0152 479.487 Q56.0152 486.593 57.8208 490.158 Q59.6495 493.7 63.2606 493.7 Q66.8948 493.7 68.7004 490.158 Q70.5291 486.593 70.5291 479.487 Q70.5291 472.357 68.7004 468.816 Q66.8948 465.251 63.2606 465.251 M63.2606 461.547 Q69.0707 461.547 72.1263 466.154 Q75.205 470.737 75.205 479.487 Q75.205 488.214 72.1263 492.82 Q69.0707 497.403 63.2606 497.403 Q57.4504 497.403 54.3717 492.82 Q51.3162 488.214 51.3162 479.487 Q51.3162 470.737 54.3717 466.154 Q57.4504 461.547 63.2606 461.547 Z\" fill=\"#000000\" fill-rule=\"evenodd\" fill-opacity=\"1\" /><path clip-path=\"url(#clip590)\" d=\"M 0 0 M83.4225 490.853 L88.3067 490.853 L88.3067 496.732 L83.4225 496.732 L83.4225 490.853 Z\" fill=\"#000000\" fill-rule=\"evenodd\" fill-opacity=\"1\" /><path clip-path=\"url(#clip590)\" d=\"M 0 0 M109.071 477.589 Q105.922 477.589 104.071 479.741 Q102.242 481.894 102.242 485.644 Q102.242 489.371 104.071 491.547 Q105.922 493.7 109.071 493.7 Q112.219 493.7 114.047 491.547 Q115.899 489.371 115.899 485.644 Q115.899 481.894 114.047 479.741 Q112.219 477.589 109.071 477.589 M118.353 462.936 L118.353 467.195 Q116.594 466.362 114.788 465.922 Q113.006 465.482 111.246 465.482 Q106.617 465.482 104.163 468.607 Q101.733 471.732 101.385 478.052 Q102.751 476.038 104.811 474.973 Q106.871 473.885 109.348 473.885 Q114.557 473.885 117.566 477.056 Q120.598 480.204 120.598 485.644 Q120.598 490.968 117.45 494.186 Q114.302 497.403 109.071 497.403 Q103.075 497.403 99.9039 492.82 Q96.7326 488.214 96.7326 479.487 Q96.7326 471.292 100.621 466.431 Q104.51 461.547 111.061 461.547 Q112.82 461.547 114.603 461.894 Q116.408 462.242 118.353 462.936 Z\" fill=\"#000000\" fill-rule=\"evenodd\" fill-opacity=\"1\" /><path clip-path=\"url(#clip590)\" d=\"M 0 0 M63.5152 143.163 Q59.9041 143.163 58.0754 146.728 Q56.2699 150.269 56.2699 157.399 Q56.2699 164.505 58.0754 168.07 Q59.9041 171.612 63.5152 171.612 Q67.1494 171.612 68.955 168.07 Q70.7837 164.505 70.7837 157.399 Q70.7837 150.269 68.955 146.728 Q67.1494 143.163 63.5152 143.163 M63.5152 139.459 Q69.3254 139.459 72.3809 144.066 Q75.4596 148.649 75.4596 157.399 Q75.4596 166.126 72.3809 170.732 Q69.3254 175.316 63.5152 175.316 Q57.7051 175.316 54.6264 170.732 Q51.5708 166.126 51.5708 157.399 Q51.5708 148.649 54.6264 144.066 Q57.7051 139.459 63.5152 139.459 Z\" fill=\"#000000\" fill-rule=\"evenodd\" fill-opacity=\"1\" /><path clip-path=\"url(#clip590)\" d=\"M 0 0 M83.6771 168.765 L88.5614 168.765 L88.5614 174.644 L83.6771 174.644 L83.6771 168.765 Z\" fill=\"#000000\" fill-rule=\"evenodd\" fill-opacity=\"1\" /><path clip-path=\"url(#clip590)\" d=\"M 0 0 M108.746 158.232 Q105.413 158.232 103.492 160.015 Q101.594 161.797 101.594 164.922 Q101.594 168.047 103.492 169.829 Q105.413 171.612 108.746 171.612 Q112.08 171.612 114.001 169.829 Q115.922 168.024 115.922 164.922 Q115.922 161.797 114.001 160.015 Q112.103 158.232 108.746 158.232 M104.071 156.242 Q101.061 155.501 99.3715 153.441 Q97.7048 151.381 97.7048 148.418 Q97.7048 144.274 100.645 141.867 Q103.608 139.459 108.746 139.459 Q113.908 139.459 116.848 141.867 Q119.788 144.274 119.788 148.418 Q119.788 151.381 118.098 153.441 Q116.432 155.501 113.445 156.242 Q116.825 157.029 118.7 159.32 Q120.598 161.612 120.598 164.922 Q120.598 169.945 117.52 172.63 Q114.464 175.316 108.746 175.316 Q103.029 175.316 99.9502 172.63 Q96.8947 169.945 96.8947 164.922 Q96.8947 161.612 98.7928 159.32 Q100.691 157.029 104.071 156.242 M102.358 148.857 Q102.358 151.543 104.024 153.047 Q105.714 154.552 108.746 154.552 Q111.756 154.552 113.445 153.047 Q115.158 151.543 115.158 148.857 Q115.158 146.172 113.445 144.668 Q111.756 143.163 108.746 143.163 Q105.714 143.163 104.024 144.668 Q102.358 146.172 102.358 148.857 Z\" fill=\"#000000\" fill-rule=\"evenodd\" fill-opacity=\"1\" /><path clip-path=\"url(#clip592)\" d=\"\n",
       "M277.391 830.972 L277.391 1445.72 L603.153 1445.72 L603.153 830.972 L277.391 830.972 L277.391 830.972  Z\n",
       "  \" fill=\"#009af9\" fill-rule=\"evenodd\" fill-opacity=\"1\"/>\n",
       "<polyline clip-path=\"url(#clip592)\" style=\"stroke:#000000; stroke-width:4; stroke-opacity:1; fill:none\" points=\"\n",
       "  277.391,830.972 277.391,1445.72 603.153,1445.72 603.153,830.972 277.391,830.972 \n",
       "  \"/>\n",
       "<path clip-path=\"url(#clip592)\" d=\"\n",
       "M684.593 87.9763 L684.593 1445.72 L1010.36 1445.72 L1010.36 87.9763 L684.593 87.9763 L684.593 87.9763  Z\n",
       "  \" fill=\"#009af9\" fill-rule=\"evenodd\" fill-opacity=\"1\"/>\n",
       "<polyline clip-path=\"url(#clip592)\" style=\"stroke:#000000; stroke-width:4; stroke-opacity:1; fill:none\" points=\"\n",
       "  684.593,87.9763 684.593,1445.72 1010.36,1445.72 1010.36,87.9763 684.593,87.9763 \n",
       "  \"/>\n",
       "<path clip-path=\"url(#clip592)\" d=\"\n",
       "M1091.8 1388.48 L1091.8 1445.72 L1417.56 1445.72 L1417.56 1388.48 L1091.8 1388.48 L1091.8 1388.48  Z\n",
       "  \" fill=\"#009af9\" fill-rule=\"evenodd\" fill-opacity=\"1\"/>\n",
       "<polyline clip-path=\"url(#clip592)\" style=\"stroke:#000000; stroke-width:4; stroke-opacity:1; fill:none\" points=\"\n",
       "  1091.8,1388.48 1091.8,1445.72 1417.56,1445.72 1417.56,1388.48 1091.8,1388.48 \n",
       "  \"/>\n",
       "<path clip-path=\"url(#clip592)\" d=\"\n",
       "M1499 1155.98 L1499 1445.72 L1824.76 1445.72 L1824.76 1155.98 L1499 1155.98 L1499 1155.98  Z\n",
       "  \" fill=\"#009af9\" fill-rule=\"evenodd\" fill-opacity=\"1\"/>\n",
       "<polyline clip-path=\"url(#clip592)\" style=\"stroke:#000000; stroke-width:4; stroke-opacity:1; fill:none\" points=\"\n",
       "  1499,1155.98 1499,1445.72 1824.76,1445.72 1824.76,1155.98 1499,1155.98 \n",
       "  \"/>\n",
       "<path clip-path=\"url(#clip592)\" d=\"\n",
       "M1906.2 1118.17 L1906.2 1445.72 L2231.96 1445.72 L2231.96 1118.17 L1906.2 1118.17 L1906.2 1118.17  Z\n",
       "  \" fill=\"#009af9\" fill-rule=\"evenodd\" fill-opacity=\"1\"/>\n",
       "<polyline clip-path=\"url(#clip592)\" style=\"stroke:#000000; stroke-width:4; stroke-opacity:1; fill:none\" points=\"\n",
       "  1906.2,1118.17 1906.2,1445.72 2231.96,1445.72 2231.96,1118.17 1906.2,1118.17 \n",
       "  \"/>\n",
       "<path clip-path=\"url(#clip590)\" d=\"\n",
       "M1983.1 216.178 L2279.55 216.178 L2279.55 95.2176 L1983.1 95.2176  Z\n",
       "  \" fill=\"#ffffff\" fill-rule=\"evenodd\" fill-opacity=\"1\"/>\n",
       "<polyline clip-path=\"url(#clip590)\" style=\"stroke:#000000; stroke-width:4; stroke-opacity:1; fill:none\" points=\"\n",
       "  1983.1,216.178 2279.55,216.178 2279.55,95.2176 1983.1,95.2176 1983.1,216.178 \n",
       "  \"/>\n",
       "<path clip-path=\"url(#clip590)\" d=\"\n",
       "M2007.5 179.89 L2153.92 179.89 L2153.92 131.506 L2007.5 131.506 L2007.5 179.89  Z\n",
       "  \" fill=\"#009af9\" fill-rule=\"evenodd\" fill-opacity=\"1\"/>\n",
       "<polyline clip-path=\"url(#clip590)\" style=\"stroke:#000000; stroke-width:4; stroke-opacity:1; fill:none\" points=\"\n",
       "  2007.5,179.89 2153.92,179.89 2153.92,131.506 2007.5,131.506 2007.5,179.89 \n",
       "  \"/>\n",
       "<path clip-path=\"url(#clip590)\" d=\"M 0 0 M2192.16 175.385 Q2190.35 180.015 2188.64 181.427 Q2186.93 182.839 2184.06 182.839 L2180.65 182.839 L2180.65 179.274 L2183.15 179.274 Q2184.91 179.274 2185.89 178.44 Q2186.86 177.607 2188.04 174.505 L2188.8 172.561 L2178.32 147.052 L2182.83 147.052 L2190.93 167.329 L2199.03 147.052 L2203.55 147.052 L2192.16 175.385 Z\" fill=\"#000000\" fill-rule=\"evenodd\" fill-opacity=\"1\" /><path clip-path=\"url(#clip590)\" d=\"M 0 0 M2210.84 169.042 L2218.48 169.042 L2218.48 142.677 L2210.17 144.343 L2210.17 140.084 L2218.43 138.418 L2223.11 138.418 L2223.11 169.042 L2230.75 169.042 L2230.75 172.978 L2210.84 172.978 L2210.84 169.042 Z\" fill=\"#000000\" fill-rule=\"evenodd\" fill-opacity=\"1\" /></svg>\n"
      ]
     },
     "execution_count": 13,
     "metadata": {},
     "output_type": "execute_result"
    }
   ],
   "source": [
    "bar(X, Y)"
   ]
  },
  {
   "cell_type": "code",
   "execution_count": null,
   "metadata": {},
   "outputs": [],
   "source": []
  }
 ],
 "metadata": {
  "kernelspec": {
   "display_name": "Julia 1.5.4",
   "language": "julia",
   "name": "julia-1.5"
  },
  "language_info": {
   "file_extension": ".jl",
   "mimetype": "application/julia",
   "name": "julia",
   "version": "1.5.4"
  }
 },
 "nbformat": 4,
 "nbformat_minor": 2
}
